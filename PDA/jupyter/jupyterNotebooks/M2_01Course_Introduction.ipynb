{
 "cells": [
  {
   "cell_type": "markdown",
   "metadata": {},
   "source": [
    "<center><font size=\"+4\">Programming and Data Analytics 2 2021/2022</font></center>\n",
    "<center><font size=\"+2\">Sant'Anna School of Advanced Studies, Pisa, Italy</font></center>\n",
    "<center><img src=\"https://github.com/EMbeDS-education/StatsAndComputing20212022/raw/main/PDA/jupyter/jupyterNotebooks/images/SSSA.png\" width=\"700\" alt=\"EMbeDS\"></center>\n",
    "\n",
    "<center><font size=\"+2\">Course responsible</font></center>\n",
    "<center><font size=\"+2\">Andrea Vandin a.vandin@santannapisa.it</font></center>\n",
    "\n",
    "<center><font size=\"+2\">Co-lecturer </font></center>\n",
    "<center><font size=\"+2\">Daniele Licari d.licari@santannapisa.it</font></center>\n",
    "\n",
    "---"
   ]
  },
  {
   "cell_type": "markdown",
   "metadata": {},
   "source": [
    "<center><font size=\"+4\">Part 1</font></center>\n",
    "<center><font size=\"+4\">Lecture 1: Course introduction</font></center>"
   ]
  },
  {
   "cell_type": "markdown",
   "metadata": {},
   "source": [
    "---"
   ]
  },
  {
   "cell_type": "markdown",
   "metadata": {
    "jp-MarkdownHeadingCollapsed": true,
    "tags": []
   },
   "source": [
    "# Course website & material\n",
    "All material used in this course, including jupyter notebooks, datasets, schedule are available at\n",
    "- https://github.com/EMbeDS-education/StatsAndComputing20212022/wiki/PDA\n",
    "\n",
    "__This is the second module of PDA__\n",
    "- In Module 1 we learned about programming well, python, jupyter-lab\n",
    "  - **If you are not familiar with any of these topics: go through the material of Module 1**, available in the above link"
   ]
  },
  {
   "cell_type": "markdown",
   "metadata": {},
   "source": [
    "# Course structure\n",
    "\n",
    "**Part 1: _We first build our toolset_**\n",
    "- Topics\n",
    "  - Advanced Libraries for data manipulation/visualization \n",
    "    - Matplotlib\n",
    "    - NumPy\n",
    "    - Pandas\n",
    "  - Exploratory Data Analysis (EDA) on the Titanic Dataset \n",
    "  - Project work\n",
    "- When\n",
    "  - Classes 1-3\n",
    "  - Blended mode in Aula 3\n",
    "\n",
    "\n",
    "**Part 2, _We apply our toolset on a concrete Machine Learning case study_** \n",
    "- Topics    \n",
    "  - [Breast Cancer Wisconsin (Diagnostic) Data Set](https://archive.ics.uci.edu/ml/datasets/Breast+Cancer+Wisconsin+(Diagnostic)) \n",
    "    - Exploratory Data Analysis (data pre-processing, outliers detection, ...)\n",
    "    - Dimensionality Reduction (PCA)\n",
    "    - Clustering (K-means)\n",
    "    - Classification (of Benign and Malignant Breast Cancer)\n",
    "- When\n",
    "  - Classes 4-6\n",
    "  - Blended mode in Aula 3\n",
    "\n",
    "\n",
    "**Part 3, _Research-oriented topics_** \n",
    "- Topics\n",
    "  - [Knime](https://www.knime.com/): a graphical language for complex data analysis tasks\n",
    "  - Process-oriented Data Science: [Process mining](https://pm4py.fit.fraunhofer.de/getting-started-page#understanding)\n",
    "- When\n",
    "  - Classes 7-8\n",
    "  - Blended mode in Aula 3"
   ]
  },
  {
   "cell_type": "markdown",
   "metadata": {},
   "source": [
    "# Learning objectives\n",
    "A student who has met the objectives of the course will be able to: \n",
    "- **describe** and **use** advanced Python libraries for data anlytics and AI\n",
    "- **apply** such libraries to medium-complexity problems\n",
    "- **describe** modern graphical programming languages for data analysis\n",
    "- **describe** the pipeline of steps/problems common in data analysis tasks\n",
    "- **describe** and **use** process-oriented data science techniques \n",
    "- **communicate** analysis results in a clear and precise manner using popular web-based editors"
   ]
  },
  {
   "cell_type": "markdown",
   "metadata": {},
   "source": [
    "# How are we going to evaluate you?\n"
   ]
  },
  {
   "cell_type": "markdown",
   "metadata": {
    "jp-MarkdownHeadingCollapsed": true,
    "tags": []
   },
   "source": [
    "## Oral examination based on a project report\n",
    "* You will be given a simple _classic_ dataset\n",
    "  * Would have you survived the Titanic shipwreck?\n",
    "  * Or you can propose one of interest if any\n",
    "    - Please contact us\n",
    "    - You can do this only if we explicitly agree\n",
    "* You will be asked to do a data-analysis project \n",
    "* You can form __groups of 3 students__\n",
    "* We will do a group oral examination based on your project"
   ]
  },
  {
   "cell_type": "markdown",
   "metadata": {},
   "source": [
    "## The project\n",
    "- Consider the **Titanic** dataset available in our [dataset folder](https://github.com/EMbeDS-education/StatsAndComputing20212022/wiki/Datasets) with a **description**\n",
    "  - Or contact us if you want to propose a dataset of interest.\n",
    "- It contains information on 1309 passengers\n",
    "  - 14 properties/attributes\n",
    "  - 1 target variable on the survival of the passenger\n",
    "- __Your task is to analyze this dataset in the lines of what shown in the course__\n",
    "  - The final goal is to **obtain a classifier able to predict the survival probability of a hypotethical passenger**\n",
    "    - Or other classification tasks to be agreed on if you use a dataset of interest\n",
    "  - BEWARE: \n",
    "    - Try first to understand the data. Read the provided description. \n",
    "    - Not all datasets are the same\n",
    "      - Do not just blindly apply all tasks seen in class, with the same parameters. \n",
    "      - Try to perform reasoned choices.\n",
    "      -  You are free to choose part of the techniques/tools seen during the course\n",
    "         - **Motivate your choices**\n",
    "    - You should prepare and submit a [jupyterLab notebook](https://jupyterlab.readthedocs.io/en/stable/) containing your analysis\n",
    "      - **Properly commenting/motivating each step with suitable comments**\n",
    "      - Similarly to what we do in the jupyterLab notebooks we use in our classes"
   ]
  },
  {
   "cell_type": "markdown",
   "metadata": {
    "jp-MarkdownHeadingCollapsed": true,
    "tags": []
   },
   "source": [
    "### NLP Newsgroups Project\n",
    "Alternatively, \n",
    "- [The dataset](https://colab.research.google.com/drive/12VYt8Z7wXnTKZUHS9NciAE57whZ4KcnU?usp=sharing) includes 3732 newsgroups posts on 4 topics:\n",
    "  - sports\n",
    "  - politics\n",
    "  - medicine\n",
    "  - computer graphics\n",
    "\n",
    "- It contains \n",
    "  - 1 textual data\n",
    "  - 1 target variable on the topic\n",
    "\n",
    "- __Your task is to analyze this dataset in the lines of what shown in the course__\n",
    "  - The final goal is to **obtain a classifier able to predict the topic of new posts**\n"
   ]
  },
  {
   "cell_type": "markdown",
   "metadata": {},
   "source": [
    "## Form your group!"
   ]
  },
  {
   "cell_type": "markdown",
   "metadata": {},
   "source": [
    ">Please __form a group and add it [here](https://docs.google.com/document/d/1_a5ohtg1Uhuz1lj0x7xuvQibPh84k96wGD19D76O4Vs/edit?usp=sharing)__\n",
    "> - __DO IT BY NEXT CLASS__"
   ]
  },
  {
   "cell_type": "code",
   "execution_count": 2,
   "metadata": {},
   "outputs": [
    {
     "data": {
      "text/html": [
       "\n",
       "        <iframe\n",
       "            width=\"1300\"\n",
       "            height=\"700\"\n",
       "            src=\"https://docs.google.com/document/d/1_a5ohtg1Uhuz1lj0x7xuvQibPh84k96wGD19D76O4Vs/edit?usp=sharing\"\n",
       "            frameborder=\"0\"\n",
       "            allowfullscreen\n",
       "            \n",
       "        ></iframe>\n",
       "        "
      ],
      "text/plain": [
       "<IPython.lib.display.IFrame at 0x7f91d8333910>"
      ]
     },
     "execution_count": 2,
     "metadata": {},
     "output_type": "execute_result"
    }
   ],
   "source": [
    "from IPython.display import IFrame\n",
    "IFrame(\"https://docs.google.com/document/d/1_a5ohtg1Uhuz1lj0x7xuvQibPh84k96wGD19D76O4Vs/edit?usp=sharing\", 1300, 700)"
   ]
  },
  {
   "cell_type": "markdown",
   "metadata": {},
   "source": [
    "---"
   ]
  },
  {
   "cell_type": "markdown",
   "metadata": {
    "tags": []
   },
   "source": [
    "# Kahoot"
   ]
  },
  {
   "cell_type": "markdown",
   "metadata": {},
   "source": [
    "<!-- ![Last kahoot meme](images/lastKahootMeme.jpg) -->\n",
    "\n",
    "But now, the most entertaining part of PDA :D\n",
    "- Let's Kahoot!"
   ]
  },
  {
   "cell_type": "markdown",
   "metadata": {},
   "source": [
    "How?\n",
    "* Using your phone or a different display go to [https://kahoot.it/](https://kahoot.it/)\n",
    "* Type the given PIN"
   ]
  },
  {
   "cell_type": "code",
   "execution_count": 3,
   "metadata": {},
   "outputs": [
    {
     "data": {
      "text/html": [
       "\n",
       "        <iframe\n",
       "            width=\"500\"\n",
       "            height=\"400\"\n",
       "            src=\"https://kahoot.it/\"\n",
       "            frameborder=\"0\"\n",
       "            allowfullscreen\n",
       "            \n",
       "        ></iframe>\n",
       "        "
      ],
      "text/plain": [
       "<IPython.lib.display.IFrame at 0x7f91d833ae50>"
      ]
     },
     "execution_count": 3,
     "metadata": {},
     "output_type": "execute_result"
    }
   ],
   "source": [
    "from IPython.display import IFrame\n",
    "IFrame(\"https://kahoot.it/\", 500, 400)"
   ]
  },
  {
   "cell_type": "code",
   "execution_count": null,
   "metadata": {},
   "outputs": [],
   "source": []
  }
 ],
 "metadata": {
  "kernelspec": {
   "display_name": "Python 3 (ipykernel)",
   "language": "python",
   "name": "python3"
  },
  "language_info": {
   "codemirror_mode": {
    "name": "ipython",
    "version": 3
   },
   "file_extension": ".py",
   "mimetype": "text/x-python",
   "name": "python",
   "nbconvert_exporter": "python",
   "pygments_lexer": "ipython3",
   "version": "3.9.10"
  },
  "toc-autonumbering": true
 },
 "nbformat": 4,
 "nbformat_minor": 4
}
