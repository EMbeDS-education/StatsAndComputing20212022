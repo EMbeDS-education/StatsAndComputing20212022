{
 "cells": [
  {
   "cell_type": "markdown",
   "metadata": {},
   "source": [
    "<center><font size=\"+4\">Programming and Data Analytics 1 2021/2022</font></center>\n",
    "<center><font size=\"+2\">Sant'Anna School of Advanced Studies, Pisa, Italy</font></center>\n",
    "<center><img src=\"https://github.com/EMbeDS-education/StatsAndComputing20212022/raw/main/PDA/jupyter/jupyterNotebooks/images/SSSA.png\" width=\"700\" alt=\"The extensible parallel architecture of MultiVeStA\"></center>\n",
    "\n",
    "<center><font size=\"+2\">Course responsible</font></center>\n",
    "<center><font size=\"+2\">Andrea Vandin a.vandin@santannapisa.it</font></center>\n",
    "\n",
    "<center><font size=\"+2\">Co-lecturer </font></center>\n",
    "<center><font size=\"+2\">Daniele Licari d.licari@santannapisa.it</font></center>\n",
    "\n",
    "---"
   ]
  },
  {
   "cell_type": "markdown",
   "metadata": {
    "id": "PzTk_3lR7k5D"
   },
   "source": [
    "<center><font size=\"+4\">Assignments for</font></center>\n",
    "<center><font size=\"+4\">Lecture 2: Data Types and Operations</font></center>\n",
    "\n",
    "---"
   ]
  },
  {
   "cell_type": "code",
   "execution_count": null,
   "metadata": {
    "cellView": "form",
    "colab": {
     "base_uri": "https://localhost:8080/"
    },
    "executionInfo": {
     "elapsed": 967,
     "status": "ok",
     "timestamp": 1622903531239,
     "user": {
      "displayName": "Daniele Licari",
      "photoUrl": "https://lh3.googleusercontent.com/a-/AOh14GgLeN60kpJtdBKQxyRrU7GwxagDOGnFA3G3Z8BwMA=s64",
      "userId": "01113523768495748338"
     },
     "user_tz": -120
    },
    "id": "p666zbf89eCD",
    "outputId": "fbc98a7b-0845-4299-99c9-696668f73132"
   },
   "outputs": [],
   "source": [
    "#@title RUN, BUT DO NOT MODIFY\n",
    "!curl -O  https://raw.githubusercontent.com/EMbeDS-education/StatsAndComputing20212022/main/PDA/jupyter/jupyterNotebooks/assignments/auto_testing.py\n",
    "%reload_ext autoreload\n",
    "%autoreload 2\n",
    "from auto_testing import *"
   ]
  },
  {
   "cell_type": "markdown",
   "metadata": {
    "id": "Om177ojl7k5J"
   },
   "source": [
    "# Assignment 02.01: Sum of three numbers\n",
    "## Statement\n",
    "\n",
    "Write a program that takes three numbers and prints their sum. \n",
    "\n",
    "Every number is given on a separate line.\n",
    "\n",
    "## Example input\n",
    "\n",
    "```\n",
    "2\n",
    "3\n",
    "6\n",
    "```\n",
    "    \n",
    "## Example output\n",
    "\n",
    "```\n",
    "11\n",
    "```\n",
    "\n",
    "## Hint\n",
    "The program already shows you how to read and sum two integers.\n",
    "\n",
    "You have to extend it allowing for a third input."
   ]
  },
  {
   "cell_type": "markdown",
   "metadata": {
    "id": "FMZE1vmMbRLz"
   },
   "source": [
    "## Write your solution here\n",
    "\n",
    "\n",
    "*   Do not change the first line (`def ...():`)\n",
    "*   Maintain the given indentation\n",
    "*   You can run some tests by yourself by decommenting the last line\n",
    "\n"
   ]
  },
  {
   "cell_type": "code",
   "execution_count": null,
   "metadata": {
    "executionInfo": {
     "elapsed": 22,
     "status": "ok",
     "timestamp": 1622903531240,
     "user": {
      "displayName": "Daniele Licari",
      "photoUrl": "https://lh3.googleusercontent.com/a-/AOh14GgLeN60kpJtdBKQxyRrU7GwxagDOGnFA3G3Z8BwMA=s64",
      "userId": "01113523768495748338"
     },
     "user_tz": -120
    },
    "id": "Yg4jeBnA7k5K"
   },
   "outputs": [],
   "source": [
    "def asgn02_01Sum_of_three_numbers():\n",
    "    # This program reads two numbers and prints their sum:\n",
    "    a = int(input())\n",
    "    b = int(input())\n",
    "    print(a + b)\n",
    "    # Can you change it so it can read and sum three numbers?\n",
    "\n",
    "\n",
    "#You can test independently your solution by executing the following line\n",
    "#asgn02_01Sum_of_three_numbers()"
   ]
  },
  {
   "cell_type": "markdown",
   "metadata": {
    "id": "_lqTangP8R46"
   },
   "source": [
    "## Run the following cells to perform the provided tests"
   ]
  },
  {
   "cell_type": "code",
   "execution_count": null,
   "metadata": {
    "cellView": "form",
    "id": "fwX9u8aW7k5L"
   },
   "outputs": [],
   "source": [
    "#@title RUN and TEST ALL\n",
    "#@markdown 1. TEST 1+2+3 = 6 \n",
    "#@markdown 2. TEST -1+-2+10 = 7\n",
    "#@markdown 3. TEST 2+3+6 = 11\n",
    "#@markdown 4. TEST 0+300+20 = 320\n",
    "\n",
    "\n",
    "inputs=[[1,2,3],[-1,-2,10],[2,3,6],[0,300,20]]\n",
    "expected_outputs=[ [\"6\"],[\"7\"],[\"11\"],[\"320\"]]\n",
    "\n",
    "for k in range(len(inputs)):\n",
    "    print('-'*60)\n",
    "    run_and_test(inputs[k],expected_outputs[k],asgn02_01Sum_of_three_numbers)\n",
    "\n",
    "\n"
   ]
  },
  {
   "cell_type": "markdown",
   "metadata": {
    "id": "1JMDln-vIKRB"
   },
   "source": [
    "# Assignment 02.02: Area of right triangle\n",
    "## Statement\n",
    "\n",
    "Write a program that reads the length of the base and the height of a right-angled triangle and prints the area. Every number is given on a separate line.\n",
    "\n",
    " \n",
    "\n",
    "## Example input\n",
    "\n",
    "```\n",
    "3\n",
    "5\n",
    "```\n",
    "\n",
    "## Example output\n",
    "\n",
    "```\n",
    "7.5\n",
    "```\n",
    "\n",
    "## Hints\n",
    "\n",
    "In class we have seen how to read numbers and how to compute arithmetic expressions. \n",
    "\n",
    "Just provide the code to read the necessary input and to compute the required expression."
   ]
  },
  {
   "cell_type": "markdown",
   "metadata": {
    "id": "IROCYUDQb0t7"
   },
   "source": [
    "## Write your solution here\n",
    "\n",
    "\n",
    "*   Do not change the first line (`def ...():`)\n",
    "*   Maintain the given indentation\n",
    "*   You can run some tests by yourself by decommenting the last line\n",
    "\n"
   ]
  },
  {
   "cell_type": "code",
   "execution_count": null,
   "metadata": {
    "executionInfo": {
     "elapsed": 412,
     "status": "ok",
     "timestamp": 1622903813863,
     "user": {
      "displayName": "Daniele Licari",
      "photoUrl": "https://lh3.googleusercontent.com/a-/AOh14GgLeN60kpJtdBKQxyRrU7GwxagDOGnFA3G3Z8BwMA=s64",
      "userId": "01113523768495748338"
     },
     "user_tz": -120
    },
    "id": "QtPMkR0aJRYv"
   },
   "outputs": [],
   "source": [
    "def asgn02_02Area_of_right_triangle():\n",
    "    # Read the numbers b and h like this:\n",
    "    b = int(input())\n",
    "\n",
    "    # Print the result with print()\n",
    "    print('ciao')\n",
    "\n",
    "    \n",
    "#You can test independently your solution by executing the following line\n",
    "#asgn02_02Area_of_right_triangle()"
   ]
  },
  {
   "cell_type": "markdown",
   "metadata": {
    "id": "HcoyoBpScQ7f"
   },
   "source": [
    "## Run the following cells to perform the provided tests"
   ]
  },
  {
   "cell_type": "code",
   "execution_count": null,
   "metadata": {
    "cellView": "form",
    "id": "eSTVUwPMJiEZ"
   },
   "outputs": [],
   "source": [
    "#@title RUN and TEST ALL\n",
    "#@markdown 1. TEST 0,0 = 0\n",
    "#@markdown 2. TEST 3,5 = 7.5\n",
    "#@markdown 3. TEST 10,2 = 10.0\n",
    "#@markdown 4. TEST 179,1534 = 137293.0\n",
    "#@markdown 5. TEST 1543,57 = 43975.5\n",
    "\n",
    "inputs=[[0,0],[3,5], [10,2],[179,1534], [1543,57]]\n",
    "expected_outputs=[ [\"0.0\"],[\"7.5\"], [\"10.0\"], ['137293.0'],[\"43975.5\"]]\n",
    "\n",
    "for k in range(len(inputs)):\n",
    "    print('-'*60)\n",
    "    run_and_test(inputs[k],expected_outputs[k],asgn02_02Area_of_right_triangle)\n",
    "\n",
    "\n"
   ]
  },
  {
   "cell_type": "markdown",
   "metadata": {
    "id": "CvRjQW_ITQ8T"
   },
   "source": [
    "# Assignment 02.03: Apple Sharing\n",
    "## Statement\n",
    "\n",
    "`Ns` students take `Na` apples and distribute them among each other evenly. \n",
    "\n",
    "The students do not have knives, therefore only whole apples can be distributed. The remaining (the indivisible) part remains in the basket. \n",
    "\n",
    "- How many apples will every student get? \n",
    "- How many apples will remain in the basket?\n",
    "\n",
    "Write a program that reads the numbers `Ns` and `Na` given in two lines. \n",
    "\n",
    "The program should print the answers to the questions above in two lines.\n",
    "\n",
    "\n",
    "## Example input\n",
    "\n",
    "```\n",
    "6\n",
    "50\n",
    "```\n",
    "\n",
    "## Example output\n",
    "\n",
    "```\n",
    "8\n",
    "2\n",
    "```\n",
    "\n",
    "This is because 50 over 6 is 8 with the remainder of 2.\n",
    "\n"
   ]
  },
  {
   "cell_type": "markdown",
   "metadata": {
    "id": "Lr-UYAK6b18z"
   },
   "source": [
    "## Write your solution here\n",
    "\n",
    "\n",
    "*   Do not change the first line (`def ...():`)\n",
    "*   Maintain the given indentation\n",
    "*   You can run some tests by yourself by decommenting the last line\n",
    "\n"
   ]
  },
  {
   "cell_type": "code",
   "execution_count": null,
   "metadata": {
    "executionInfo": {
     "elapsed": 424,
     "status": "ok",
     "timestamp": 1622903961442,
     "user": {
      "displayName": "Daniele Licari",
      "photoUrl": "https://lh3.googleusercontent.com/a-/AOh14GgLeN60kpJtdBKQxyRrU7GwxagDOGnFA3G3Z8BwMA=s64",
      "userId": "01113523768495748338"
     },
     "user_tz": -120
    },
    "id": "ghJWGiEPUD9v"
   },
   "outputs": [],
   "source": [
    "def asgn02_03Apple_sharing():\n",
    "    # Read the numbers like this:\n",
    "    Ns = int(input())\n",
    "\n",
    "    # Print the result with print()\n",
    "    print(63 * 5)\n",
    "\n",
    "    \n",
    "#You can test independently your solution by executing the following line\n",
    "#asgn02_03Apple_sharing()"
   ]
  },
  {
   "cell_type": "markdown",
   "metadata": {
    "id": "XJA5H0ULcVAM"
   },
   "source": [
    "## Run the following cells to perform the provided tests"
   ]
  },
  {
   "cell_type": "code",
   "execution_count": null,
   "metadata": {
    "cellView": "form",
    "id": "Gzq6fN8PUD9w"
   },
   "outputs": [],
   "source": [
    "#@title RUN and TEST ALL\n",
    "#@markdown 1. TEST 6,50 = 8,2\n",
    "inputs=[6,50]\n",
    "expected_outputs=[\"8\",\"2\"]\n",
    "run_and_test(inputs,expected_outputs,asgn02_03Apple_sharing)\n",
    "\n",
    "#@markdown 2. TEST 1,10 = 10,0\n",
    "inputs=[1,10]\n",
    "expected_outputs=[\"10\",\"0\"]\n",
    "run_and_test(inputs,expected_outputs,asgn02_03Apple_sharing)\n",
    "\n",
    "#@markdown 3. TEST 5,25 = 5,0\n",
    "inputs=[5,25]\n",
    "expected_outputs=[\"5\",\"0\"]\n",
    "run_and_test(inputs,expected_outputs,asgn02_03Apple_sharing)\n",
    "\n",
    "#@markdown 4. TEST 4,2 = 0,2\n",
    "inputs=[4,2]\n",
    "expected_outputs=[\"0\",\"2\"]\n",
    "run_and_test(inputs,expected_outputs,asgn02_03Apple_sharing)\n",
    "\n",
    "#@markdown 5. TEST 4,17 = 4,1\n",
    "inputs=[4,17]\n",
    "expected_outputs=[\"4\",\"1\"]\n",
    "run_and_test(inputs,expected_outputs,asgn02_03Apple_sharing)"
   ]
  },
  {
   "cell_type": "markdown",
   "metadata": {
    "id": "vp1gh0-oW_Uz"
   },
   "source": [
    "# Assignment 02.04: Two Timestamps\n",
    "## Statement\n",
    "\n",
    "A timestamp consists of 3 integer numbers: \n",
    "\n",
    " hours\n",
    "\n",
    " minutes\n",
    "\n",
    " seconds\n",
    "\n",
    "Given two timestamps, we are interested in computing how much time passed between the two.\n",
    "\n",
    "Write a program that reads two timestamps, written in 3 lines each, and computes how many seconds passed between them. The computed elapsed seconds should be print on console.\n",
    "\n",
    "## Example input #1\n",
    "\n",
    "```\n",
    "1\n",
    "```\n",
    "\n",
    "```\n",
    "1\n",
    "```\n",
    "\n",
    "```\n",
    "1\n",
    "```\n",
    "\n",
    "```\n",
    "1\n",
    "```\n",
    "\n",
    "```\n",
    "1\n",
    "```\n",
    "\n",
    "```\n",
    "2\n",
    "```\n",
    "\n",
    "## Example output #1\n",
    "\n",
    "```\n",
    "1\n",
    "```\n",
    "\n",
    "In fact, the first timestamp reads '1 hour, 1 minute, 1 second', while the second reads '1 hour, 1 minute, 2 seconds'\n",
    "\n",
    "## Example input #2\n",
    "\n",
    "```\n",
    "1\n",
    "```\n",
    "\n",
    "```\n",
    "1\n",
    "```\n",
    "\n",
    "```\n",
    "1\n",
    "```\n",
    "\n",
    "```\n",
    "1\n",
    "```\n",
    "\n",
    "```\n",
    "2\n",
    "```\n",
    "\n",
    "```\n",
    "1\n",
    "```\n",
    "\n",
    "## Example output #2\n",
    "\n",
    "```\n",
    "60\n",
    "```\n",
    "\n",
    "In fact, the first timestamp reads '1 hour, 1 minute, 1 second', while the second reads '1 hour, 2 minutes, 1 seconds'. Therefore 1 minute passed\n",
    "\n",
    "## Example input #3\n",
    "\n",
    "```\n",
    "1\n",
    "```\n",
    "\n",
    "```\n",
    "1\n",
    "```\n",
    "\n",
    "```\n",
    "1\n",
    "```\n",
    "\n",
    "```\n",
    "2\n",
    "```\n",
    "\n",
    "```\n",
    "2\n",
    "```\n",
    "\n",
    "```\n",
    "2\n",
    "```\n",
    "\n",
    "## Example output #3\n",
    "\n",
    "```\n",
    "3661\n",
    "```\n",
    "\n",
    "## Example input #4\n",
    "\n",
    "```\n",
    "1\n",
    "```\n",
    "\n",
    "```\n",
    "2\n",
    "```\n",
    "\n",
    "```\n",
    "30\n",
    "```\n",
    "\n",
    "```\n",
    "1\n",
    "```\n",
    "\n",
    "```\n",
    "3\n",
    "```\n",
    "\n",
    "```\n",
    "20\n",
    "```\n",
    "\n",
    "## Example output #4\n",
    "\n",
    "```\n",
    "50\n",
    "```\n",
    "\n",
    "## Hints\n",
    "\n",
    "This assignment is about reading 2 timestamps (therefore 6 integers), converting each timestamp in seconds, and printing their difference. \n",
    "\n"
   ]
  },
  {
   "cell_type": "markdown",
   "metadata": {
    "id": "yxSBbjLHb3oD"
   },
   "source": [
    "## Write your solution here\n",
    "\n",
    "\n",
    "*   Do not change the first line (`def ...():`)\n",
    "*   Maintain the given indentation\n",
    "*   You can run some tests by yourself by decommenting the last line\n",
    "\n"
   ]
  },
  {
   "cell_type": "code",
   "execution_count": null,
   "metadata": {
    "executionInfo": {
     "elapsed": 407,
     "status": "ok",
     "timestamp": 1622906030486,
     "user": {
      "displayName": "Daniele Licari",
      "photoUrl": "https://lh3.googleusercontent.com/a-/AOh14GgLeN60kpJtdBKQxyRrU7GwxagDOGnFA3G3Z8BwMA=s64",
      "userId": "01113523768495748338"
     },
     "user_tz": -120
    },
    "id": "JJGLyJRHXpUj"
   },
   "outputs": [],
   "source": [
    "def asgn02_04Two_timestamps():\n",
    "    # Read an integer:\n",
    "    a = int(input())\n",
    "    Print a value:\n",
    "    print(a)\n",
    "\n",
    "    \n",
    "#You can test independently your solution by executing the following line\n",
    "#asgn02_04Two_timestamps()"
   ]
  },
  {
   "cell_type": "markdown",
   "metadata": {
    "id": "1h-DDMvJcZLw"
   },
   "source": [
    "## Run the following cells to perform the provided tests"
   ]
  },
  {
   "cell_type": "code",
   "execution_count": null,
   "metadata": {
    "cellView": "form",
    "id": "fIAFSI4iu59P"
   },
   "outputs": [],
   "source": [
    "#@title RUN and TEST ALL\n",
    "\n",
    "from IPython.display import display, Markdown \n",
    "\n",
    "inputs=[[1,1,1,1,1,2],[1,1,1,2,2,2],[1,2,30,1,3,20],[6,54,4,14,18,42],[1,49,28,14,7,55],[4,16,9,12,6,7],[5,13,38,5,13,38]]\n",
    "expected_outputs=[ [\"1\"],[\"3661\"],[\"50\"],[\"26678\"],[\"44307\"],[\"28198\"],[\"0\"]]\n",
    "    \n",
    "for k in range(len(inputs)):\n",
    "    display(Markdown(f'{k+1}. TEST {inputs[k]} = {expected_outputs[k][0]}'))\n",
    "    print('-'*60)\n",
    "    run_and_test(inputs[k],expected_outputs[k],asgn02_04Two_timestamps)\n",
    "\n",
    "\n"
   ]
  },
  {
   "cell_type": "markdown",
   "metadata": {
    "id": "OnrjmucdZwi7"
   },
   "source": [
    "# Assignment 02.05: Playing with strings\n",
    "## Statement\n",
    "\n",
    "You are given a string containing at least 5 characters.\n",
    "\n",
    "1. In the first line, print the third character of this string.\n",
    "2. In the second line, print the second to last character of this string (the second-last).\n",
    "3. In the third line, print the first five characters of this string.\n",
    "4. In the fourth line, print all but the last two characters of this string.\n",
    "5. In the fifth line, print the word with all characters in upper-case\n",
    "6. In the sixth line, print the word with all characters in lower-case\n",
    "7. In the eigth line, print the length of the given string.\n",
    "\n",
    "## Example input\n",
    "\n",
    "```\n",
    "Abrakadabra\n",
    "```\n",
    "\n",
    "## Example output\n",
    "\n",
    "```\n",
    "r\n",
    "r\n",
    "Abrak\n",
    "Abrakadab\n",
    "```\n",
    "\n",
    "```\n",
    "ABRAKADABRA\n",
    "```\n",
    "\n",
    "```\n",
    "abrakadabra\n",
    "11\n",
    "```\n",
    "\n",
    "## Hints\n",
    "\n",
    "In class we have seen how to perform all the required tasks. Review the used jupyter file. \n",
    "\n",
    "Remember: we start counting characters from 0 to len-1, where len is the length of the string."
   ]
  },
  {
   "cell_type": "markdown",
   "metadata": {
    "id": "BvlV5RRBcH1P"
   },
   "source": [
    "## Write your solution here\n",
    "\n",
    "\n",
    "*   Do not change the first line (`def ...():`)\n",
    "*   Maintain the given indentation\n",
    "*   You can run some tests by yourself by decommenting the last line\n",
    "\n"
   ]
  },
  {
   "cell_type": "code",
   "execution_count": null,
   "metadata": {
    "executionInfo": {
     "elapsed": 411,
     "status": "ok",
     "timestamp": 1622906826650,
     "user": {
      "displayName": "Daniele Licari",
      "photoUrl": "https://lh3.googleusercontent.com/a-/AOh14GgLeN60kpJtdBKQxyRrU7GwxagDOGnFA3G3Z8BwMA=s64",
      "userId": "01113523768495748338"
     },
     "user_tz": -120
    },
    "id": "xAc9tpVkaEi7"
   },
   "outputs": [],
   "source": [
    "def asgn02_05Playing_with_strings():\n",
    "    # Read a string:\n",
    "    s = input()\n",
    "    # Print a string:\n",
    "    print(s)\n",
    "\n",
    "    \n",
    "#You can test independently your solution by executing the following line\n",
    "#asgn02_05Playing_with_strings()"
   ]
  },
  {
   "cell_type": "markdown",
   "metadata": {
    "id": "6woM9-0Rcbn-"
   },
   "source": [
    "## Run the following cells to perform the provided tests"
   ]
  },
  {
   "cell_type": "code",
   "execution_count": null,
   "metadata": {
    "cellView": "form",
    "id": "kJwgXas5yBoh"
   },
   "outputs": [],
   "source": [
    "#@title RUN and TEST ALL\n",
    "\n",
    "from IPython.display import display, Markdown \n",
    "\n",
    "inputs=[[\"Abrakadabra\"],[\"Hello\"],[\"qwertyuiop\"],[\"asdfghjklzxcv\"]]\n",
    "expected_outputs=[ [\"r\",\"r\",\"Abrak\",\"Abrakadab\",\"ABRAKADABRA\",\"abrakadabra\",\"11\"], \\\n",
    "                  [\"l\",\"l\",\"Hello\",\"Hel\",\"HELLO\",\"hello\",\"5\"], \\\n",
    "                  [\"e\",\"o\",\"qwert\",\"qwertyui\",\"QWERTYUIOP\",\"qwertyuiop\",\"10\"],\\\n",
    "                  [\"d\",\"c\",\"asdfg\",\"asdfghjklzx\",\"ASDFGHJKLZXCV\",\"asdfghjklzxcv\",\"13\"]]\n",
    "    \n",
    "\n",
    "\n",
    "for k in range(len(inputs)):\n",
    "    display(Markdown(f'{k+1}. TEST {inputs[k]} = {\",\".join(expected_outputs[k])}'))\n",
    "    print('-'*60)\n",
    "    run_and_test(inputs[k],expected_outputs[k],asgn02_05Playing_with_strings)\n",
    "\n"
   ]
  },
  {
   "cell_type": "markdown",
   "metadata": {
    "id": "0pSB8beac4Xm"
   },
   "source": [
    "# Assignment 02.06: String, bool, int\n",
    "## Statement\n",
    "\n",
    "Write a program that takes three characters, one per line. \n",
    "\n",
    "If the character is `'T'`, it is interpreted as True, otherwise, it is interpreted as `'False'`. \n",
    "\n",
    "The program should print the number of `True` values taken in input. \n",
    "\n",
    "## Example input\n",
    "\n",
    "```\n",
    "T\n",
    "F\n",
    "T\n",
    "```\n",
    "\n",
    "## Example output\n",
    "\n",
    "```\n",
    "2\n",
    "```\n",
    "\n",
    "## Hint\n",
    "\n",
    "Divide the problem into sub-tasks:\n",
    "\n",
    "- Read the three characters in input and store them in three variables\n",
    "- For each input, create a variable that takes Boolean value `True` if that input is `'T'`, or `False` otherwise. In class, we have seen how to compare strings\n",
    "- A Boolean value can be cast to an integer. In particular, `True` is cast to 1, while `False` to 0.\n",
    "- Counting the number of `'T'` in input, therefore, can be computed by summing the so-computed integer values.\n"
   ]
  },
  {
   "cell_type": "markdown",
   "metadata": {
    "id": "5_84W_h-cJRx"
   },
   "source": [
    "## Write your solution here\n",
    "\n",
    "\n",
    "*   Do not change the first line (`def ...():`)\n",
    "*   Maintain the given indentation\n",
    "*   You can run some tests by yourself by decommenting the last line\n",
    "\n"
   ]
  },
  {
   "cell_type": "code",
   "execution_count": null,
   "metadata": {
    "executionInfo": {
     "elapsed": 375,
     "status": "ok",
     "timestamp": 1622907062189,
     "user": {
      "displayName": "Daniele Licari",
      "photoUrl": "https://lh3.googleusercontent.com/a-/AOh14GgLeN60kpJtdBKQxyRrU7GwxagDOGnFA3G3Z8BwMA=s64",
      "userId": "01113523768495748338"
     },
     "user_tz": -120
    },
    "id": "LIkE17KFc4Xn"
   },
   "outputs": [],
   "source": [
    "def asgn02_06String_bool_int():\n",
    "    #Read a character\n",
    "    char1 = input()\n",
    "    bool1 = char1 == 'T'\n",
    "\n",
    "    \n",
    "#You can test independently your solution by executing the following line\n",
    "#asgn02_06String_bool_int()"
   ]
  },
  {
   "cell_type": "markdown",
   "metadata": {
    "id": "qnv06zUncecI"
   },
   "source": [
    "## Run the following cells to perform the provided tests"
   ]
  },
  {
   "cell_type": "code",
   "execution_count": null,
   "metadata": {
    "colab": {
     "base_uri": "https://localhost:8080/",
     "height": 809
    },
    "executionInfo": {
     "elapsed": 13,
     "status": "ok",
     "timestamp": 1622907206234,
     "user": {
      "displayName": "Daniele Licari",
      "photoUrl": "https://lh3.googleusercontent.com/a-/AOh14GgLeN60kpJtdBKQxyRrU7GwxagDOGnFA3G3Z8BwMA=s64",
      "userId": "01113523768495748338"
     },
     "user_tz": -120
    },
    "id": "ShTC_v12zLuA",
    "outputId": "eb250203-1d0b-4545-9674-ecc3836d221b"
   },
   "outputs": [],
   "source": [
    "#@title RUN and TEST ALL\n",
    "\n",
    "from IPython.display import display, Markdown \n",
    "\n",
    "inputs=[[\"F\",\"F\",\"F\"],[\"T\",\"F\",\"F\"],[\"T\",\"T\",\"F\"],[\"T\",\"T\",\"T\"]]\n",
    "expected_outputs=[ [\"0\"],[\"1\"],[\"2\"],[\"3\"]]\n",
    "    \n",
    "for k in range(len(inputs)):\n",
    "    display(Markdown(f'{k+1}. TEST {inputs[k]} = {\",\".join(expected_outputs[k])}'))\n",
    "    print('-'*60)\n",
    "    run_and_test(inputs[k],expected_outputs[k],asgn02_06String_bool_int)\n"
   ]
  }
 ],
 "metadata": {
  "colab": {
   "collapsed_sections": [],
   "name": "02DataTypesAndOperations_Assignments.ipynb",
   "provenance": []
  },
  "kernelspec": {
   "display_name": "Python 3 (ipykernel)",
   "language": "python",
   "name": "python3"
  },
  "language_info": {
   "codemirror_mode": {
    "name": "ipython",
    "version": 3
   },
   "file_extension": ".py",
   "mimetype": "text/x-python",
   "name": "python",
   "nbconvert_exporter": "python",
   "pygments_lexer": "ipython3",
   "version": "3.8.12"
  },
  "toc-autonumbering": true,
  "toc-showcode": false,
  "toc-showmarkdowntxt": false
 },
 "nbformat": 4,
 "nbformat_minor": 4
}
