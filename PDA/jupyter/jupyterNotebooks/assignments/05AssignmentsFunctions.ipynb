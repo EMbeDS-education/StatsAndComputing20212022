{
 "cells": [
  {
   "cell_type": "markdown",
   "metadata": {},
   "source": [
    "<center><font size=\"+4\">Programming and Data Analytics 1 2021/2022</font></center>\n",
    "<center><font size=\"+2\">Sant'Anna School of Advanced Studies, Pisa, Italy</font></center>\n",
    "<center><img src=\"https://github.com/EMbeDS-education/StatsAndComputing20212022/raw/main/PDA/jupyter/jupyterNotebooks/images/SSSA.png\" width=\"700\" alt=\"The extensible parallel architecture of MultiVeStA\"></center>\n",
    "\n",
    "<center><font size=\"+2\">Course responsible</font></center>\n",
    "<center><font size=\"+2\">Andrea Vandin a.vandin@santannapisa.it</font></center>\n",
    "\n",
    "<center><font size=\"+2\">Co-lecturer </font></center>\n",
    "<center><font size=\"+2\">Daniele Licari d.licari@santannapisa.it</font></center>\n",
    "\n",
    "---"
   ]
  },
  {
   "cell_type": "markdown",
   "metadata": {},
   "source": [
    "<center><font size=\"+4\">Lecture 5: Functions</font></center>\n",
    "\n",
    "---"
   ]
  },
  {
   "cell_type": "markdown",
   "metadata": {},
   "source": [
    "1. We will put on github a file with the required tests.\n",
    "2. We will download it using this script.\n",
    "3. We will load it using "
   ]
  },
  {
   "cell_type": "raw",
   "metadata": {},
   "source": [
    "import urllib.request\n",
    "\n",
    "print('Beginning file download with urllib2...')\n",
    "\n",
    "#url = 'http://i3.ytimg.com/vi/J---aiyznGQ/mqdefault.jpg'\n",
    "#urllib.request.urlretrieve(url, 'cat.jpg')\n",
    "url = 'https://raw.githubusercontent.com/EMbeDS-education/StatsAndComputing20202021/main/IPDP/jupyter/jupyterNotebooks/test_import_nb.ipynb'\n",
    "urllib.request.urlretrieve(url, 'pippo.ipynb')"
   ]
  },
  {
   "cell_type": "raw",
   "metadata": {},
   "source": [
    "import sys\n",
    "!\"{sys.executable}\" -m pip install ipynb\n",
    "\n",
    "#Imports just functions and classes\n",
    "from ipynb.fs.defs.pippo import *\n",
    "#or simply\n",
    "#import ipynb.fs.defs.pippo\n",
    "\n",
    "#Imports just a function\n",
    "#from ipynb.fs.defs.pippo import my_function_nb\n",
    "\n",
    "#Imports everything, including top-level statements (which are executed)\n",
    "#from ipynb.fs.full.pippo import *\n",
    "#import ipynb.fs.full.pippo"
   ]
  },
  {
   "cell_type": "code",
   "execution_count": null,
   "metadata": {},
   "outputs": [],
   "source": [
    "def assertEquals(actual,expected,failure_message=\"\"):\n",
    "    if actual != None and isinstance(actual,str):\n",
    "        actual=actual.strip()\n",
    "    if expected != None and isinstance(actual,str):\n",
    "        expected=expected.strip()\n",
    "    if(expected==actual):\n",
    "        print('Test passed')\n",
    "        print('Expected and actual:',expected)\n",
    "    else:\n",
    "        print('Test FAILED')\n",
    "        print('Expected:',expected)\n",
    "        print('Actual:',actual)\n",
    "        if(failure_message!=\"\"):\n",
    "            print(failure_message)\n",
    "    print()"
   ]
  },
  {
   "cell_type": "markdown",
   "metadata": {},
   "source": [
    "# Assignment 01 Functions: first_letter\n",
    "## **Statement**\n",
    "\n",
    "Write a function \n",
    "\n",
    "- named `first_letter`\n",
    "- that has a string argument\n",
    "- that computes and returns the first letter of the argument string\n",
    "\n",
    "## Example input to function\n",
    "\n",
    "```\n",
    "My first string\n",
    "```\n",
    "\n",
    "## Example output from function\n",
    "\n",
    "```\n",
    "M\n",
    "```\n",
    "\n",
    "## **Hint**\n",
    "\n",
    "Search for the method of strings that does the work...\n",
    "\n",
    "## **Note** \n",
    "\n",
    "The keyword `[def](https://repl.it/teacher/assignments/reference/compound_stmts.html#def)` introduces a function _definition_. It must be followed by the function name and the parenthesized list of formal parameters. The statements that form the body of the function start at the next line and must be indented. \n",
    "\n",
    "The _execution_ of a function introduces a new symbol table used for the local variables of the function. More precisely, all variable assignments in a function store the value in the local symbol table; whereas variable references first look in the local symbol table, then in the local symbol tables of enclosing functions, then in the global symbol table, and finally in the table of built-in names. \n",
    "\n",
    "The actual parameters (arguments) to a function call are introduced in the local symbol table of the called function when it is called; thus, arguments are passed using _call by value_ (where the _value_ is always an object _reference_, not the value of the object). [1](https://repl.it/teacher/assignments/4954335/edit#id2) When a function calls another function, a new local symbol table is created for that call. "
   ]
  },
  {
   "cell_type": "code",
   "execution_count": null,
   "metadata": {},
   "outputs": [],
   "source": [
    "def first_letter(input_string): # to complete\n",
    "    pass  #You can remove this line when completing the function    \n",
    "    #return input_string[0]\n",
    "\n",
    "f = first_letter('Python')\n",
    "print(f)"
   ]
  },
  {
   "cell_type": "code",
   "execution_count": 48,
   "metadata": {},
   "outputs": [
    {
     "name": "stdout",
     "output_type": "stream",
     "text": [
      "Test FAILED\n",
      "Expected: h\n",
      "Actual: None\n",
      "\n",
      "Test FAILED\n",
      "Expected: b\n",
      "Actual: None\n",
      "\n",
      "Test FAILED\n",
      "Expected: h\n",
      "Actual: None\n",
      "\n",
      "Test FAILED\n",
      "Expected: 1\n",
      "Actual: None\n",
      "\n"
     ]
    }
   ],
   "source": [
    "def my_unit_test():\n",
    "    assertEquals(first_letter(\"hello\"),\"h\")\n",
    "    assertEquals(first_letter(\"bill\"),\"b\")\n",
    "    assertEquals(first_letter(\"hello bill\"),\"h\")\n",
    "    assertEquals(first_letter(\"1234\"),\"1\")\n",
    "my_unit_test()    "
   ]
  },
  {
   "cell_type": "markdown",
   "metadata": {},
   "source": [
    "# Assignment 02: Functions - divisible_by\n",
    "\n",
    "## **Statement**\n",
    "\n",
    "Write a function \n",
    "\n",
    "- named divisble_by\n",
    "- that has two numeric arguments, a number `number` and a divisor `divisor`, in this order\n",
    "- that returns true or false depending on whether `number` is divisible by `divisor`\n",
    "\n",
    "## Example input to function\n",
    "\n",
    "```\n",
    "10,2\n",
    "```\n",
    "\n",
    "## Example output from function\n",
    "\n",
    "```\n",
    "True\n",
    "```\n",
    "\n",
    "## Hint\n",
    "\n",
    "The remainder operator might come handy for this assignment..."
   ]
  },
  {
   "cell_type": "code",
   "execution_count": 51,
   "metadata": {},
   "outputs": [],
   "source": [
    "def divisible_by(number,divisor): #to complete\n",
    "    pass #You can remove this after completing your function\n",
    "    #return number%divisor==0"
   ]
  },
  {
   "cell_type": "code",
   "execution_count": 52,
   "metadata": {},
   "outputs": [
    {
     "name": "stdout",
     "output_type": "stream",
     "text": [
      "Test passed\n",
      "Expected and actual: True\n",
      "\n",
      "Test passed\n",
      "Expected and actual: False\n",
      "\n",
      "Test passed\n",
      "Expected and actual: True\n",
      "\n",
      "Test passed\n",
      "Expected and actual: False\n",
      "\n",
      "Test passed\n",
      "Expected and actual: True\n",
      "\n"
     ]
    }
   ],
   "source": [
    "def my_unit_test():\n",
    "    assertEquals(divisible_by(10,2),True)\n",
    "    assertEquals(divisible_by(10,3),False)\n",
    "    assertEquals(divisible_by(30,6),True)\n",
    "    assertEquals(divisible_by(26,4),False)\n",
    "    assertEquals(divisible_by(24,4),True)\n",
    "my_unit_test()"
   ]
  },
  {
   "cell_type": "markdown",
   "metadata": {},
   "source": [
    "# Assignment 03: Functions - count_e\n",
    "\n",
    "## **Statement**\n",
    "\n",
    "Write a function \n",
    "\n",
    "- named count_e\n",
    "- that has a string argument\n",
    "- that counts the number of e in the argument (either lower- or upper-case), and returns it\n",
    "\n",
    "## Example input to function\n",
    "\n",
    "```\n",
    "HeEelloo sSam\n",
    "```\n",
    "\n",
    "## Example output from function\n",
    "\n",
    "```\n",
    "3\n",
    "```\n",
    "\n",
    "## Hint\n",
    "\n",
    "There is a convenient method of strings that does the job..."
   ]
  },
  {
   "cell_type": "code",
   "execution_count": 61,
   "metadata": {},
   "outputs": [
    {
     "name": "stdout",
     "output_type": "stream",
     "text": [
      "3\n"
     ]
    }
   ],
   "source": [
    "def count_e(input_string):\n",
    "  pass #You can remove \n",
    "  #return input_string.lower().count('e')  \n",
    "    \n",
    "string = \"HeEelloo sSam\"\n",
    "print(count_e(string))"
   ]
  },
  {
   "cell_type": "code",
   "execution_count": 62,
   "metadata": {},
   "outputs": [
    {
     "name": "stdout",
     "output_type": "stream",
     "text": [
      "Simple unit test\n",
      "Test passed\n",
      "Expected and actual: 0\n",
      "\n",
      "Test passed\n",
      "Expected and actual: 3\n",
      "\n"
     ]
    }
   ],
   "source": [
    "def simple_unit_test():\n",
    "    print('Simple unit test')\n",
    "    assertEquals(count_e(\"ciao mondo!\"),0)\n",
    "    assertEquals(count_e(\"hehehe\"),3)\n",
    "simple_unit_test()"
   ]
  },
  {
   "cell_type": "code",
   "execution_count": 63,
   "metadata": {},
   "outputs": [
    {
     "name": "stdout",
     "output_type": "stream",
     "text": [
      "More complex unit test\n",
      "Test passed\n",
      "Expected and actual: 5\n",
      "\n",
      "Test passed\n",
      "Expected and actual: 7\n",
      "\n"
     ]
    }
   ],
   "source": [
    "def more_complex_unit_test():\n",
    "    print('More complex unit test')\n",
    "    assertEquals(count_e(\"ceEe mEnde!\"),5)\n",
    "    assertEquals(count_e(\"HELLO therE HOW U DOINGEEee\"),7)\n",
    "more_complex_unit_test()"
   ]
  }
 ],
 "metadata": {
  "kernelspec": {
   "display_name": "env_pda_2022",
   "language": "python",
   "name": "env_pda_2022"
  },
  "language_info": {
   "codemirror_mode": {
    "name": "ipython",
    "version": 3
   },
   "file_extension": ".py",
   "mimetype": "text/x-python",
   "name": "python",
   "nbconvert_exporter": "python",
   "pygments_lexer": "ipython3",
   "version": "3.10.1"
  }
 },
 "nbformat": 4,
 "nbformat_minor": 4
}
