{
 "cells": [
  {
   "cell_type": "markdown",
   "metadata": {},
   "source": [
    "<center><font size=\"+4\">Programming and Data Analytics 2 2021/2022</font></center>\n",
    "<center><font size=\"+2\">Sant'Anna School of Advanced Studies, Pisa, Italy</font></center>\n",
    "<center><img src=\"https://github.com/EMbeDS-education/StatsAndComputing20212022/raw/main/PDA/jupyter/jupyterNotebooks/images/SSSA.png\" width=\"700\" alt=\"The extensible parallel architecture of MultiVeStA\"></center>\n",
    "\n",
    "<center><font size=\"+2\">Course responsible</font></center>\n",
    "<center><font size=\"+2\">Andrea Vandin a.vandin@santannapisa.it</font></center>\n",
    "\n",
    "<center><font size=\"+2\">Co-lecturer </font></center>\n",
    "<center><font size=\"+2\">Daniele Licari d.licari@santannapisa.it</font></center>\n",
    "\n",
    "---"
   ]
  },
  {
   "cell_type": "markdown",
   "metadata": {
    "id": "PzTk_3lR7k5D"
   },
   "source": [
    "<center><font size=\"+4\">Assignments for</font></center>\n",
    "<center><font size=\"+4\">Part 1: NumPy</font><br/></center>\n",
    "\n",
    "---\n"
   ]
  },
  {
   "cell_type": "code",
   "execution_count": null,
   "metadata": {
    "cellView": "form",
    "colab": {
     "base_uri": "https://localhost:8080/"
    },
    "executionInfo": {
     "elapsed": 1975,
     "status": "ok",
     "timestamp": 1622909713233,
     "user": {
      "displayName": "Daniele Licari",
      "photoUrl": "https://lh3.googleusercontent.com/a-/AOh14GgLeN60kpJtdBKQxyRrU7GwxagDOGnFA3G3Z8BwMA=s64",
      "userId": "01113523768495748338"
     },
     "user_tz": -120
    },
    "id": "p666zbf89eCD",
    "outputId": "cafe9bca-03cf-4d92-f4cb-0e9aab51ab82"
   },
   "outputs": [],
   "source": [
    "#@title RUN, BUT DO NOT MODIFY\n",
    "url = 'https://raw.githubusercontent.com/EMbeDS-education/StatsAndComputing20212022/main/PDA/jupyter/jupyterNotebooks/assignments/auto_testing.py'\n",
    "\n",
    "import urllib.request\n",
    "from pathlib import Path\n",
    "\n",
    "urllib.request.urlretrieve(url,Path(url).name)\n",
    "\n",
    "%reload_ext autoreload\n",
    "%autoreload 2\n",
    "from auto_testing import *\n",
    "\n",
    "%pip install numpy\n",
    "import numpy as np"
   ]
  },
  {
   "cell_type": "markdown",
   "metadata": {
    "id": "Om177ojl7k5J"
   },
   "source": [
    "# Assignment 01.01: Play with vectorized arithmetics and broadcasting\n",
    "## Statement\n",
    "\n",
    "You are given a program that \n",
    "- Reads and prints 2 lists of integers `l1`, `l2`\n",
    "  - __This is already done for you. Do no change the corresponding code__\n",
    "- Using numpy, complete the program such that it\n",
    "  - Loads the two lists in arrays `data1` and `data2`\n",
    "  - `Print`s `data1`\n",
    "  - `Print`s `data2`  \n",
    "  - Computes and `print`s the element-wise sum of `data1` and `data2`, and stores it it `data_sum`\n",
    "  - Reshapes and `print`s `data_sum` in a 2x2 matrix `matrix`\n",
    "  - Computes and `print`s the element-wise _product times 10_ of `matrix`, storing it in `matrix_times_10`\n",
    "  - Removes from `matrix_times_10` half the original value `matrix` and `print`s it\n",
    "\n",
    "## Example input #1\n",
    "\n",
    "```\n",
    "0,1,2,3\n",
    "```\n",
    "\n",
    "```\n",
    "4,5,6,7\n",
    "```\n",
    "\n",
    "## Example output #1\n",
    "\n",
    "```\n",
    "[0, 1, 2, 3]\n",
    "[4, 5, 6, 7]\n",
    "[ 4  6  8 10]\n",
    "[[ 4  6]\n",
    " [ 8 10]]\n",
    "[[ 40  60]\n",
    " [ 80 100]]\n",
    "[[38. 57.]\n",
    " [76. 95.]]\n",
    "```\n"
   ]
  },
  {
   "cell_type": "markdown",
   "metadata": {
    "id": "FMZE1vmMbRLz"
   },
   "source": [
    "## Write your solution here\n",
    "\n",
    "\n",
    "*   Do not change the first line (`def ...():`)\n",
    "*   Maintain the given indentation\n",
    "*   You can run some tests by yourself by decommenting the last line\n",
    "\n"
   ]
  },
  {
   "cell_type": "code",
   "execution_count": null,
   "metadata": {
    "executionInfo": {
     "elapsed": 13,
     "status": "ok",
     "timestamp": 1622909899205,
     "user": {
      "displayName": "Daniele Licari",
      "photoUrl": "https://lh3.googleusercontent.com/a-/AOh14GgLeN60kpJtdBKQxyRrU7GwxagDOGnFA3G3Z8BwMA=s64",
      "userId": "01113523768495748338"
     },
     "user_tz": -120
    },
    "id": "Yg4jeBnA7k5K"
   },
   "outputs": [],
   "source": [
    "def asgn01_01Play_With_Arith():\n",
    "     # This program reads two lists from input given in format: 1,2,3\n",
    "    l1_str=input()\n",
    "    l1 = [int(i) for i in l1_str.split(',')]    \n",
    "    \n",
    "    l2_str=input()\n",
    "    l2 = [int(i) for i in l2_str.split(',')]\n",
    "\n",
    "    print(l1)\n",
    "    print(l2)\n",
    "\n",
    "    # Add your solution here\n",
    "    \n",
    "#You can test independently your solution by executing the following line\n",
    "#asgn01_01Play_With_Arith()\n",
    "#Sample input\n",
    "#0,1,2,3"
   ]
  },
  {
   "cell_type": "markdown",
   "metadata": {
    "id": "_lqTangP8R46"
   },
   "source": [
    "## Run the following cells to perform the provided tests"
   ]
  },
  {
   "cell_type": "code",
   "execution_count": null,
   "metadata": {
    "cellView": "form",
    "id": "uv3gdWMQ9FmP"
   },
   "outputs": [],
   "source": [
    "from IPython.display import display, Markdown \n",
    "\n",
    "inputs=[[\"0,1,2,3\",\"4,5,6,7\"],\\\n",
    "        [\"14,15,16,17\",\"23,24,25,26\"],\\\n",
    "        [\"0,0,0,0\",\"0,0,0,0\"]\n",
    "       ]\n",
    "expected_outputs=[ [\"[0, 1, 2, 3]\",\"[4, 5, 6, 7]\",\"[0 1 2 3]\",\"[4 5 6 7]\",\"[ 4  6  8 10]\",\"[[ 4  6]\",\" [ 8 10]]\",\\\n",
    "                                    \"[[ 40  60]\",\" [ 80 100]]\",\"[[38. 57.]\",\" [76. 95.]]\"],\\\n",
    "                   [\"[14, 15, 16, 17]\",\"[23, 24, 25, 26]\",\"[14 15 16 17]\",\"[23 24 25 26]\",\"[37 39 41 43]\",\"[[37 39]\",\" [41 43]]\",\"[[370 390]\",\" [410 430]]\",\"[[351.5 370.5]\",\" [389.5 408.5]]\"],\\\n",
    "                   [\"[0, 0, 0, 0]\",\"[0, 0, 0, 0]\",\"[0 0 0 0]\",\"[0 0 0 0]\",\"[0 0 0 0]\",\"[[0 0]\",\" [0 0]]\",\"[[0 0]\",\" [0 0]]\",\"[[0. 0.]\",\" [0. 0.]]\"]\n",
    "                 ]    \n",
    "\n",
    "\n",
    "\n",
    "for k in range(len(inputs)):\n",
    "  display(Markdown(f'{k+1}. TEST {inputs[k]} = {\",\".join(expected_outputs[k])}'))\n",
    "  print('-'*60)\n",
    "  run_and_test(inputs[k],expected_outputs[k],asgn01_01Play_With_Arith)"
   ]
  },
  {
   "cell_type": "markdown",
   "metadata": {
    "id": "Om177ojl7k5J"
   },
   "source": [
    "# Assignment 01.02: Play with slices\n",
    "## Statement\n",
    "\n",
    "You are given a program that \n",
    "- Reads and prints 1 list of integers `l1`\n",
    "  - __This is already done for you. Do no change the corresponding code__\n",
    "- Using numpy, complete the program such that it\n",
    "  - Loads the list in array `data1`, and `print`s it \n",
    "  - Computes and `print`s a slice of `data1` containing the first 8 elements\n",
    "  - Computes and `print`s a slice of `data1` containing all but the last 3 elements\n",
    "  - Computes and `print`s a slice of `data1` containing only the last 3 elements  \n",
    "  - Computes and `print`s a slice of `data1` dropping the first 3 elements and the last 2\n",
    "\n",
    "## Example input #1\n",
    "\n",
    "```\n",
    "0,1,2,3,4,5,6,7,8,9,10,11,12,13,14,15\n",
    "```\n",
    "\n",
    "## Example output #1\n",
    "\n",
    "```\n",
    "[0, 1, 2, 3, 4, 5, 6, 7, 8, 9, 10, 11, 12, 13, 14, 15]\n",
    "[ 0  1  2  3  4  5  6  7  8  9 10 11 12 13 14 15]\n",
    "[0 1 2 3 4 5 6 7]\n",
    "[ 0  1  2  3  4  5  6  7  8  9 10 11 12]\n",
    "[13 14 15]\n",
    "[ 3  4  5  6  7  8  9 10 11 12 13]\n",
    "```\n"
   ]
  },
  {
   "cell_type": "markdown",
   "metadata": {
    "id": "FMZE1vmMbRLz"
   },
   "source": [
    "## Write your solution here\n",
    "\n",
    "\n",
    "*   Do not change the first line (`def ...():`)\n",
    "*   Maintain the given indentation\n",
    "*   You can run some tests by yourself by decommenting the last line\n",
    "\n"
   ]
  },
  {
   "cell_type": "code",
   "execution_count": null,
   "metadata": {
    "executionInfo": {
     "elapsed": 13,
     "status": "ok",
     "timestamp": 1622909899205,
     "user": {
      "displayName": "Daniele Licari",
      "photoUrl": "https://lh3.googleusercontent.com/a-/AOh14GgLeN60kpJtdBKQxyRrU7GwxagDOGnFA3G3Z8BwMA=s64",
      "userId": "01113523768495748338"
     },
     "user_tz": -120
    },
    "id": "Yg4jeBnA7k5K"
   },
   "outputs": [],
   "source": [
    "def asgn01_02Play_With_Slices():\n",
    "     # This program reads a list from input given in format: 1,2,3\n",
    "    l1_str=input()\n",
    "    l1 = [int(i) for i in l1_str.replace(\" \", \"\").split(',')]\n",
    "    print(l1)\n",
    "    # Add your solution here\n",
    "        \n",
    "#You can test independently your solution by executing the following line\n",
    "#asgn01_02Play_With_Slices()\n",
    "#Sample input\n",
    "#0,1,2,3,4,5,6,7,8,9,10,11,12,13,14,15"
   ]
  },
  {
   "cell_type": "markdown",
   "metadata": {
    "id": "_lqTangP8R46"
   },
   "source": [
    "## Run the following cells to perform the provided tests"
   ]
  },
  {
   "cell_type": "code",
   "execution_count": null,
   "metadata": {
    "cellView": "form",
    "id": "uv3gdWMQ9FmP"
   },
   "outputs": [],
   "source": [
    "from IPython.display import display, Markdown \n",
    "\n",
    "inputs=[[\"0,1,2,3,4,5,6,7,8,9,10,11,12,13,14,15\"],\n",
    "        [\"0,  2,  4,  6,  8, 10, 12, 14, 16, 18, 20, 22, 24, 26, 28, 30\"]\n",
    "       ]\n",
    "expected_outputs=[ [\"[0, 1, 2, 3, 4, 5, 6, 7, 8, 9, 10, 11, 12, 13, 14, 15]\",\"[ 0  1  2  3  4  5  6  7  8  9 10 11 12 13 14 15]\",\"[0 1 2 3 4 5 6 7]\",\"[ 0  1  2  3  4  5  6  7  8  9 10 11 12]\",\"[13 14 15]\",\"[ 3  4  5  6  7  8  9 10 11 12 13]\"],\n",
    "                  [\"[0, 2, 4, 6, 8, 10, 12, 14, 16, 18, 20, 22, 24, 26, 28, 30]\",\"[ 0  2  4  6  8 10 12 14 16 18 20 22 24 26 28 30]\",\"[ 0  2  4  6  8 10 12 14]\",\"[ 0  2  4  6  8 10 12 14 16 18 20 22 24]\",\"[26 28 30]\",\"[ 6  8 10 12 14 16 18 20 22 24 26]\"]\n",
    "                 ]    \n",
    "\n",
    "\n",
    "\n",
    "for k in range(len(inputs)):\n",
    "  display(Markdown(f'{k+1}. TEST {inputs[k]} = {\",\".join(expected_outputs[k])}'))\n",
    "  print('-'*60)\n",
    "  run_and_test(inputs[k],expected_outputs[k],asgn01_02Play_With_Slices)"
   ]
  },
  {
   "cell_type": "markdown",
   "metadata": {
    "id": "Om177ojl7k5J",
    "tags": []
   },
   "source": [
    "# Assignment 01.03: Play with slices 2\n",
    "## Statement\n",
    "\n",
    "You are given a program that \n",
    "- Reads and prints 1 list of integers `l1`\n",
    "  - __This is already done for you. Do no change the corresponding code__\n",
    "- Using numpy, complete the program such that it\n",
    "  - Loads the list in array `data1`, and `print`s it \n",
    "  - Reshapes and `print`s `data1` in a 4x4 matrix `matrix`\n",
    "  - Computes and `print`s a slice of `matrix` selecting only the first row\n",
    "  - Computes and `print`s a slice of `matrix` selecting only the first column\n",
    "  - Computes and `print`s a slice of `matrix` selecting the 4 elements in the top-left\n",
    "  - Computes and `print`s a slice of `matrix` selecting the 4 elements in the bottom-left  \n",
    "  - Computes and `print`s a slice of `matrix` selecting the 4 elements in the middle of the matrix\n",
    "\n",
    "## Example input #1\n",
    "\n",
    "```\n",
    "0,1,2,3,4,5,6,7,8,9,10,11,12,13,14,15\n",
    "```\n",
    "\n",
    "## Example output #1\n",
    "\n",
    "```\n",
    "[0, 1, 2, 3, 4, 5, 6, 7, 8, 9, 10, 11, 12, 13, 14, 15]\n",
    "[ 0  1  2  3  4  5  6  7  8  9 10 11 12 13 14 15]\n",
    "[[ 0  1  2  3]\n",
    " [ 4  5  6  7]\n",
    " [ 8  9 10 11]\n",
    " [12 13 14 15]]\n",
    "[0 1 2 3]\n",
    "[ 0  4  8 12]\n",
    "[[0 1]\n",
    " [4 5]]\n",
    "[[ 8  9]\n",
    " [12 13]]\n",
    "[[ 5  6]\n",
    " [ 9 10]]\n",
    "```\n"
   ]
  },
  {
   "cell_type": "markdown",
   "metadata": {
    "id": "FMZE1vmMbRLz"
   },
   "source": [
    "## Write your solution here\n",
    "\n",
    "\n",
    "*   Do not change the first line (`def ...():`)\n",
    "*   Maintain the given indentation\n",
    "*   You can run some tests by yourself by decommenting the last line\n",
    "\n"
   ]
  },
  {
   "cell_type": "code",
   "execution_count": null,
   "metadata": {
    "executionInfo": {
     "elapsed": 13,
     "status": "ok",
     "timestamp": 1622909899205,
     "user": {
      "displayName": "Daniele Licari",
      "photoUrl": "https://lh3.googleusercontent.com/a-/AOh14GgLeN60kpJtdBKQxyRrU7GwxagDOGnFA3G3Z8BwMA=s64",
      "userId": "01113523768495748338"
     },
     "user_tz": -120
    },
    "id": "Yg4jeBnA7k5K"
   },
   "outputs": [],
   "source": [
    "def asgn01_03Play_With_Slices():\n",
    "     # This program reads a list from input given in format: 1,2,3\n",
    "    l1_str=input()\n",
    "    l1 = [int(i) for i in l1_str.split(',')]\n",
    "    print(l1)\n",
    "    # Add your solution here\n",
    "\n",
    "    \n",
    "#You can test independently your solution by executing the following line\n",
    "asgn01_03Play_With_Slices()\n",
    "#Sample input\n",
    "#0,1,2,3,4,5,6,7,8,9,10,11,12,13,14,15"
   ]
  },
  {
   "cell_type": "markdown",
   "metadata": {
    "id": "_lqTangP8R46"
   },
   "source": [
    "## Run the following cells to perform the provided tests"
   ]
  },
  {
   "cell_type": "code",
   "execution_count": null,
   "metadata": {
    "cellView": "form",
    "id": "uv3gdWMQ9FmP"
   },
   "outputs": [],
   "source": [
    "from IPython.display import display, Markdown \n",
    "\n",
    "inputs=[[\"0,1,2,3,4,5,6,7,8,9,10,11,12,13,14,15\"],\\\n",
    "        [\"0,  2,  4,  6,  8, 10, 12, 14, 16, 18, 20, 22, 24, 26, 28, 30\"]\n",
    "       ]\n",
    "expected_outputs=[ [\"[0, 1, 2, 3, 4, 5, 6, 7, 8, 9, 10, 11, 12, 13, 14, 15]\",\"[ 0  1  2  3  4  5  6  7  8  9 10 11 12 13 14 15]\",\"[[ 0  1  2  3]\",\" [ 4  5  6  7]\",\" [ 8  9 10 11]\",\" [12 13 14 15]]\",\"[0 1 2 3]\",\"[ 0  4  8 12]\",\"[[0 1]\",\" [4 5]]\",\"[[ 8  9]\",\" [12 13]]\",\"[[ 5  6]\",\" [ 9 10]]\"],\n",
    "                   [\"[0, 2, 4, 6, 8, 10, 12, 14, 16, 18, 20, 22, 24, 26, 28, 30]\",\"[ 0  2  4  6  8 10 12 14 16 18 20 22 24 26 28 30]\",\"[[ 0  2  4  6]\",\" [ 8 10 12 14]\",\" [16 18 20 22]\",\" [24 26 28 30]]\",\"[0 2 4 6]\",\"[ 0  8 16 24]\",\"[[ 0  2]\",\" [ 8 10]]\",\"[[16 18]\",\" [24 26]]\",\"[[10 12]\",\" [18 20]]\"]\n",
    "                 ]    \n",
    "\n",
    "\n",
    "\n",
    "for k in range(len(inputs)):\n",
    "  display(Markdown(f'{k+1}. TEST {inputs[k]} = {\",\".join(expected_outputs[k])}'))\n",
    "  print('-'*60)\n",
    "  run_and_test(inputs[k],expected_outputs[k],asgn01_03Play_With_Slices)"
   ]
  }
 ],
 "metadata": {
  "colab": {
   "collapsed_sections": [],
   "name": "04ControlAndRepetitionStatements_Assignments.ipynb",
   "provenance": [],
   "toc_visible": true
  },
  "kernelspec": {
   "display_name": "Python 3 (ipykernel)",
   "language": "python",
   "name": "python3"
  },
  "language_info": {
   "codemirror_mode": {
    "name": "ipython",
    "version": 3
   },
   "file_extension": ".py",
   "mimetype": "text/x-python",
   "name": "python",
   "nbconvert_exporter": "python",
   "pygments_lexer": "ipython3",
   "version": "3.9.10"
  },
  "toc-autonumbering": true,
  "toc-showcode": false,
  "toc-showmarkdowntxt": false
 },
 "nbformat": 4,
 "nbformat_minor": 4
}
