{
 "cells": [
  {
   "cell_type": "markdown",
   "metadata": {},
   "source": [
    "<center><font size=\"+4\">Programming and Data Analytics 1 2021/2022</font></center>\n",
    "<center><font size=\"+2\">Sant'Anna School of Advanced Studies, Pisa, Italy</font></center>\n",
    "<center><img src=\"https://github.com/EMbeDS-education/StatsAndComputing20212022/raw/main/PDA/jupyter/jupyterNotebooks/images/SSSA.png\" width=\"700\" alt=\"The extensible parallel architecture of MultiVeStA\"></center>\n",
    "\n",
    "<center><font size=\"+2\">Course responsible</font></center>\n",
    "<center><font size=\"+2\">Andrea Vandin a.vandin@santannapisa.it</font></center>\n",
    "\n",
    "<center><font size=\"+2\">Co-lecturer </font></center>\n",
    "<center><font size=\"+2\">Daniele Licari d.licari@santannapisa.it</font></center>\n",
    "\n",
    "---"
   ]
  },
  {
   "cell_type": "markdown",
   "metadata": {
    "id": "PzTk_3lR7k5D"
   },
   "source": [
    "<center><font size=\"+4\">Assignments for</font></center>\n",
    "<center><font size=\"+4\">Lecture 3:  Collections</font></center>\n",
    "\n",
    "---"
   ]
  },
  {
   "cell_type": "code",
   "execution_count": null,
   "metadata": {
    "cellView": "form",
    "colab": {
     "base_uri": "https://localhost:8080/"
    },
    "executionInfo": {
     "elapsed": 384,
     "status": "ok",
     "timestamp": 1622907631176,
     "user": {
      "displayName": "Daniele Licari",
      "photoUrl": "https://lh3.googleusercontent.com/a-/AOh14GgLeN60kpJtdBKQxyRrU7GwxagDOGnFA3G3Z8BwMA=s64",
      "userId": "01113523768495748338"
     },
     "user_tz": -120
    },
    "id": "p666zbf89eCD",
    "outputId": "752df23a-354e-4f20-96aa-abaed42ddcad"
   },
   "outputs": [],
   "source": [
    "#@title RUN, BUT DO NOT MODIFY\n",
    "!curl -O  https://raw.githubusercontent.com/EMbeDS-education/StatsAndComputing20212022/main/PDA/jupyter/jupyterNotebooks/assignments/auto_testing.py\n",
    "%reload_ext autoreload\n",
    "%autoreload 2\n",
    "from auto_testing import *"
   ]
  },
  {
   "cell_type": "markdown",
   "metadata": {
    "id": "Om177ojl7k5J"
   },
   "source": [
    "# Assignment 03.01: Play with lists\n",
    "## Statement\n",
    "\n",
    "Write a program that \n",
    "\n",
    "- Reads two integers `a` and `b`\n",
    "  -  prints `a` and `b`\n",
    "- Creates a list (`lst1`) of 10 elements containing value 0 in each entry\n",
    "  -   sets to value `a` the entries in position 1 and 3\n",
    "  -   sets to value `b` the entries in position 2 and 4 \n",
    "  -   prints this list\n",
    "- Creates a list (`lst2`) of 10 elements containing values from 0 to 9 included\n",
    "  -   prints this list\n",
    "- Prints `True` if the `lst1` is smaller than `lst2`, and `False` otherwise\n",
    "- Concatenates the two lists in list `lst3`\n",
    "  -   prints `lst3`\n",
    "\n",
    "## Example input 1\n",
    "\n",
    "```\n",
    "1\n",
    "```\n",
    "\n",
    "```\n",
    "2\n",
    "```\n",
    "\n",
    "## Example output 1\n",
    "\n",
    "```\n",
    "1\n",
    "2\n",
    "[0, 1, 2, 1, 2, 0, 0, 0, 0, 0]\n",
    "[0, 1, 2, 3, 4, 5, 6, 7, 8, 9]\n",
    "True\n",
    "[0, 1, 2, 1, 2, 0, 0, 0, 0, 0, 0, 1, 2, 3, 4, 5, 6, 7, 8, 9]\n",
    "```\n",
    "\n",
    "## Example input 2\n",
    "\n",
    "```\n",
    "2\n",
    "```\n",
    "\n",
    "```\n",
    "1\n",
    "```\n",
    "\n",
    "## Example output 2\n",
    "\n",
    "```\n",
    "2\n",
    "1\n",
    "[0, 2, 1, 2, 1, 0, 0, 0, 0, 0]\n",
    "[0, 1, 2, 3, 4, 5, 6, 7, 8, 9]\n",
    "False\n",
    "[0, 2, 1, 2, 1, 0, 0, 0, 0, 0, 0, 1, 2, 3, 4, 5, 6, 7, 8, 9]\n",
    "```"
   ]
  },
  {
   "cell_type": "markdown",
   "metadata": {
    "id": "FMZE1vmMbRLz"
   },
   "source": [
    "## Write your solution here\n",
    "\n",
    "\n",
    "*   Do not change the first line (`def ...():`)\n",
    "*   Maintain the given indentation\n",
    "*   You can run some tests by yourself by decommenting the last line\n",
    "\n"
   ]
  },
  {
   "cell_type": "code",
   "execution_count": null,
   "metadata": {
    "executionInfo": {
     "elapsed": 299,
     "status": "ok",
     "timestamp": 1622907778479,
     "user": {
      "displayName": "Daniele Licari",
      "photoUrl": "https://lh3.googleusercontent.com/a-/AOh14GgLeN60kpJtdBKQxyRrU7GwxagDOGnFA3G3Z8BwMA=s64",
      "userId": "01113523768495748338"
     },
     "user_tz": -120
    },
    "id": "Yg4jeBnA7k5K"
   },
   "outputs": [],
   "source": [
    "def asgn03_01Play_with_lists():\n",
    "    # This program reads a number and prints it\n",
    "    a = int(input())\n",
    "    print(a)\n",
    "\n",
    "    # Change it according to the assignment description\n",
    "\n",
    "    \n",
    "#You can test independently your solution by executing the following line\n",
    "#asgn03_01Play_with_lists()"
   ]
  },
  {
   "cell_type": "markdown",
   "metadata": {
    "id": "_lqTangP8R46"
   },
   "source": [
    "## Run the following cells to perform the provided tests"
   ]
  },
  {
   "cell_type": "code",
   "execution_count": null,
   "metadata": {
    "cellView": "form",
    "id": "jXudwlHM1d0b"
   },
   "outputs": [],
   "source": [
    "#@title RUN and TEST ALL\n",
    "\n",
    "from IPython.display import display, Markdown \n",
    "\n",
    "\n",
    "\n",
    "inputs=[[0,0],[1,2],[2,1]]\n",
    "expected_outputs=[[\"0\",\"0\",\"[0, 0, 0, 0, 0, 0, 0, 0, 0, 0]\",\"[0, 1, 2, 3, 4, 5, 6, 7, 8, 9]\",\"True\",\"[0, 0, 0, 0, 0, 0, 0, 0, 0, 0, 0, 1, 2, 3, 4, 5, 6, 7, 8, 9]\"],\\\n",
    "                  [\"1\",\"2\",\"[0, 1, 2, 1, 2, 0, 0, 0, 0, 0]\",\"[0, 1, 2, 3, 4, 5, 6, 7, 8, 9]\",\"True\",\"[0, 1, 2, 1, 2, 0, 0, 0, 0, 0, 0, 1, 2, 3, 4, 5, 6, 7, 8, 9]\"], \\\n",
    "                  [\"2\",\"1\",\"[0, 2, 1, 2, 1, 0, 0, 0, 0, 0]\",\"[0, 1, 2, 3, 4, 5, 6, 7, 8, 9]\",\"False\",\"[0, 2, 1, 2, 1, 0, 0, 0, 0, 0, 0, 1, 2, 3, 4, 5, 6, 7, 8, 9]\"]]\n",
    "    \n",
    "for k in range(len(inputs)):\n",
    "    display(Markdown(f'{k+1}. TEST {inputs[k]} = {\",\".join(expected_outputs[k])}'))\n",
    "    print('-'*60)\n",
    "    run_and_test(inputs[k],expected_outputs[k],asgn03_01Play_with_lists)\n"
   ]
  },
  {
   "cell_type": "markdown",
   "metadata": {
    "id": "1gbFXDIc1AvN"
   },
   "source": [
    "# Assignment 03.02: Play with lists and sets\n",
    "## Statement\n",
    "\n",
    "Write a program that \n",
    "\n",
    "- Reads a string `s` \n",
    "- Creates a list `lst` containing as elements the characters in `s` in the same order in which they appear in `s`\n",
    "  -  sets the string `'1'` as the value of the first entry of `lst`\n",
    "  -  prints `lst`\n",
    "- Creates a set `st` containing the characters in the list\n",
    "  -  prints the length of `st`\n",
    "  -  prints the minimum element in `st`\n",
    "  -  prints the maximum element in `st`\n",
    "- Creates a list `lst2` containing the elements in `st` \n",
    "  -  prints the length of `lst2`\n",
    "  -  prints the minimum element in `lst2`\n",
    "  -  prints the maximum element in `lst2`\n",
    "  -  sorts `lst2` \n",
    "  - appends string `'!'` at the end of `lst2`\n",
    "  - prints `lst2`\n",
    "\n",
    "## Example input 1\n",
    "\n",
    "```\n",
    "abba\n",
    "```\n",
    "\n",
    "## Example output 1\n",
    "\n",
    "```\n",
    "['1', 'b', 'b', 'a']\n",
    "3\n",
    "1\n",
    "b\n",
    "3\n",
    "1\n",
    "b\n",
    "['1', 'a', 'b', '!']\n",
    "```\n",
    "\n",
    "## Example input 2\n",
    "\n",
    "```\n",
    "ciaomondo\n",
    "```\n",
    "\n",
    "## Example output 2\n",
    "\n",
    "```\n",
    "['1', 'i', 'a', 'o', 'm', 'o', 'n', 'd', 'o']\n",
    "7\n",
    "1\n",
    "o\n",
    "7\n",
    "1\n",
    "o\n",
    "['1', 'a', 'd', 'i', 'm', 'n', 'o', '!']\n",
    "```"
   ]
  },
  {
   "cell_type": "markdown",
   "metadata": {
    "id": "xbNNQEKB1AvO"
   },
   "source": [
    "## Write your solution here\n",
    "\n",
    "\n",
    "*   Do not change the first line (`def ...():`)\n",
    "*   Maintain the given indentation\n",
    "*   You can run some tests by yourself by decommenting the last line\n",
    "\n"
   ]
  },
  {
   "cell_type": "code",
   "execution_count": null,
   "metadata": {
    "executionInfo": {
     "elapsed": 298,
     "status": "ok",
     "timestamp": 1622907987211,
     "user": {
      "displayName": "Daniele Licari",
      "photoUrl": "https://lh3.googleusercontent.com/a-/AOh14GgLeN60kpJtdBKQxyRrU7GwxagDOGnFA3G3Z8BwMA=s64",
      "userId": "01113523768495748338"
     },
     "user_tz": -120
    },
    "id": "2oPAwQnA1AvQ"
   },
   "outputs": [],
   "source": [
    "def asgn03_02Play_with_lists_and_sets():\n",
    "    # This program reads a number and prints it\n",
    "    a = int(input())\n",
    "    print(a)\n",
    "\n",
    "    # Change it according to the assignment description\n",
    "\n",
    "    \n",
    "#You can test independently your solution by executing the following line\n",
    "#asgn03_02Play_with_lists_and_sets()"
   ]
  },
  {
   "cell_type": "markdown",
   "metadata": {
    "id": "EM2saB-Q1AvS"
   },
   "source": [
    "## Run the following cells to perform the provided tests"
   ]
  },
  {
   "cell_type": "code",
   "execution_count": null,
   "metadata": {
    "cellView": "form",
    "id": "Yx7BMqsK2w2a"
   },
   "outputs": [],
   "source": [
    "#@title RUN and TEST ALL\n",
    "\n",
    "from IPython.display import display, Markdown \n",
    "\n",
    "\n",
    "\n",
    "inputs=[['abba'],['ciaomondo']]\n",
    "expected_outputs=[[\"['1', 'b', 'b', 'a']\",\"3\",\"1\",\"b\",\"3\",\"1\",\"b\",\"['1', 'a', 'b', '!']\"],\\\n",
    "                  [\"['1', 'i', 'a', 'o', 'm', 'o', 'n', 'd', 'o']\",\"7\",\"1\",\"o\",\"7\",\"1\",\"o\",\"['1', 'a', 'd', 'i', 'm', 'n', 'o', '!']\"], \\\n",
    "                  ]\n",
    "    \n",
    "for k in range(len(inputs)):\n",
    "    display(Markdown(f'{k+1}. TEST {inputs[k]} = {\",\".join(expected_outputs[k])}'))\n",
    "    print('-'*60)\n",
    "    run_and_test(inputs[k],expected_outputs[k],asgn03_02Play_with_lists_and_sets)\n"
   ]
  },
  {
   "cell_type": "markdown",
   "metadata": {
    "id": "I_rb-LdZ1AvT"
   },
   "source": [
    "# Assignment 03.03: Play with matrices\n",
    "## Statement\n",
    "\n",
    "Write a program that reads a string of digits `s`, and creates a 2-dimensional list (a matrix of size 2 times the length of s) containing\n",
    "\n",
    "- in the first row: the digits in `s`\n",
    "- in the second row: twice the value of each digit in `s` \n",
    "\n",
    "Finally, your program should print the list\n",
    "\n",
    "## Example input 1\n",
    "\n",
    "```\n",
    "123\n",
    "```\n",
    "\n",
    "## Example output 1\n",
    "\n",
    "```\n",
    "[[1, 2, 3], [2, 4, 6]]\n",
    "```\n",
    "\n",
    "## Example input 2\n",
    "\n",
    "```\n",
    "12345\n",
    "```\n",
    "\n",
    "## Example output 2\n",
    "\n",
    "```\n",
    "[[1, 2, 3, 4, 5], [2, 4, 6, 8, 10]]\n",
    "```"
   ]
  },
  {
   "cell_type": "markdown",
   "metadata": {
    "id": "64D4QYED1AvV"
   },
   "source": [
    "## Write your solution here\n",
    "\n",
    "\n",
    "*   Do not change the first line (`def ...():`)\n",
    "*   Maintain the given indentation\n",
    "*   You can run some tests by yourself by decommenting the last line\n",
    "\n"
   ]
  },
  {
   "cell_type": "code",
   "execution_count": null,
   "metadata": {
    "executionInfo": {
     "elapsed": 260,
     "status": "ok",
     "timestamp": 1622908216846,
     "user": {
      "displayName": "Daniele Licari",
      "photoUrl": "https://lh3.googleusercontent.com/a-/AOh14GgLeN60kpJtdBKQxyRrU7GwxagDOGnFA3G3Z8BwMA=s64",
      "userId": "01113523768495748338"
     },
     "user_tz": -120
    },
    "id": "lLGrP5_U1AvV"
   },
   "outputs": [],
   "source": [
    "def asgn03_03Play_with_matrices():\n",
    "    # This program reads a number and prints it\n",
    "    s = input()\n",
    "\n",
    "    # Change it according to the assignment description\n",
    "    \n",
    "    \n",
    "#You can test independently your solution by executing the following line\n",
    "#asgn03_03Play_with_matrices()"
   ]
  },
  {
   "cell_type": "markdown",
   "metadata": {
    "id": "k1K96Xbd1AvY"
   },
   "source": [
    "## Run the following cells to perform the provided tests"
   ]
  },
  {
   "cell_type": "code",
   "execution_count": null,
   "metadata": {
    "cellView": "form",
    "id": "l94WkQtE3McZ"
   },
   "outputs": [],
   "source": [
    "#@title RUN and TEST ALL\n",
    "\n",
    "from IPython.display import display, Markdown \n",
    "\n",
    "\n",
    "\n",
    "inputs=[['123'],['12345'],['56734']]\n",
    "expected_outputs=[[\"[[1, 2, 3], [2, 4, 6]]\"],\\\n",
    "                  [\"[[1, 2, 3, 4, 5], [2, 4, 6, 8, 10]]\"], \\\n",
    "                  [\"[[5, 6, 7, 3, 4], [10, 12, 14, 6, 8]]\"]]\n",
    "    \n",
    "for k in range(len(inputs)):\n",
    "    display(Markdown(f'{k+1}. TEST {inputs[k]} = {\",\".join(expected_outputs[k])}'))\n",
    "    print('-'*60)\n",
    "    run_and_test(inputs[k],expected_outputs[k],asgn03_03Play_with_matrices)\n"
   ]
  },
  {
   "cell_type": "markdown",
   "metadata": {
    "id": "NuRLdC7K1Avd"
   },
   "source": [
    "# Assignment 03.04: Play with dictionaries\n",
    "## Statement\n",
    "\n",
    "Write a program that \n",
    "\n",
    "- Reads three strings `st1`, `st2`, and `st3` given in 3 lines\n",
    "- Creates a dictionary (`d1`) mapping each string to its upper-case version\n",
    "- Prints such dictionary `d1`\n",
    "\n",
    "## Example input 1\n",
    "\n",
    "```\n",
    "Andrea\n",
    "```\n",
    "\n",
    "```\n",
    "Daniele\n",
    "```\n",
    "\n",
    "```\n",
    "Giulio\n",
    "```\n",
    "\n",
    "## Example output 1\n",
    "\n",
    "```\n",
    "{'Andrea': 'ANDREA', 'Daniele': 'DANIELE', 'Giulio': 'GIULIO'}\n",
    "```\n",
    "\n",
    "## Example input 2\n",
    "\n",
    "```\n",
    "Andrea\n",
    "```\n",
    "\n",
    "```\n",
    "Daniele\n",
    "```\n",
    "\n",
    "```\n",
    "Andrea\n",
    "```\n",
    "\n",
    "## Example output 2\n",
    "\n",
    "```\n",
    "{'Andrea': 'ANDREA', 'Daniele': 'DANIELE'}\n",
    "```"
   ]
  },
  {
   "cell_type": "markdown",
   "metadata": {
    "id": "w8tnsKZm1Ave"
   },
   "source": [
    "## Write your solution here\n",
    "\n",
    "\n",
    "*   Do not change the first line (`def ...():`)\n",
    "*   Maintain the given indentation\n",
    "*   You can run some tests by yourself by decommenting the last line\n",
    "\n"
   ]
  },
  {
   "cell_type": "code",
   "execution_count": null,
   "metadata": {
    "executionInfo": {
     "elapsed": 424,
     "status": "ok",
     "timestamp": 1622908389320,
     "user": {
      "displayName": "Daniele Licari",
      "photoUrl": "https://lh3.googleusercontent.com/a-/AOh14GgLeN60kpJtdBKQxyRrU7GwxagDOGnFA3G3Z8BwMA=s64",
      "userId": "01113523768495748338"
     },
     "user_tz": -120
    },
    "id": "wdXkw97r1Ave"
   },
   "outputs": [],
   "source": [
    "def asgn03_04Play_with_dictionaries():\n",
    "    # This program reads a string and prints it\n",
    "    s = input()\n",
    "    print(s)\n",
    "\n",
    "    # Change it according to the assignment description\n",
    "\n",
    "\n",
    "#You can test independently your solution by executing the following line\n",
    "#asgn03_04Play_with_dictionaries()"
   ]
  },
  {
   "cell_type": "markdown",
   "metadata": {
    "id": "UV67YBrW1Avf"
   },
   "source": [
    "## Run the following cells to perform the provided tests"
   ]
  },
  {
   "cell_type": "code",
   "execution_count": null,
   "metadata": {
    "cellView": "form",
    "id": "fPQIR_rt3yNZ"
   },
   "outputs": [],
   "source": [
    "#@title RUN and TEST ALL\n",
    "\n",
    "from IPython.display import display, Markdown \n",
    "\n",
    "\n",
    "\n",
    "inputs=[['Andrea','Daniele','Andrea'],['Andrea','Daniele','Giulio'],['ANDREA','DANIELE','GIULIO']]\n",
    "expected_outputs=[[\"{'Andrea': 'ANDREA', 'Daniele': 'DANIELE'}\"],\\\n",
    "                  [\"{'Andrea': 'ANDREA', 'Daniele': 'DANIELE', 'Giulio': 'GIULIO'}\"], \\\n",
    "                 [\"{'ANDREA': 'ANDREA', 'DANIELE': 'DANIELE', 'GIULIO': 'GIULIO'}\"]]\n",
    "    \n",
    "for k in range(len(inputs)):\n",
    "    display(Markdown(f'{k+1}. TEST {inputs[k]} = {\",\".join(expected_outputs[k])}'))\n",
    "    print('-'*60)\n",
    "    run_and_test(inputs[k],expected_outputs[k],asgn03_04Play_with_dictionaries)\n"
   ]
  },
  {
   "cell_type": "markdown",
   "metadata": {
    "id": "WQXTCB1w1Avg"
   },
   "source": [
    "# Assignment 03.05: Dictionaries and numbers\n",
    "## Statement\n",
    "\n",
    "Write a program that \n",
    "\n",
    "- Reads a string containing only digits\n",
    "- Creates a dictionary (`d1`) casting each character in a string (a string representation of a digit) to its `int` counterpart\n",
    "- Prints this dictionary `d1`\n",
    "\n",
    "**Note**\n",
    "\n",
    "- The length of the input string is not known a prior. Your implementation should work with strings of any length.\n",
    "\n",
    "## Example input 1\n",
    "\n",
    "```\n",
    "12345\n",
    "```\n",
    "\n",
    "## Example output 1\n",
    "\n",
    "```\n",
    "{'1': 1, '2': 2, '3': 3, '4': 4, '5': 5}\n",
    "```\n",
    "\n",
    "## Hint\n",
    "\n",
    "In class we have seen how to create dictionaries using list comprehension. With that in mind, solving this exercise requires just a few lines of code"
   ]
  },
  {
   "cell_type": "markdown",
   "metadata": {
    "id": "fXRSwnGT1Avh"
   },
   "source": [
    "## Write your solution here\n",
    "\n",
    "\n",
    "*   Do not change the first line (`def ...():`)\n",
    "*   Maintain the given indentation\n",
    "*   You can run some tests by yourself by decommenting the last line\n",
    "\n"
   ]
  },
  {
   "cell_type": "code",
   "execution_count": null,
   "metadata": {
    "executionInfo": {
     "elapsed": 285,
     "status": "ok",
     "timestamp": 1622908455860,
     "user": {
      "displayName": "Daniele Licari",
      "photoUrl": "https://lh3.googleusercontent.com/a-/AOh14GgLeN60kpJtdBKQxyRrU7GwxagDOGnFA3G3Z8BwMA=s64",
      "userId": "01113523768495748338"
     },
     "user_tz": -120
    },
    "id": "-h1KorUc1Avh"
   },
   "outputs": [],
   "source": [
    "def asgn03_05Dictionaries_and_numbers():\n",
    "    # This program reads a string and prints it\n",
    "    s = input()\n",
    "    print(s)\n",
    "\n",
    "    # Change it according to the assignment description\n",
    "\n",
    "    \n",
    "#You can test independently your solution by executing the following line\n",
    "#asgn03_05Dictionaries_and_numbers()"
   ]
  },
  {
   "cell_type": "markdown",
   "metadata": {
    "id": "AMZygEoO1Avh"
   },
   "source": [
    "## Run the following cells to perform the provided tests"
   ]
  },
  {
   "cell_type": "code",
   "execution_count": null,
   "metadata": {
    "cellView": "form",
    "id": "N1bUjyQx4VCu"
   },
   "outputs": [],
   "source": [
    "#@title RUN and TEST ALL\n",
    "\n",
    "from IPython.display import display, Markdown \n",
    "\n",
    "\n",
    "\n",
    "inputs=[['123'],['12345'],['123456789']]\n",
    "expected_outputs=[[\"{'1': 1, '2': 2, '3': 3}\"],\\\n",
    "                  [\"{'1': 1, '2': 2, '3': 3, '4': 4, '5': 5}\"], \\\n",
    "                 [\"{'1': 1, '2': 2, '3': 3, '4': 4, '5': 5, '6': 6, '7': 7, '8': 8, '9': 9}\"]]\n",
    "    \n",
    "for k in range(len(inputs)):\n",
    "    display(Markdown(f'{k+1}. TEST {inputs[k]} = {\",\".join(expected_outputs[k])}'))\n",
    "    print('-'*60)\n",
    "    run_and_test(inputs[k],expected_outputs[k],asgn03_05Dictionaries_and_numbers)\n"
   ]
  },
  {
   "cell_type": "markdown",
   "metadata": {
    "id": "ZAwIIAjh1Avk"
   },
   "source": [
    "# Assignment 03.06: Play with class 3\n",
    "## Statement\n",
    "\n",
    "Write a program that \n",
    "\n",
    "- Reads three integers:\n",
    "    -   `start`\n",
    "    -  `stop`\n",
    "    -  `step`\n",
    "- Creates a range `r` using these three parameters\n",
    "- Creates a list `x` containing the elements in `r`\n",
    "- Creates a list `y` containing the square of each element in `r`\n",
    "- Creates a dictionary `d` that maps each element in `x` with the corresponding one in `y`\n",
    "- Prints `d`\n",
    "\n",
    "## Example input 1\n",
    "\n",
    "```\n",
    "0\n",
    "```\n",
    "\n",
    "```\n",
    "6\n",
    "```\n",
    "\n",
    "```\n",
    "1\n",
    "```\n",
    "\n",
    "## Example output 1\n",
    "\n",
    "```\n",
    "{0: 0, 1: 1, 2: 4, 3: 9, 4: 16, 5: 25}\n",
    "```\n",
    "\n",
    "## Example input 2\n",
    "\n",
    "```\n",
    "0\n",
    "```\n",
    "\n",
    "```\n",
    "100\n",
    "```\n",
    "\n",
    "```\n",
    "10\n",
    "```\n",
    "\n",
    "## Example output 2\n",
    "\n",
    "```\n",
    "{0: 0, 10: 100, 20: 400, 30: 900, 40: 1600, 50: 2500, 60: 3600, 70: 4900, 80: 6400, 90: 8100}\n",
    "```\n",
    "\n"
   ]
  },
  {
   "cell_type": "markdown",
   "metadata": {
    "id": "hSjpl7kw1Avl"
   },
   "source": [
    "## Write your solution here\n",
    "\n",
    "\n",
    "*   Do not change the first line (`def ...():`)\n",
    "*   Maintain the given indentation\n",
    "*   You can run some tests by yourself by decommenting the last line\n",
    "\n"
   ]
  },
  {
   "cell_type": "code",
   "execution_count": null,
   "metadata": {
    "executionInfo": {
     "elapsed": 252,
     "status": "ok",
     "timestamp": 1622908668696,
     "user": {
      "displayName": "Daniele Licari",
      "photoUrl": "https://lh3.googleusercontent.com/a-/AOh14GgLeN60kpJtdBKQxyRrU7GwxagDOGnFA3G3Z8BwMA=s64",
      "userId": "01113523768495748338"
     },
     "user_tz": -120
    },
    "id": "BO0rcio61Avm"
   },
   "outputs": [],
   "source": [
    "def asgn03_06Play_with_class_3():\n",
    "    # This program reads a string and prints it\n",
    "    s = input()\n",
    "    print(s)\n",
    "\n",
    "    # Change it according to the assignment description\n",
    "\n",
    "\n",
    "#You can test independently your solution by executing the following line\n",
    "# asgn03_06Play_with_class_3()"
   ]
  },
  {
   "cell_type": "markdown",
   "metadata": {
    "id": "v9qx53YK1Avo"
   },
   "source": [
    "## Run the following cells to perform the provided tests"
   ]
  },
  {
   "cell_type": "code",
   "execution_count": null,
   "metadata": {
    "cellView": "form",
    "id": "EOeMNaPb42mS"
   },
   "outputs": [],
   "source": [
    "#@title RUN and TEST ALL\n",
    "\n",
    "from IPython.display import display, Markdown \n",
    "\n",
    "\n",
    "\n",
    "inputs=[[0,6,1],[0,30,2],[0,100,10]]\n",
    "expected_outputs=[[\"{0: 0, 1: 1, 2: 4, 3: 9, 4: 16, 5: 25}\"],\\\n",
    "                  [\"{0: 0, 2: 4, 4: 16, 6: 36, 8: 64, 10: 100, 12: 144, 14: 196, 16: 256, 18: 324, 20: 400, 22: 484, 24: 576, 26: 676, 28: 784}\"], \\\n",
    "                 [\"{0: 0, 10: 100, 20: 400, 30: 900, 40: 1600, 50: 2500, 60: 3600, 70: 4900, 80: 6400, 90: 8100}\"]]\n",
    "    \n",
    "for k in range(len(inputs)):\n",
    "    display(Markdown(f'{k+1}. TEST {inputs[k]} = {\",\".join(expected_outputs[k])}'))\n",
    "    print('-'*60)\n",
    "    run_and_test(inputs[k],expected_outputs[k],asgn03_06Play_with_class_3)\n"
   ]
  }
 ],
 "metadata": {
  "colab": {
   "collapsed_sections": [],
   "name": "03Collections_Assignments.ipynb",
   "provenance": [],
   "toc_visible": true
  },
  "kernelspec": {
   "display_name": "Python 3 (ipykernel)",
   "language": "python",
   "name": "python3"
  },
  "language_info": {
   "codemirror_mode": {
    "name": "ipython",
    "version": 3
   },
   "file_extension": ".py",
   "mimetype": "text/x-python",
   "name": "python",
   "nbconvert_exporter": "python",
   "pygments_lexer": "ipython3",
   "version": "3.10.1"
  },
  "toc-autonumbering": true,
  "toc-showcode": false,
  "toc-showmarkdowntxt": false
 },
 "nbformat": 4,
 "nbformat_minor": 4
}
