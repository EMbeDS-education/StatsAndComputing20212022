{
 "cells": [
  {
   "cell_type": "markdown",
   "metadata": {},
   "source": [
    "<center><font size=\"+4\">Programming and Data Analytics 1 2021/2022</font></center>\n",
    "<center><font size=\"+2\">Sant'Anna School of Advanced Studies, Pisa, Italy</font></center>\n",
    "<center><img src=\"https://github.com/EMbeDS-education/StatsAndComputing20212022/raw/main/PDA/jupyter/jupyterNotebooks/images/SSSA.png\" width=\"700\" alt=\"The extensible parallel architecture of MultiVeStA\"></center>\n",
    "\n",
    "<center><font size=\"+2\">Course responsible</font></center>\n",
    "<center><font size=\"+2\">Andrea Vandin a.vandin@santannapisa.it</font></center>\n",
    "\n",
    "<center><font size=\"+2\">Co-lecturer </font></center>\n",
    "<center><font size=\"+2\">Daniele Licari d.licari@santannapisa.it</font></center>\n",
    "\n",
    "---"
   ]
  },
  {
   "cell_type": "markdown",
   "metadata": {
    "id": "PzTk_3lR7k5D"
   },
   "source": [
    "<center><font size=\"+4\">Assignments for</font></center>\n",
    "<center><font size=\"+4\">Lecture 1:  Course Introduction</font></center>\n",
    "\n",
    "---"
   ]
  },
  {
   "cell_type": "code",
   "execution_count": 3,
   "metadata": {
    "cellView": "form",
    "colab": {
     "base_uri": "https://localhost:8080/"
    },
    "executionInfo": {
     "elapsed": 317,
     "status": "ok",
     "timestamp": 1622905634426,
     "user": {
      "displayName": "Daniele Licari",
      "photoUrl": "https://lh3.googleusercontent.com/a-/AOh14GgLeN60kpJtdBKQxyRrU7GwxagDOGnFA3G3Z8BwMA=s64",
      "userId": "01113523768495748338"
     },
     "user_tz": -120
    },
    "id": "p666zbf89eCD",
    "outputId": "ad62730a-3d73-4074-fabc-eb9cee9067f8"
   },
   "outputs": [
    {
     "name": "stdout",
     "output_type": "stream",
     "text": [
      "  % Total    % Received % Xferd  Average Speed   Time    Time     Time  Current\n",
      "                                 Dload  Upload   Total   Spent    Left  Speed\n",
      "100  4452  100  4452    0     0  26819      0 --:--:-- --:--:-- --:--:-- 26819\n"
     ]
    }
   ],
   "source": [
    "#@title <mark>RUN, BUT DO NOT MODIFY</mark>\n",
    "!curl -O  https://raw.githubusercontent.com/EMbeDS-education/StatsAndComputing20212022/main/PDA/jupyter/jupyterNotebooks/assignments/auto_testing.py\n",
    "%reload_ext autoreload\n",
    "%autoreload 2\n",
    "from auto_testing import *"
   ]
  },
  {
   "cell_type": "markdown",
   "metadata": {
    "id": "Om177ojl7k5J"
   },
   "source": [
    "# Assignment 01.01: Sum of three numbers\n",
    "## Statement\n",
    "\n",
    "Write a program that prints the Italian translation of `Hello, world!`. \n",
    "\n",
    "That is: `Ciao, mondo!`\n",
    "\n",
    "## Example input\n",
    "\n",
    "```\n",
    " \n",
    "```\n",
    "\n",
    "## Example output\n",
    "\n",
    "```\n",
    "Ciao, mondo!\n",
    "```\n",
    "\n",
    "## Theory\n",
    "\n",
    "Well, there is not much theory to use here. \n",
    "\n",
    "In the example, you can see how to print 'Hello, world!'."
   ]
  },
  {
   "cell_type": "markdown",
   "metadata": {
    "id": "FMZE1vmMbRLz"
   },
   "source": [
    "## Write your solution here\n",
    "\n",
    "\n",
    "*   Do not change the first line (`def ...():`)\n",
    "*   Maintain the given indentation\n",
    "*   You can run some tests by yourself by decommenting the last line\n",
    "\n"
   ]
  },
  {
   "cell_type": "code",
   "execution_count": 4,
   "metadata": {
    "executionInfo": {
     "elapsed": 460,
     "status": "ok",
     "timestamp": 1622905638233,
     "user": {
      "displayName": "Daniele Licari",
      "photoUrl": "https://lh3.googleusercontent.com/a-/AOh14GgLeN60kpJtdBKQxyRrU7GwxagDOGnFA3G3Z8BwMA=s64",
      "userId": "01113523768495748338"
     },
     "user_tz": -120
    },
    "id": "Yg4jeBnA7k5K"
   },
   "outputs": [],
   "source": [
    "def asgn01_01Hello_world():\n",
    "    # This program prints 'Hello, world!':\n",
    "    print('Hello, world!')\n",
    "\n",
    "    # Can you change it so that it prints the same, \n",
    "    #but in Italian?\n",
    "    \n",
    "#You can test independently your solution by executing the following line\n",
    "#asgn01_01Hello_world()"
   ]
  },
  {
   "cell_type": "markdown",
   "metadata": {
    "id": "_lqTangP8R46"
   },
   "source": [
    "## Run the following cells to perform the provided tests"
   ]
  },
  {
   "cell_type": "code",
   "execution_count": 5,
   "metadata": {
    "cellView": "form",
    "colab": {
     "base_uri": "https://localhost:8080/"
    },
    "executionInfo": {
     "elapsed": 11,
     "status": "ok",
     "timestamp": 1622905639328,
     "user": {
      "displayName": "Daniele Licari",
      "photoUrl": "https://lh3.googleusercontent.com/a-/AOh14GgLeN60kpJtdBKQxyRrU7GwxagDOGnFA3G3Z8BwMA=s64",
      "userId": "01113523768495748338"
     },
     "user_tz": -120
    },
    "id": "fwX9u8aW7k5L",
    "outputId": "241d2a05-543c-4496-a256-ad961b54f9d7"
   },
   "outputs": [
    {
     "name": "stdout",
     "output_type": "stream",
     "text": [
      "\u001b[36m\u001b[4m Test [] \u001b[0m\n",
      "\u001b[43m\u001b[32m The program prints 1 lines as expected.\u001b[0m\n",
      "\n",
      "  Line 0\n",
      "\u001b[43m\u001b[32m  Expected and actual output match:\n",
      "  Ciao, mondo!\u001b[0m\n",
      "\n",
      "\u001b[43m\u001b[32mTest PASSED!\u001b[0m\n"
     ]
    }
   ],
   "source": [
    "#@title TEST 1 \n",
    "inputs=[]\n",
    "expected_outputs=[\"Ciao, mondo!\"]\n",
    "run_and_test(inputs,expected_outputs,asgn01_01Hello_world)"
   ]
  },
  {
   "cell_type": "markdown",
   "metadata": {
    "id": "1JMDln-vIKRB"
   },
   "source": [
    "# Assignment 01.02: Hello, name1 name2\n",
    "## Statement\n",
    "\n",
    "Write a program that reads two names (one per line), and prints \n",
    "\n",
    "`'Hello, name1 name2'`, where `name1` and `name2` are the two read names.\n",
    "\n",
    "\n",
    "## Example input\n",
    "\n",
    "```\n",
    "Andrea\n",
    "```\n",
    "\n",
    "```\n",
    "Daniele\n",
    "```\n",
    "\n",
    "## Example output\n",
    "\n",
    "```\n",
    "Hello, Andrea Daniele\n",
    "```\n",
    "\n",
    "## Theory\n",
    "\n",
    "In the notebook shown in class, we have seen \n",
    "\n",
    "- how to read a name from console and print `Hello, name`\n",
    "- how to print more parts/sentences using a single `print()` \n",
    "\n",
    "You have to combine these two features."
   ]
  },
  {
   "cell_type": "markdown",
   "metadata": {
    "id": "IROCYUDQb0t7"
   },
   "source": [
    "## Write your solution here\n",
    "\n",
    "\n",
    "*   Do not change the first line (`def ...():`)\n",
    "*   Maintain the given indentation\n",
    "*   You can run some tests by yourself by decommenting the last line\n",
    "\n"
   ]
  },
  {
   "cell_type": "code",
   "execution_count": 7,
   "metadata": {
    "executionInfo": {
     "elapsed": 255,
     "status": "ok",
     "timestamp": 1622905774690,
     "user": {
      "displayName": "Daniele Licari",
      "photoUrl": "https://lh3.googleusercontent.com/a-/AOh14GgLeN60kpJtdBKQxyRrU7GwxagDOGnFA3G3Z8BwMA=s64",
      "userId": "01113523768495748338"
     },
     "user_tz": -120
    },
    "id": "QtPMkR0aJRYv"
   },
   "outputs": [],
   "source": [
    "def asgn01_02Hello_name1_name2():\n",
    "    # This program reads one name, name1, and then prints \n",
    "    # 'Hello, name1':\n",
    "    name1=input()\n",
    "    print('Hello,', name1)\n",
    "\n",
    "    # Can you change it so that it reads two names, \n",
    "    # name1 and name2, and then prints prints \n",
    "    # 'Hello, name1 name2'?\n",
    "    \n",
    "#You can test independently your solution by executing the following line\n",
    "#asgn01_02Hello_name1_name2()"
   ]
  },
  {
   "cell_type": "markdown",
   "metadata": {
    "id": "HcoyoBpScQ7f"
   },
   "source": [
    "## Run the following cells to perform the provided tests"
   ]
  },
  {
   "cell_type": "code",
   "execution_count": 8,
   "metadata": {
    "cellView": "form",
    "colab": {
     "base_uri": "https://localhost:8080/"
    },
    "executionInfo": {
     "elapsed": 322,
     "status": "ok",
     "timestamp": 1622905777520,
     "user": {
      "displayName": "Daniele Licari",
      "photoUrl": "https://lh3.googleusercontent.com/a-/AOh14GgLeN60kpJtdBKQxyRrU7GwxagDOGnFA3G3Z8BwMA=s64",
      "userId": "01113523768495748338"
     },
     "user_tz": -120
    },
    "id": "bMb_4CIDtvsp",
    "outputId": "5728d180-3d56-408b-8766-71de61594959"
   },
   "outputs": [
    {
     "name": "stdout",
     "output_type": "stream",
     "text": [
      "------------------------------------------------------------\n",
      "\u001b[36m\u001b[4m Test ['Renzo', 'Lucia'] \u001b[0m\n",
      "\u001b[43m\u001b[32m The program prints 1 lines as expected.\u001b[0m\n",
      "\n",
      "  Line 0\n",
      "\u001b[43m\u001b[32m  Expected and actual output match:\n",
      "  Hello, Renzo Lucia\u001b[0m\n",
      "\n",
      "\u001b[43m\u001b[32mTest PASSED!\u001b[0m\n",
      "------------------------------------------------------------\n",
      "\u001b[36m\u001b[4m Test ['Andrea', 'Daniele'] \u001b[0m\n",
      "\u001b[43m\u001b[32m The program prints 1 lines as expected.\u001b[0m\n",
      "\n",
      "  Line 0\n",
      "\u001b[43m\u001b[32m  Expected and actual output match:\n",
      "  Hello, Andrea Daniele\u001b[0m\n",
      "\n",
      "\u001b[43m\u001b[32mTest PASSED!\u001b[0m\n",
      "------------------------------------------------------------\n",
      "\u001b[36m\u001b[4m Test ['Daniele', 'Andrea'] \u001b[0m\n",
      "\u001b[43m\u001b[32m The program prints 1 lines as expected.\u001b[0m\n",
      "\n",
      "  Line 0\n",
      "\u001b[43m\u001b[32m  Expected and actual output match:\n",
      "  Hello, Daniele Andrea\u001b[0m\n",
      "\n",
      "\u001b[43m\u001b[32mTest PASSED!\u001b[0m\n"
     ]
    }
   ],
   "source": [
    "#@title RUN and TEST ALL\n",
    "#@markdown 1. TEST Renzo Lucia\n",
    "#@markdown 2. TEST Andrea Daniele\n",
    "#@markdown 3. TEST Daniele Andrea\n",
    "\n",
    "\n",
    "\n",
    "inputs=[['Renzo','Lucia'],['Andrea','Daniele'],['Daniele','Andrea']]\n",
    "expected_outputs=[ [\"Hello, Renzo Lucia\"],[\"Hello, Andrea Daniele\"],[\"Hello, Daniele Andrea\"]]\n",
    "\n",
    "\n",
    "for k in range(len(inputs)):\n",
    "    print('-'*60)\n",
    "    run_and_test(inputs[k],expected_outputs[k],asgn01_02Hello_name1_name2)\n",
    "\n",
    "\n"
   ]
  },
  {
   "cell_type": "markdown",
   "metadata": {
    "id": "CvRjQW_ITQ8T"
   },
   "source": [
    "# Assignment 01.03: Hello, name1 and name2\n",
    "## Statement\n",
    "\n",
    "Write a program that reads two names (one per line), and prints \n",
    "\n",
    "`'Hello, name1 and name2'`, where `name1` and `name2` are the two read names.\n",
    "\n",
    "\n",
    "## Example input\n",
    "\n",
    "```\n",
    "Andrea\n",
    "```\n",
    "\n",
    "```\n",
    "Daniele\n",
    "```\n",
    "\n",
    "## Example output\n",
    "\n",
    "```\n",
    "Hello, Andrea and Daniele\n",
    "```\n",
    "\n",
    "## Theory\n",
    "\n",
    "In the notebook shown in class, we have seen \n",
    "\n",
    "- how to read one name from console and print `Hello, name`\n",
    "- how to print more parts/sentences using a single `print()` \n",
    "\n",
    "You have to combine these two features.\n",
    "\n",
    "Note that with respect to assignment 01.02 you have to add an 'and' between the two names."
   ]
  },
  {
   "cell_type": "markdown",
   "metadata": {
    "id": "Lr-UYAK6b18z"
   },
   "source": [
    "## Write your solution here\n",
    "\n",
    "\n",
    "*   Do not change the first line (`def ...():`)\n",
    "*   Maintain the given indentation\n",
    "*   You can run some tests by yourself by decommenting the last line\n",
    "\n"
   ]
  },
  {
   "cell_type": "code",
   "execution_count": 10,
   "metadata": {
    "executionInfo": {
     "elapsed": 256,
     "status": "ok",
     "timestamp": 1622905844723,
     "user": {
      "displayName": "Daniele Licari",
      "photoUrl": "https://lh3.googleusercontent.com/a-/AOh14GgLeN60kpJtdBKQxyRrU7GwxagDOGnFA3G3Z8BwMA=s64",
      "userId": "01113523768495748338"
     },
     "user_tz": -120
    },
    "id": "ghJWGiEPUD9v"
   },
   "outputs": [],
   "source": [
    "def asgn01_03Hello_name1_and_name2():\n",
    "    # This program reads one name, name1, and then prints 'Hello, name1':\n",
    "    name1=input()\n",
    "    print('Hello,', name1)\n",
    "\n",
    "    # Can you change it so that it reads two names, \n",
    "    # name1 and name2, and then prints prints \n",
    "    # 'Hello, name1 and name2'?\n",
    "\n",
    "    \n",
    "#You can test independently your solution by executing the following line\n",
    "#asgn01_03Hello_name1_and_name2()"
   ]
  },
  {
   "cell_type": "markdown",
   "metadata": {
    "id": "XJA5H0ULcVAM"
   },
   "source": [
    "## Run the following cells to perform the provided tests"
   ]
  },
  {
   "cell_type": "code",
   "execution_count": 12,
   "metadata": {
    "cellView": "form",
    "colab": {
     "base_uri": "https://localhost:8080/"
    },
    "executionInfo": {
     "elapsed": 249,
     "status": "ok",
     "timestamp": 1622905865939,
     "user": {
      "displayName": "Daniele Licari",
      "photoUrl": "https://lh3.googleusercontent.com/a-/AOh14GgLeN60kpJtdBKQxyRrU7GwxagDOGnFA3G3Z8BwMA=s64",
      "userId": "01113523768495748338"
     },
     "user_tz": -120
    },
    "id": "TXNx80MMuVLI",
    "outputId": "74dac658-922e-4378-d216-1faf9fe6e2da"
   },
   "outputs": [
    {
     "name": "stdout",
     "output_type": "stream",
     "text": [
      "------------------------------------------------------------\n",
      "\u001b[36m\u001b[4m Test ['Renzo', 'Lucia'] \u001b[0m\n",
      "\u001b[43m\u001b[32m The program prints 1 lines as expected.\u001b[0m\n",
      "\n",
      "  Line 0\n",
      "\u001b[43m\u001b[32m  Expected and actual output match:\n",
      "  Hello, Renzo and Lucia\u001b[0m\n",
      "\n",
      "\u001b[43m\u001b[32mTest PASSED!\u001b[0m\n",
      "------------------------------------------------------------\n",
      "\u001b[36m\u001b[4m Test ['Andrea', 'Daniele'] \u001b[0m\n",
      "\u001b[43m\u001b[32m The program prints 1 lines as expected.\u001b[0m\n",
      "\n",
      "  Line 0\n",
      "\u001b[43m\u001b[32m  Expected and actual output match:\n",
      "  Hello, Andrea and Daniele\u001b[0m\n",
      "\n",
      "\u001b[43m\u001b[32mTest PASSED!\u001b[0m\n",
      "------------------------------------------------------------\n",
      "\u001b[36m\u001b[4m Test ['Daniele', 'Andrea'] \u001b[0m\n",
      "\u001b[43m\u001b[32m The program prints 1 lines as expected.\u001b[0m\n",
      "\n",
      "  Line 0\n",
      "\u001b[43m\u001b[32m  Expected and actual output match:\n",
      "  Hello, Daniele and Andrea\u001b[0m\n",
      "\n",
      "\u001b[43m\u001b[32mTest PASSED!\u001b[0m\n"
     ]
    }
   ],
   "source": [
    "#@title RUN and TEST ALL\n",
    "#@markdown 1. TEST Renzo Lucia\n",
    "#@markdown 2. TEST Andrea Daniele\n",
    "#@markdown 3. TEST Daniele Andrea\n",
    "\n",
    "\n",
    "\n",
    "inputs=[['Renzo','Lucia'],['Andrea','Daniele'],['Daniele','Andrea']]\n",
    "expected_outputs=[ [\"Hello, Renzo and Lucia\"],[\"Hello, Andrea and Daniele\"],[\"Hello, Daniele and Andrea\"]]\n",
    "\n",
    "\n",
    "for k in range(len(inputs)):\n",
    "    print('-'*60)\n",
    "    run_and_test(inputs[k],expected_outputs[k],asgn01_03Hello_name1_and_name2)\n",
    "\n",
    "\n"
   ]
  }
 ],
 "metadata": {
  "colab": {
   "collapsed_sections": [],
   "name": "01ConsoleIOandVariables_Assignments.ipynb",
   "provenance": [],
   "toc_visible": true
  },
  "kernelspec": {
   "display_name": "Python 3 (ipykernel)",
   "language": "python",
   "name": "python3"
  },
  "language_info": {
   "codemirror_mode": {
    "name": "ipython",
    "version": 3
   },
   "file_extension": ".py",
   "mimetype": "text/x-python",
   "name": "python",
   "nbconvert_exporter": "python",
   "pygments_lexer": "ipython3",
   "version": "3.10.1"
  },
  "toc-autonumbering": true,
  "toc-showcode": false,
  "toc-showmarkdowntxt": false
 },
 "nbformat": 4,
 "nbformat_minor": 4
}
