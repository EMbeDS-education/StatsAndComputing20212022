{
 "cells": [
  {
   "cell_type": "markdown",
   "metadata": {
    "id": "h5NGq0EV7k4-"
   },
   "source": [
    "<center><font size=\"+4\">Introduction to Programming and Machine Learning in Python 2020/2021</font></center>\n",
    "<center><font size=\"+2\">Module 1</font></center>\n",
    "<center><font size=\"+2\">Scuola Normale Superiore, Pisa, Italy</font></center>\n",
    "\n",
    "<center><font size=\"+2\">Course responsibles</font></center>\n",
    "<center><font size=\"+2\">Andrea Vandin a.vandin@santannapisa.it</font></center>\n",
    "<center><font size=\"+2\">Daniele Licari d.licari@santannapisa.it</font></center>\n",
    "\n",
    "---"
   ]
  },
  {
   "cell_type": "markdown",
   "metadata": {
    "id": "PzTk_3lR7k5D"
   },
   "source": [
    "<center><font size=\"+4\">Assignments for</font></center>\n",
    "<center><font size=\"+4\">Lecture 4: Control and Repetition Statements</font><br/></center>\n",
    "<center><font size=\"+2\"> and CSV manipulation/visualization applied on COVID-19 data</font></center>\n",
    "\n",
    "---\n"
   ]
  },
  {
   "cell_type": "code",
   "execution_count": 1,
   "metadata": {
    "cellView": "form",
    "colab": {
     "base_uri": "https://localhost:8080/"
    },
    "executionInfo": {
     "elapsed": 1975,
     "status": "ok",
     "timestamp": 1622909713233,
     "user": {
      "displayName": "Daniele Licari",
      "photoUrl": "https://lh3.googleusercontent.com/a-/AOh14GgLeN60kpJtdBKQxyRrU7GwxagDOGnFA3G3Z8BwMA=s64",
      "userId": "01113523768495748338"
     },
     "user_tz": -120
    },
    "id": "p666zbf89eCD",
    "outputId": "cafe9bca-03cf-4d92-f4cb-0e9aab51ab82"
   },
   "outputs": [
    {
     "name": "stdout",
     "output_type": "stream",
     "text": [
      "  % Total    % Received % Xferd  Average Speed   Time    Time     Time  Current\n",
      "                                 Dload  Upload   Total   Spent    Left  Speed\n",
      "100  4452  100  4452    0     0  18784      0 --:--:-- --:--:-- --:--:-- 18784\n",
      "  % Total    % Received % Xferd  Average Speed   Time    Time     Time  Current\n",
      "                                 Dload  Upload   Total   Spent    Left  Speed\n",
      "100  7485  100  7485    0     0  37054      0 --:--:-- --:--:-- --:--:-- 36871\n"
     ]
    }
   ],
   "source": [
    "#@title RUN, BUT DO NOT MODIFY\n",
    "!curl -O  https://raw.githubusercontent.com/EMbeDS-education/SNS-IProML2021/main/jupyter/jupyterNotebooks/assignments/auto_testing.py\n",
    "!curl -O  https://raw.githubusercontent.com/EMbeDS-education/SNS-IProML2021/main/jupyter/jupyterNotebooks/assignments/dpc-covid19-ita-andamento-nazionale.csv\n",
    "%reload_ext autoreload\n",
    "%autoreload 2\n",
    "from auto_testing import *"
   ]
  },
  {
   "cell_type": "markdown",
   "metadata": {
    "id": "Om177ojl7k5J"
   },
   "source": [
    "# Assignment 04.01: If-Linear equation\n",
    "## Statement\n",
    "\n",
    "Write a program that solves a linear equation _ax = b_ in **integers**. \n",
    "\n",
    "Given two integers _a_ and _b_ (_a_ may be zero), \n",
    "- print a single integer root if it exists or\n",
    "- print `no solution` if no integer solution exists\n",
    "- print `many solutions` if many integer solutions exist.\n",
    "\n",
    "## Example input #1\n",
    "\n",
    "```\n",
    "1\n",
    "```\n",
    "\n",
    "```\n",
    "-2\n",
    "```\n",
    "\n",
    "## Example output #1\n",
    "\n",
    "```\n",
    "-2\n",
    "```\n",
    "\n",
    "## Example input #2\n",
    "\n",
    "```\n",
    "2\n",
    "```\n",
    "\n",
    "```\n",
    "-1\n",
    "```\n",
    "\n",
    "## Example output #2\n",
    "\n",
    "```\n",
    "no solution\n",
    "```\n",
    "\n"
   ]
  },
  {
   "cell_type": "markdown",
   "metadata": {
    "id": "FMZE1vmMbRLz"
   },
   "source": [
    "## Write your solution here\n",
    "\n",
    "\n",
    "*   Do not change the first line (`def ...():`)\n",
    "*   Maintain the given indentation\n",
    "*   You can run some tests by yourself by decommenting the last line\n",
    "\n"
   ]
  },
  {
   "cell_type": "code",
   "execution_count": 3,
   "metadata": {
    "executionInfo": {
     "elapsed": 13,
     "status": "ok",
     "timestamp": 1622909899205,
     "user": {
      "displayName": "Daniele Licari",
      "photoUrl": "https://lh3.googleusercontent.com/a-/AOh14GgLeN60kpJtdBKQxyRrU7GwxagDOGnFA3G3Z8BwMA=s64",
      "userId": "01113523768495748338"
     },
     "user_tz": -120
    },
    "id": "Yg4jeBnA7k5K"
   },
   "outputs": [],
   "source": [
    "def asgn04_01If_Linear_equation():\n",
    "    # This program prints 'Hello, world!':\n",
    "    print('Hello, world!')\n",
    "\n",
    "    # Change it to solve the assignment\n",
    "\n",
    "    \n",
    "#You can test independently your solution by executing the following line\n",
    "#asgn04_01If_Linear_equation()"
   ]
  },
  {
   "cell_type": "markdown",
   "metadata": {
    "id": "_lqTangP8R46"
   },
   "source": [
    "## Run the following cells to perform the provided tests"
   ]
  },
  {
   "cell_type": "code",
   "execution_count": null,
   "metadata": {
    "cellView": "form",
    "id": "uv3gdWMQ9FmP"
   },
   "outputs": [],
   "source": [
    "#@title RUN and TEST ALL\n",
    "\n",
    "from IPython.display import display, Markdown \n",
    "\n",
    "\n",
    "\n",
    "inputs=[[1,-2],[2,-1],[0,0],[5,0],[0,7],[10,11],[1,30000]]\n",
    "expected_outputs=[[\"-2\"],[\"no solution\"],[\"many solutions\"],['0'],\\\n",
    "                  [\"no solution\"],[\"no solution\"],[\"30000\"]]\n",
    "    \n",
    "for k in range(len(inputs)):\n",
    "    display(Markdown(f'{k+1}. TEST {inputs[k]} = {\",\".join(expected_outputs[k])}'))\n",
    "    print('-'*60)\n",
    "    run_and_test(inputs[k],expected_outputs[k],asgn04_01If_Linear_equation)\n"
   ]
  },
  {
   "cell_type": "markdown",
   "metadata": {
    "id": "1JMDln-vIKRB"
   },
   "source": [
    "# Assignment 04.02: If-Queen move\n",
    "## Statement\n",
    "\n",
    "Chess queen moves horizontally, vertically or diagonally in any number of squares. <br/>\n",
    "Given two different squares of the chessboard, determine whether a queen can go from the first square to the second one in a single move. <br/>\n",
    "The chessboard is assumed to not contain further pieces.\n",
    "\n",
    "The program receives four numbers from 1 to 8 each specifying the column and the row number (the first two refer to the starting square, the last two refer to the target one). <br/>\n",
    "The program should output \n",
    "- `YES` if a queen can go from the first square to the second one in a single move or \n",
    "- `NO` otherwise.\n",
    "\n",
    "\n",
    "## Example input\n",
    "\n",
    "```\n",
    "1\n",
    "1\n",
    "2\n",
    "2\n",
    "```\n",
    "\n",
    "## Example output\n",
    "\n",
    "```\n",
    "YES\n",
    "```\n",
    "\n",
    "We suggest you to use intelligible (self-commenting) names for the variables...\n"
   ]
  },
  {
   "cell_type": "markdown",
   "metadata": {
    "id": "IROCYUDQb0t7"
   },
   "source": [
    "## Write your solution here\n",
    "\n",
    "\n",
    "*   Do not change the first line (`def ...():`)\n",
    "*   Maintain the given indentation\n",
    "*   You can run some tests by yourself by decommenting the last line\n",
    "\n"
   ]
  },
  {
   "cell_type": "code",
   "execution_count": 5,
   "metadata": {
    "executionInfo": {
     "elapsed": 284,
     "status": "ok",
     "timestamp": 1622909965077,
     "user": {
      "displayName": "Daniele Licari",
      "photoUrl": "https://lh3.googleusercontent.com/a-/AOh14GgLeN60kpJtdBKQxyRrU7GwxagDOGnFA3G3Z8BwMA=s64",
      "userId": "01113523768495748338"
     },
     "user_tz": -120
    },
    "id": "QtPMkR0aJRYv"
   },
   "outputs": [],
   "source": [
    "def asgn04_02If_Queen_move():\n",
    "    # This program reads a string and prints it\n",
    "    str1=input()\n",
    "    print(str1)\n",
    "\n",
    "    # Can you change it to solve the assignment?\n",
    "    \n",
    "    \n",
    "#You can test independently your solution by executing the following line\n",
    "#asgn04_02If_Queen_move()"
   ]
  },
  {
   "cell_type": "markdown",
   "metadata": {
    "id": "HcoyoBpScQ7f"
   },
   "source": [
    "## Run the following cells to perform the provided tests"
   ]
  },
  {
   "cell_type": "code",
   "execution_count": null,
   "metadata": {
    "cellView": "form",
    "id": "X6tvTspi-MiJ"
   },
   "outputs": [],
   "source": [
    "#@title RUN and TEST ALL\n",
    "\n",
    "from IPython.display import display, Markdown \n",
    "\n",
    "\n",
    "\n",
    "inputs=[[1,1,2,2],[1,1,2,3],[5,6,3,3],[3,3,1,1],[6,5,2,5],\\\n",
    "        [7,6,5,2],[2,7,6,7],[2,7,4,6],[7,4,2,5],[7,5,1,1],\\\n",
    "        [2,4,5,7],[3,5,7,1],[5,2,5,8],[1,2,3,1],[2,1,1,3]]\n",
    "expected_outputs=[[\"YES\"],[\"NO\"],[\"NO\"],[\"YES\"],[\"YES\"],\\\n",
    "                  [\"NO\"],[\"YES\"],[\"NO\"],[\"NO\"],[\"NO\"],\\\n",
    "                  [\"YES\"],[\"YES\"],[\"YES\"],[\"NO\"],[\"NO\"]]\n",
    "    \n",
    "for k in range(len(inputs)):\n",
    "    display(Markdown(f'{k+1}. TEST {inputs[k]} = {\",\".join(expected_outputs[k])}'))\n",
    "    print('-'*60)\n",
    "    run_and_test(inputs[k],expected_outputs[k],asgn04_02If_Queen_move)\n"
   ]
  },
  {
   "cell_type": "markdown",
   "metadata": {
    "id": "CvRjQW_ITQ8T"
   },
   "source": [
    "# Assignment 04.03: Read integers\n",
    "## Statement\n",
    "\n",
    "Write a program that reads positive integer numbers from the keyboard as long as the user provides them. <br/>\n",
    "The program should terminate as soon as the user provides an input that is not numeric (e.g. `'end'`, `'ciao'`, ...), which is considered as a terminating token.\n",
    "\n",
    "Upon reading the termination token, the program prints in separate lines:\n",
    "\n",
    "- how many numbers were given\n",
    "- how many odd numbers were given\n",
    "- the mean of the given numbers\n",
    "- the maximum given number\n",
    "\n",
    "**Untested extra challenge:** some of you might be tempted to solve this assignment using a list to store all numbers, and then iterate it. This is problematic in case of big data, or live data, as there might too many numbers to store. Also, it would be inefficient, as you would have to iterate the list of numbers twice. \n",
    "\n",
    "- Try to solve this assignment without using a list. You should define a variable per quantity we want to observe (or more if necessary), and update them every time a new number arrives.\n",
    "\n",
    "## Example input 1\n",
    "\n",
    "```\n",
    "1\n",
    "```\n",
    "\n",
    "```\n",
    "2\n",
    "```\n",
    "\n",
    "```\n",
    "3\n",
    "```\n",
    "\n",
    "```\n",
    "end\n",
    "```\n",
    "\n",
    "## Example output 1\n",
    "\n",
    "```\n",
    "3\n",
    "```\n",
    "\n",
    "```\n",
    "2\n",
    "```\n",
    "\n",
    "```\n",
    "2.0\n",
    "```\n",
    "\n",
    "```\n",
    "3\n",
    "```\n",
    "\n",
    "## Hints\n",
    "\n",
    "Here a suggestion on how to compute the maximum:\n",
    "\n",
    "- Define a variable `m` with value smaller than any value that might be given. \n",
    "- Every time a new number `n` is given, compare `m` with `n`, and update `m` if `n` is bigger than `m`. \n",
    "\n",
    "Whenever you read with `input()`, you read a string. Strings have a method to check if they represent a number..."
   ]
  },
  {
   "cell_type": "markdown",
   "metadata": {
    "id": "Lr-UYAK6b18z"
   },
   "source": [
    "## Write your solution here\n",
    "\n",
    "\n",
    "*   Do not change the first line (`def ...():`)\n",
    "*   Maintain the given indentation\n",
    "*   You can run some tests by yourself by decommenting the last line\n",
    "\n"
   ]
  },
  {
   "cell_type": "code",
   "execution_count": 13,
   "metadata": {
    "executionInfo": {
     "elapsed": 261,
     "status": "ok",
     "timestamp": 1622910617438,
     "user": {
      "displayName": "Daniele Licari",
      "photoUrl": "https://lh3.googleusercontent.com/a-/AOh14GgLeN60kpJtdBKQxyRrU7GwxagDOGnFA3G3Z8BwMA=s64",
      "userId": "01113523768495748338"
     },
     "user_tz": -120
    },
    "id": "ghJWGiEPUD9v"
   },
   "outputs": [],
   "source": [
    "def asgn04_03Read_integers():\n",
    "    # This program reads a numbwe and prints it\n",
    "    a = int(input())\n",
    "    print(a)\n",
    "\n",
    "    # Change it according to the assignment description\n",
    "\n",
    "\n",
    "#You can test independently your solution by executing the following line\n",
    "#asgn04_03Read_integers()"
   ]
  },
  {
   "cell_type": "markdown",
   "metadata": {
    "id": "XJA5H0ULcVAM"
   },
   "source": [
    "## Run the following cells to perform the provided tests"
   ]
  },
  {
   "cell_type": "code",
   "execution_count": null,
   "metadata": {
    "id": "42vQBC_gAm4e"
   },
   "outputs": [],
   "source": [
    "#@title RUN and TEST ALL\n",
    "\n",
    "from IPython.display import display, Markdown \n",
    "\n",
    "\n",
    "\n",
    "inputs=[['1', '2', '3', 'end'],['1', '2', '3', 'fine'],['1', '3', '5', '7', '9', '11', 'ciao'],\\\n",
    "        ['11', '9', '7', '5', '3', '1', 'ciao']]\n",
    "expected_outputs=[[\"3\",\"2\",\"2.0\",\"3\"],[\"3\",\"2\",\"2.0\",\"3\"],['6', '6', '6.0', '11'],\\\n",
    "                  ['6', '6', '6.0', '11']]\n",
    "    \n",
    "for k in range(len(inputs)):\n",
    "    display(Markdown(f'{k+1}. TEST {inputs[k]} = {\",\".join(expected_outputs[k])}'))\n",
    "    print('-'*60)\n",
    "    run_and_test(inputs[k],expected_outputs[k],asgn04_03Read_integers)\n"
   ]
  },
  {
   "cell_type": "markdown",
   "metadata": {
    "id": "XYSmynIm83GP"
   },
   "source": [
    "# Assignment 04.04: While-Average of sequence\n",
    "## Statement\n",
    "\n",
    "Read a sequence of non-negative integers, where each number is written in a separate line. The sequence ends with 0. Upon termination, print the average of the sequence. \n",
    "\n",
    "This assignment should be solved using while loops\n",
    "\n",
    "## Example input\n",
    "\n",
    "```\n",
    "10\n",
    "```\n",
    "\n",
    "```\n",
    "30\n",
    "```\n",
    "\n",
    "```\n",
    "0\n",
    "```\n",
    "\n",
    "## Example output\n",
    "\n",
    "```\n",
    "20.0\n",
    "```\n",
    "\n"
   ]
  },
  {
   "cell_type": "markdown",
   "metadata": {
    "id": "_XdWvj1R83GQ"
   },
   "source": [
    "## Write your solution here\n",
    "\n",
    "\n",
    "*   Do not change the first line (`def ...():`)\n",
    "*   Maintain the given indentation\n",
    "*   You can run some tests by yourself by decommenting the last line\n",
    "\n"
   ]
  },
  {
   "cell_type": "code",
   "execution_count": 15,
   "metadata": {
    "executionInfo": {
     "elapsed": 292,
     "status": "ok",
     "timestamp": 1622910780571,
     "user": {
      "displayName": "Daniele Licari",
      "photoUrl": "https://lh3.googleusercontent.com/a-/AOh14GgLeN60kpJtdBKQxyRrU7GwxagDOGnFA3G3Z8BwMA=s64",
      "userId": "01113523768495748338"
     },
     "user_tz": -120
    },
    "id": "ewoiaJGW83GQ"
   },
   "outputs": [],
   "source": [
    "def asgn04_04While_Average_of_sequence():\n",
    "    # This program reads a numbwe and prints it\n",
    "    a = int(input())\n",
    "    print(a)\n",
    "\n",
    "    # Change it according to the assignment description\n",
    "\n",
    "\n",
    "#You can test independently your solution by executing the following line\n",
    "#asgn04_04While_Average_of_sequence()"
   ]
  },
  {
   "cell_type": "markdown",
   "metadata": {
    "id": "FCNXKoAJ83GV"
   },
   "source": [
    "## Run the following cells to perform the provided tests"
   ]
  },
  {
   "cell_type": "code",
   "execution_count": null,
   "metadata": {
    "cellView": "form",
    "id": "niuOKfaUBJUv"
   },
   "outputs": [],
   "source": [
    "#@title RUN and TEST ALL\n",
    "\n",
    "from IPython.display import display, Markdown \n",
    "\n",
    "\n",
    "\n",
    "inputs=[['10', '30', '0'],['1', '1', '1', '1', '0'],['1', '2', '0'],\\\n",
    "        ['1', '2', '3', '4', '0'],['1234', '0'],['1', '2', '3', '4', '5', '6', '7', '0']]\n",
    "expected_outputs=[[\"20.0\"],[\"1.0\"],[\"1.5\"],[\"2.5\"],[\"1234.0\"],[\"4.0\"]]\n",
    "    \n",
    "for k in range(len(inputs)):\n",
    "    display(Markdown(f'{k+1}. TEST {inputs[k]} = {\",\".join(expected_outputs[k])}'))\n",
    "    print('-'*60)\n",
    "    run_and_test(inputs[k],expected_outputs[k],asgn04_04While_Average_of_sequence)\n"
   ]
  },
  {
   "cell_type": "markdown",
   "metadata": {
    "id": "OrzHQ6gm83GZ"
   },
   "source": [
    "# Assignment 04.05: While-Fibonacci\n",
    "## Statement\n",
    "\n",
    "Fibonacci numbers are the numbers in the [integer sequence ](https://en.wikipedia.org/wiki/Integer_sequence)starting with 1, 1 where every number after the first two is the sum of the two preceding ones:\n",
    "\n",
    "1, 1, 2, 3, 5, 8, 13, 21, 34, ...\n",
    "\n",
    "Given a positive integer **n**, print the **n**th Fibonacci number.\n",
    "\n",
    "This assignment should be solved using while loops\n",
    "\n",
    "## Example input\n",
    "\n",
    "```\n",
    "6\n",
    "```\n",
    "\n",
    "## Example output\n",
    "\n",
    "```\n",
    "8\n",
    "```"
   ]
  },
  {
   "cell_type": "markdown",
   "metadata": {
    "id": "4URO_dHJ83Ga"
   },
   "source": [
    "## Write your solution here\n",
    "\n",
    "\n",
    "*   Do not change the first line (`def ...():`)\n",
    "*   Maintain the given indentation\n",
    "*   You can run some tests by yourself by decommenting the last line\n",
    "\n"
   ]
  },
  {
   "cell_type": "code",
   "execution_count": 17,
   "metadata": {
    "executionInfo": {
     "elapsed": 269,
     "status": "ok",
     "timestamp": 1622910949398,
     "user": {
      "displayName": "Daniele Licari",
      "photoUrl": "https://lh3.googleusercontent.com/a-/AOh14GgLeN60kpJtdBKQxyRrU7GwxagDOGnFA3G3Z8BwMA=s64",
      "userId": "01113523768495748338"
     },
     "user_tz": -120
    },
    "id": "x4ETfW8Z83Ga"
   },
   "outputs": [],
   "source": [
    "def asgn04_05While_Fibonacci():\n",
    "    # This program reads a numbwe and prints it\n",
    "    a = int(input())\n",
    "    print(a)\n",
    "\n",
    "    # Change it according to the assignment description\n",
    "\n",
    "\n",
    "#You can test independently your solution by executing the following line\n",
    "#asgn04_05While_Fibonacci()"
   ]
  },
  {
   "cell_type": "markdown",
   "metadata": {
    "id": "0NWXYSq483Gb"
   },
   "source": [
    "## Run the following cells to perform the provided tests"
   ]
  },
  {
   "cell_type": "code",
   "execution_count": null,
   "metadata": {
    "cellView": "form",
    "id": "YpB2xJG0BtVh"
   },
   "outputs": [],
   "source": [
    "#@title RUN and TEST ALL\n",
    "\n",
    "from IPython.display import display, Markdown \n",
    "\n",
    "\n",
    "\n",
    "inputs=[[6],[1],[2],[3],[4],[7],[14],[18]]\n",
    "expected_outputs=[[\"8\"],[\"1\"],[\"1\"],[\"2\"],[\"3\"],[\"13\"],[\"377\"],[\"2584\"]]\n",
    "    \n",
    "for k in range(len(inputs)):\n",
    "    display(Markdown(f'{k+1}. TEST {inputs[k]} = {\",\".join(expected_outputs[k])}'))\n",
    "    print('-'*60)\n",
    "    run_and_test(inputs[k],expected_outputs[k],asgn04_05While_Fibonacci)\n"
   ]
  },
  {
   "cell_type": "markdown",
   "metadata": {
    "id": "ciulVFG383Gg"
   },
   "source": [
    "# Assignment 04.06: For-Sum of N numbers\n",
    "## Statement\n",
    "\n",
    "`N` numbers are given in the input. Read them and print their sum. \n",
    "\n",
    "The first line of input contains the integer `N`, which is the number of integers to follow. Each of the next `N` lines contains one integer. Print the sum of these `N` integers.\n",
    "\n",
    "This assignment should be solved using for loops\n",
    "\n",
    "## Example input\n",
    "\n",
    "```\n",
    "10\n",
    "1\n",
    "2\n",
    "1\n",
    "1\n",
    "1\n",
    "1\n",
    "3\n",
    "1\n",
    "1\n",
    "1\n",
    "```\n",
    "\n",
    "## Example output\n",
    "\n",
    "```\n",
    "13\n",
    "```\n",
    "\n"
   ]
  },
  {
   "cell_type": "markdown",
   "metadata": {
    "id": "DGWTK0kR83Gi"
   },
   "source": [
    "## Write your solution here\n",
    "\n",
    "\n",
    "*   Do not change the first line (`def ...():`)\n",
    "*   Maintain the given indentation\n",
    "*   You can run some tests by yourself by decommenting the last line\n",
    "\n"
   ]
  },
  {
   "cell_type": "code",
   "execution_count": 19,
   "metadata": {
    "executionInfo": {
     "elapsed": 255,
     "status": "ok",
     "timestamp": 1622911176380,
     "user": {
      "displayName": "Daniele Licari",
      "photoUrl": "https://lh3.googleusercontent.com/a-/AOh14GgLeN60kpJtdBKQxyRrU7GwxagDOGnFA3G3Z8BwMA=s64",
      "userId": "01113523768495748338"
     },
     "user_tz": -120
    },
    "id": "Enz3bEGR83Gi"
   },
   "outputs": [],
   "source": [
    "def asgn04_06For_Sum_of_N_numbers():\n",
    "    # This program reads a numbwe and prints it\n",
    "    a = int(input())\n",
    "    print(a)\n",
    "\n",
    "    # Change it according to the assignment description\n",
    "\n",
    "\n",
    "#You can test independently your solution by executing the following line\n",
    "#asgn04_06For_Sum_of_N_numbers()"
   ]
  },
  {
   "cell_type": "markdown",
   "metadata": {
    "id": "JeXi4A__83Gi"
   },
   "source": [
    "## Run the following cells to perform the provided tests"
   ]
  },
  {
   "cell_type": "code",
   "execution_count": null,
   "metadata": {
    "id": "JNnqG1QYCbv8"
   },
   "outputs": [],
   "source": [
    "#@title RUN and TEST ALL\n",
    "\n",
    "from IPython.display import display, Markdown \n",
    "\n",
    "\n",
    "\n",
    "inputs=[['1', '891'],['0'],['10', '1', '2', '1', '1', '1', '1', '3', '1', '1', '1'],\\\n",
    "        ['10', '1', '2', '3', '4', '5', '6', '7', '8', '9', '10'],['2', '235', '56'],\\\n",
    "        ['4', '4', '4', '4', '4']]\n",
    "expected_outputs=[[\"891\"],[\"0\"],[\"13\"],[\"55\"],[\"291\"],[\"16\"]]\n",
    "    \n",
    "for k in range(len(inputs)):\n",
    "    display(Markdown(f'{k+1}. TEST {inputs[k]} = {\",\".join(expected_outputs[k])}'))\n",
    "    print('-'*60)\n",
    "    run_and_test(inputs[k],expected_outputs[k],asgn04_06For_Sum_of_N_numbers)\n"
   ]
  },
  {
   "cell_type": "markdown",
   "metadata": {
    "id": "3kuaF8ZI83Gm"
   },
   "source": [
    "# Assignment 04.07: For-Series\n",
    "## Statement\n",
    "\n",
    "Given two integers `A` and `B`. Print all numbers from `A` to `B` inclusively, all in the same line separated by a space.\n",
    "In particular, the numbers should be printed\n",
    "- in increasing order, if `A < B`, or \n",
    "- in decreasing order, if `A >= B`.\n",
    "\n",
    "This assignment should be solved using for loops\n",
    "\n",
    "## Example input 1\n",
    "\n",
    "```\n",
    "8\n",
    "```\n",
    "\n",
    "```\n",
    "5\n",
    "```\n",
    "\n",
    "## Example output 1\n",
    "\n",
    "```\n",
    "8 7 6 5\n",
    "```\n",
    "\n",
    "## Example input 2\n",
    "\n",
    "```\n",
    "5\n",
    "```\n",
    "\n",
    "```\n",
    "8\n",
    "```\n",
    "\n",
    "## Example output 2\n",
    "\n",
    "```\n",
    "5 6 7 8\n",
    "```\n"
   ]
  },
  {
   "cell_type": "markdown",
   "metadata": {
    "id": "ubsNGAQY83Gm"
   },
   "source": [
    "## Write your solution here\n",
    "\n",
    "\n",
    "*   Do not change the first line (`def ...():`)\n",
    "*   Maintain the given indentation\n",
    "*   You can run some tests by yourself by decommenting the last line\n",
    "\n"
   ]
  },
  {
   "cell_type": "code",
   "execution_count": 21,
   "metadata": {
    "executionInfo": {
     "elapsed": 272,
     "status": "ok",
     "timestamp": 1622911281891,
     "user": {
      "displayName": "Daniele Licari",
      "photoUrl": "https://lh3.googleusercontent.com/a-/AOh14GgLeN60kpJtdBKQxyRrU7GwxagDOGnFA3G3Z8BwMA=s64",
      "userId": "01113523768495748338"
     },
     "user_tz": -120
    },
    "id": "w-aeIJEw83Gn"
   },
   "outputs": [],
   "source": [
    "def asgn04_07For_Series():\n",
    "    # This program reads a numbwe and prints it\n",
    "    a = int(input())\n",
    "    print(a)\n",
    "\n",
    "    # Change it according to the assignment description\n",
    "\n",
    "\n",
    "#You can test independently your solution by executing the following line\n",
    "#asgn04_07For_Series()"
   ]
  },
  {
   "cell_type": "markdown",
   "metadata": {
    "id": "RF_4ydwf83Gr"
   },
   "source": [
    "## Run the following cells to perform the provided tests"
   ]
  },
  {
   "cell_type": "code",
   "execution_count": null,
   "metadata": {
    "cellView": "form",
    "id": "HukDAeBaC47-"
   },
   "outputs": [],
   "source": [
    "#@title RUN and TEST ALL\n",
    "\n",
    "from IPython.display import display, Markdown \n",
    "\n",
    "\n",
    "\n",
    "inputs=[['8', '5'],['5', '8'],['1', '10'],['179', '179'],['-14', '7'],['12', '-5']]\n",
    "expected_outputs=[[\"8 7 6 5\"],[\"5 6 7 8\"],[\"1 2 3 4 5 6 7 8 9 10\"],[\"179\"],[\"-14 -13 -12 -11 -10 -9 -8 -7 -6 -5 -4 -3 -2 -1 0 1 2 3 4 5 6 7\"],[\"12 11 10 9 8 7 6 5 4 3 2 1 0 -1 -2 -3 -4 -5\"]]\n",
    "    \n",
    "for k in range(len(inputs)):\n",
    "    display(Markdown(f'{k+1}. TEST {inputs[k]} = {\",\".join(expected_outputs[k])}'))\n",
    "    print('-'*60)\n",
    "    run_and_test(inputs[k],expected_outputs[k],asgn04_07For_Series)\n"
   ]
  },
  {
   "cell_type": "markdown",
   "metadata": {
    "id": "Upj8pqov83HI"
   },
   "source": [
    "# Assignment 04.08: For-Sum of cubes\n",
    "## Statement\n",
    "\n",
    "For the given integer `N`, calculate the following sum:\n",
    "\n",
    "$1^3$ + $2^3$ + ... + $N^3$\n",
    "\n",
    "This assignment should be solved using for loops\n",
    "\n",
    "## Example input\n",
    "\n",
    "```\n",
    "3\n",
    "```\n",
    "\n",
    "## Example output\n",
    "\n",
    "```\n",
    "36\n",
    "```\n",
    "\n"
   ]
  },
  {
   "cell_type": "markdown",
   "metadata": {
    "id": "eZlHiITb83HI"
   },
   "source": [
    "## Write your solution here\n",
    "\n",
    "\n",
    "*   Do not change the first line (`def ...():`)\n",
    "*   Maintain the given indentation\n",
    "*   You can run some tests by yourself by decommenting the last line\n",
    "\n"
   ]
  },
  {
   "cell_type": "code",
   "execution_count": 23,
   "metadata": {
    "executionInfo": {
     "elapsed": 6,
     "status": "ok",
     "timestamp": 1622911321436,
     "user": {
      "displayName": "Daniele Licari",
      "photoUrl": "https://lh3.googleusercontent.com/a-/AOh14GgLeN60kpJtdBKQxyRrU7GwxagDOGnFA3G3Z8BwMA=s64",
      "userId": "01113523768495748338"
     },
     "user_tz": -120
    },
    "id": "AHo4vbwm83HJ"
   },
   "outputs": [],
   "source": [
    "def asgn04_08For_Sum_of_cubes():\n",
    "    # This program reads a numbwe and prints it\n",
    "    a = int(input())\n",
    "    print(a)\n",
    "\n",
    "    # Change it according to the assignment description\n",
    "\n",
    "\n",
    "#You can test independently your solution by executing the following line\n",
    "#asgn04_08For_Sum_of_cubes()"
   ]
  },
  {
   "cell_type": "markdown",
   "metadata": {
    "id": "bGdYWPpB83HJ"
   },
   "source": [
    "## Run the following cells to perform the provided tests"
   ]
  },
  {
   "cell_type": "code",
   "execution_count": null,
   "metadata": {
    "id": "32tr5T_yDXOQ"
   },
   "outputs": [],
   "source": [
    "#@title RUN and TEST ALL\n",
    "\n",
    "from IPython.display import display, Markdown \n",
    "\n",
    "\n",
    "\n",
    "inputs=[['1'],['2'],['3'],['4'],['9'],['20']]\n",
    "expected_outputs=[[\"1\"],[\"9\"],[\"36\"],[\"100\"],[\"2025\"],[\"44100\"]]\n",
    "    \n",
    "for k in range(len(inputs)):\n",
    "    display(Markdown(f'{k+1}. TEST {inputs[k]} = {\",\".join(expected_outputs[k])}'))\n",
    "    print('-'*60)\n",
    "    run_and_test(inputs[k],expected_outputs[k],asgn04_08For_Sum_of_cubes)\n"
   ]
  },
  {
   "cell_type": "markdown",
   "metadata": {
    "id": "2lv3rrdh83HN"
   },
   "source": [
    "# Assignment 04.09: For-Sum of cubes\n",
    "## Statement\n",
    "\n",
    "Write a program that \n",
    "- reads the CSV file **dpc-covid19-ita-andamento-nazionale.csv** provided here \n",
    "  - It contains Italian official COVID'19 data (downloaded from [here](https://github.com/pcm-dpc/COVID-19) on 2020-05-08)\n",
    "- computes some quantities on the data in the CSV file.\n",
    "\n",
    "For this assignment, we are interested only in \n",
    "- the number of currently infected individuals (label totale_positivi), and\n",
    "- how they divide among being 'hospitalized' or in 'home isolation'. \n",
    "\n",
    "In particular, the infected individuals can be either\n",
    "\n",
    "- 'hospitalized' (label totale_ospedalizzati), or\n",
    "- in 'home isolation' (label isolamento_domiciliare)\n",
    "\n",
    "Your program should compute two lists with one entry per row in the CSV file:\n",
    "\n",
    "- `currently_hosp_perc` containing the percentage of infected individuals hospitalized\n",
    "- `currently_home_perc` containing the percentage of infected individuals in home isolation\n",
    "\n",
    "After computing these two lists, you should:\n",
    "\n",
    "- print the minimum value in `currently_hosp_perc`\n",
    "- print the maximum value in `currently_home_perc`\n",
    "- for each day for each we have measurements, print the corresponding entries in `currently_hosp_perc` and `currently_home_perc` in the same line but separated by a space. Each pair of numbers should be printed in a different row\n",
    "\n",
    "In all the cases, **you should print rounding up to the second decimal digit, using 4 digits in total.** \n",
    "\n",
    "We have shown in class that this can be obtained by doing:\n",
    "\n",
    "- `print( \"%4.2f\" % n ).         # old way of doing this`\n",
    "- `print(\"{:4.2f}\".format(n) )   # new way of doing this`\n",
    "\n",
    "where `n` is the float we want to print\n",
    "\n",
    "## Hint\n",
    "\n",
    "What you are required to di is not so different from what we saw in class. \n",
    "\n",
    "We suggest you to first create a list per label of interest mentioned above:\n",
    "\n",
    "- currently_infected\n",
    "- currently_hosp\n",
    "- currently_home\n",
    "\n",
    "After the data has been loaded in the three lists, you should just properly iterate such lists to compute the required quantities, and print the required results.\n",
    "\n",
    "The function zip might help you in iterating the elements of `currently_hosp_perc` and `currently_home_perc` at the same time\n",
    "\n",
    "## Expected output\n",
    "\n",
    "```\n",
    "17.97\n",
    "```\n",
    "\n",
    "```\n",
    "82.03\n",
    "```\n",
    "\n",
    "```\n",
    "57.47 42.53 \n",
    "```\n",
    "\n",
    "```\n",
    "48.08 51.92 \n",
    "```\n",
    "\n",
    "```\n",
    "42.60 57.40 \n",
    "```\n",
    "\n",
    "```\n",
    "51.70 48.30 \n",
    "```\n",
    "\n",
    "```\n",
    "49.82 50.18 \n",
    "```\n",
    "\n",
    "```\n",
    "48.24 51.76 \n",
    "```\n",
    "\n",
    "```\n",
    "49.40 50.60 \n",
    "```\n",
    "\n",
    "```\n",
    "49.48 50.52 \n",
    "```\n",
    "\n",
    "```\n",
    "55.81 44.19 \n",
    "```\n",
    "\n",
    "```\n",
    "60.64 39.36 \n",
    "```\n",
    "\n",
    "```\n",
    "64.96 35.04 \n",
    "```\n",
    "\n",
    "```\n",
    "72.93 27.07 \n",
    "```\n",
    "\n",
    "```\n",
    "63.58 36.42 \n",
    "```\n",
    "\n",
    "```\n",
    "65.87 34.13 \n",
    "```\n",
    "\n",
    "```\n",
    "63.23 36.77 \n",
    "```\n",
    "\n",
    "```\n",
    "69.47 30.53 \n",
    "```\n",
    "\n",
    "```\n",
    "64.83 35.17 \n",
    "```\n",
    "\n",
    "```\n",
    "60.78 39.22 \n",
    "```\n",
    "\n",
    "```\n",
    "58.54 41.46 \n",
    "```\n",
    "\n",
    "```\n",
    "55.72 44.28 \n",
    "```\n",
    "\n",
    "```\n",
    "55.02 44.98 \n",
    "```\n",
    "\n",
    "```\n",
    "55.81 44.19 \n",
    "```\n",
    "\n",
    "```\n",
    "57.38 42.62 \n",
    "```\n",
    "\n",
    "```\n",
    "57.89 42.11 \n",
    "```\n",
    "\n",
    "```\n",
    "55.00 45.00 \n",
    "```\n",
    "\n",
    "```\n",
    "49.33 50.67 \n",
    "```\n",
    "\n",
    "```\n",
    "48.18 51.82 \n",
    "```\n",
    "\n",
    "```\n",
    "49.01 50.99 \n",
    "```\n",
    "\n",
    "```\n",
    "47.40 52.60 \n",
    "```\n",
    "\n",
    "```\n",
    "46.89 53.11 \n",
    "```\n",
    "\n",
    "```\n",
    "46.25 53.75 \n",
    "```\n",
    "\n",
    "```\n",
    "45.74 54.26 \n",
    "```\n",
    "\n",
    "```\n",
    "44.81 55.19 \n",
    "```\n",
    "\n",
    "```\n",
    "43.58 56.42 \n",
    "```\n",
    "\n",
    "```\n",
    "42.36 57.64 \n",
    "```\n",
    "\n",
    "```\n",
    "42.07 57.93 \n",
    "```\n",
    "\n",
    "```\n",
    "41.50 58.50 \n",
    "```\n",
    "\n",
    "```\n",
    "40.26 59.74 \n",
    "```\n",
    "\n",
    "```\n",
    "39.25 60.75 \n",
    "```\n",
    "\n",
    "```\n",
    "38.42 61.58 \n",
    "```\n",
    "\n",
    "```\n",
    "37.39 62.61 \n",
    "```\n",
    "\n",
    "```\n",
    "36.08 63.92 \n",
    "```\n",
    "\n",
    "```\n",
    "35.28 64.72 \n",
    "```\n",
    "\n",
    "```\n",
    "34.56 65.44 \n",
    "```\n",
    "\n",
    "```\n",
    "33.78 66.22 \n",
    "```\n",
    "\n",
    "```\n",
    "33.04 66.96 \n",
    "```\n",
    "\n",
    "```\n",
    "32.30 67.70 \n",
    "```\n",
    "\n",
    "```\n",
    "31.44 68.56 \n",
    "```\n",
    "\n",
    "```\n",
    "30.50 69.50 \n",
    "```\n",
    "\n",
    "```\n",
    "30.19 69.81 \n",
    "```\n",
    "\n",
    "```\n",
    "29.91 70.09 \n",
    "```\n",
    "\n",
    "```\n",
    "29.14 70.86 \n",
    "```\n",
    "\n",
    "```\n",
    "27.98 72.02 \n",
    "```\n",
    "\n",
    "```\n",
    "26.74 73.26 \n",
    "```\n",
    "\n",
    "```\n",
    "25.74 74.26 \n",
    "```\n",
    "\n",
    "```\n",
    "25.56 74.44 \n",
    "```\n",
    "\n",
    "```\n",
    "25.39 74.61 \n",
    "```\n",
    "\n",
    "```\n",
    "24.70 75.30 \n",
    "```\n",
    "\n",
    "```\n",
    "24.32 75.68 \n",
    "```\n",
    "\n",
    "```\n",
    "23.53 76.47 \n",
    "```\n",
    "\n",
    "```\n",
    "22.76 77.24 \n",
    "```\n",
    "\n",
    "```\n",
    "22.33 77.67 \n",
    "```\n",
    "\n",
    "```\n",
    "22.04 77.96 \n",
    "```\n",
    "\n",
    "```\n",
    "21.08 78.92 \n",
    "```\n",
    "\n",
    "```\n",
    "20.52 79.48 \n",
    "```\n",
    "\n",
    "```\n",
    "20.07 79.93 \n",
    "```\n",
    "\n",
    "```\n",
    "19.54 80.46 \n",
    "```\n",
    "\n",
    "```\n",
    "18.97 81.03 \n",
    "```\n",
    "\n",
    "```\n",
    "18.76 81.24 \n",
    "```\n",
    "\n",
    "```\n",
    "18.71 81.29 \n",
    "```\n",
    "\n",
    "```\n",
    "18.31 81.69 \n",
    "```\n",
    "\n",
    "```\n",
    "17.97 82.03 \n",
    "```\n",
    "\n",
    "```\n",
    "18.68 81.32 \n",
    "```\n",
    "\n",
    "```\n",
    "18.39 81.61 \n",
    "```\n",
    "\n",
    "```\n",
    "17.97 82.03 \n",
    "```\n",
    "\n"
   ]
  },
  {
   "cell_type": "markdown",
   "metadata": {
    "id": "xl4cj0gU83HP"
   },
   "source": [
    "## Write your solution here\n",
    "\n",
    "\n",
    "*   Do not change the first line (`def ...():`)\n",
    "*   Maintain the given indentation\n",
    "*   You can run some tests by yourself by decommenting the last line\n",
    "\n"
   ]
  },
  {
   "cell_type": "code",
   "execution_count": 26,
   "metadata": {
    "executionInfo": {
     "elapsed": 251,
     "status": "ok",
     "timestamp": 1622911454100,
     "user": {
      "displayName": "Daniele Licari",
      "photoUrl": "https://lh3.googleusercontent.com/a-/AOh14GgLeN60kpJtdBKQxyRrU7GwxagDOGnFA3G3Z8BwMA=s64",
      "userId": "01113523768495748338"
     },
     "user_tz": -120
    },
    "id": "shQim6bm83HQ"
   },
   "outputs": [],
   "source": [
    "import csv\n",
    "\n",
    "def asgn04_09COVID_19():\n",
    "    #This program reads the csv file used and\n",
    "    #  stores its header in the list header,  \n",
    "    #  then it prints all its rows\n",
    "    file_name='dpc-covid19-ita-andamento-nazionale.csv'\n",
    "\n",
    "    with open(file_name, 'r') as csvfile:\n",
    "        rows = csv.reader(csvfile, delimiter=',')\n",
    "        header = next(rows,None)\n",
    "        r=0\n",
    "        for row in rows :\n",
    "            print(r)\n",
    "            print(row)\n",
    "            r=r+1\n",
    "\n",
    "\n",
    "\n",
    "\n",
    "#You can test independently your solution by executing the following line\n",
    "#asgn04_09COVID_19()"
   ]
  },
  {
   "cell_type": "markdown",
   "metadata": {
    "id": "pDaBAJtu83HQ"
   },
   "source": [
    "## Run the following cells to perform the provided tests"
   ]
  },
  {
   "cell_type": "code",
   "execution_count": null,
   "metadata": {
    "id": "-O0Sz80383HQ"
   },
   "outputs": [],
   "source": [
    "#@title RUN AND TEST\n",
    "inputs=[]\n",
    "expected_outputs=['17.97', '82.03', '57.47 42.53', '48.08 51.92', '42.60 57.40', '51.70 48.30', '49.82 50.18', '48.24 51.76', '49.40 50.60', '49.48 50.52', '55.81 44.19', '60.64 39.36', '64.96 35.04', '72.93 27.07', '63.58 36.42', '65.87 34.13', '63.23 36.77', '69.47 30.53', '64.83 35.17', '60.78 39.22', '58.54 41.46', '55.72 44.28', '55.02 44.98', '55.81 44.19', '57.38 42.62', '57.89 42.11', '55.00 45.00', '49.33 50.67', '48.18 51.82', '49.01 50.99', '47.40 52.60', '46.89 53.11', '46.25 53.75', '45.74 54.26', '44.81 55.19', '43.58 56.42', '42.36 57.64', '42.07 57.93', '41.50 58.50', '40.26 59.74', '39.25 60.75', '38.42 61.58', '37.39 62.61', '36.08 63.92', '35.28 64.72', '34.56 65.44', '33.78 66.22', '33.04 66.96', '32.30 67.70', '31.44 68.56', '30.50 69.50', '30.19 69.81', '29.91 70.09', '29.14 70.86', '27.98 72.02', '26.74 73.26', '25.74 74.26', '25.56 74.44', '25.39 74.61', '24.70 75.30', '24.32 75.68', '23.53 76.47', '22.76 77.24', '22.33 77.67', '22.04 77.96', '21.08 78.92', '20.52 79.48', '20.07 79.93', '19.54 80.46', '18.97 81.03', '18.76 81.24', '18.71 81.29', '18.31 81.69', '17.97 82.03', '18.68 81.32', '18.39 81.61', '17.97 82.03']\n",
    "run_and_test(inputs,expected_outputs,asgn04_09COVID_19)"
   ]
  }
 ],
 "metadata": {
  "colab": {
   "collapsed_sections": [],
   "name": "04ControlAndRepetitionStatements_Assignments.ipynb",
   "provenance": [],
   "toc_visible": true
  },
  "kernelspec": {
   "display_name": "Python 3",
   "language": "python",
   "name": "python3"
  },
  "language_info": {
   "codemirror_mode": {
    "name": "ipython",
    "version": 3
   },
   "file_extension": ".py",
   "mimetype": "text/x-python",
   "name": "python",
   "nbconvert_exporter": "python",
   "pygments_lexer": "ipython3",
   "version": "3.8.2"
  },
  "toc-autonumbering": true,
  "toc-showcode": false,
  "toc-showmarkdowntxt": false
 },
 "nbformat": 4,
 "nbformat_minor": 4
}
