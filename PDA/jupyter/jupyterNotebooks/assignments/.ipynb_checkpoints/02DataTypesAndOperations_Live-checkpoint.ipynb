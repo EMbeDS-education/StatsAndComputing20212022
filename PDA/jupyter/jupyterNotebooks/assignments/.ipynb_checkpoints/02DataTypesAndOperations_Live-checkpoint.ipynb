{
 "cells": [
  {
   "cell_type": "markdown",
   "metadata": {},
   "source": [
    "<center><font size=\"+4\">Programming and Data Analytics 1 2021/2022</font></center>\n",
    "<center><font size=\"+2\">Sant'Anna School of Advanced Studies, Pisa, Italy</font></center>\n",
    "<center><img src=\"https://github.com/EMbeDS-education/StatsAndComputing20212022/raw/main/PDA/jupyter/jupyterNotebooks/images/SSSA.png\" width=\"700\" alt=\"The extensible parallel architecture of MultiVeStA\"></center>\n",
    "\n",
    "<center><font size=\"+2\">Course responsible</font></center>\n",
    "<center><font size=\"+2\">Andrea Vandin a.vandin@santannapisa.it</font></center>\n",
    "\n",
    "<center><font size=\"+2\">Co-lecturer </font></center>\n",
    "<center><font size=\"+2\">Daniele Licari d.licari@santannapisa.it</font></center>\n",
    "\n",
    "---"
   ]
  },
  {
   "cell_type": "markdown",
   "metadata": {
    "id": "PzTk_3lR7k5D"
   },
   "source": [
    "<center><font size=\"+4\">Live Examples for</font></center>\n",
    "<center><font size=\"+4\">Lecture 2: Data Types and Operations</font></center>\n",
    "\n",
    "---"
   ]
  },
  {
   "cell_type": "code",
   "execution_count": 2,
   "metadata": {
    "cellView": "form",
    "colab": {
     "base_uri": "https://localhost:8080/"
    },
    "executionInfo": {
     "elapsed": 518,
     "status": "ok",
     "timestamp": 1622907326891,
     "user": {
      "displayName": "Daniele Licari",
      "photoUrl": "https://lh3.googleusercontent.com/a-/AOh14GgLeN60kpJtdBKQxyRrU7GwxagDOGnFA3G3Z8BwMA=s64",
      "userId": "01113523768495748338"
     },
     "user_tz": -120
    },
    "id": "p666zbf89eCD",
    "outputId": "85f953d2-c02d-404e-d57e-b10a39b8e6b6"
   },
   "outputs": [
    {
     "name": "stdout",
     "output_type": "stream",
     "text": [
      "  % Total    % Received % Xferd  Average Speed   Time    Time     Time  Current\n",
      "                                 Dload  Upload   Total   Spent    Left  Speed\n",
      "100  4452  100  4452    0     0  32496      0 --:--:-- --:--:-- --:--:-- 32496\n"
     ]
    }
   ],
   "source": [
    "#@title RUN, BUT DO NOT MODIFY\n",
    "!curl -O  https://raw.githubusercontent.com/EMbeDS-education/StatsAndComputing20212022/main/PDA/jupyter/jupyterNotebooks/assignments/auto_testing.py\n",
    "%reload_ext autoreload\n",
    "%autoreload 2\n",
    "from auto_testing import *"
   ]
  },
  {
   "cell_type": "markdown",
   "metadata": {
    "id": "Om177ojl7k5J"
   },
   "source": [
    "# Live 02.01: Two digits\n",
    "## Statement\n",
    "\n",
    "Given a two-digit integer, print its left digit (a tens digit) and then its right digit (a ones digit). Use the operator of integer division for obtaining the tens digit and the operator of taking remainder for obtaining the ones digit. \n",
    "\n",
    "## Example input\n",
    "\n",
    "```\n",
    "79\n",
    "```\n",
    "\n",
    "## Example output\n",
    "\n",
    "```\n",
    "7 9\n",
    "```\n",
    "\n",
    "## Hint\n",
    "\n",
    "The hint is already given in the statement. \n",
    "\n",
    "Sometimes, trying out a different approach might lead to easier solutions..."
   ]
  },
  {
   "cell_type": "markdown",
   "metadata": {
    "id": "5_84W_h-cJRx"
   },
   "source": [
    "## Write your solution here\n",
    "\n",
    "\n",
    "*   Do not change the first line (`def ...():`)\n",
    "*   Maintain the given indentation\n",
    "*   You can run some tests by yourself by decommenting the last line\n",
    "\n"
   ]
  },
  {
   "cell_type": "code",
   "execution_count": 1,
   "metadata": {
    "executionInfo": {
     "elapsed": 7,
     "status": "ok",
     "timestamp": 1622907326379,
     "user": {
      "displayName": "Daniele Licari",
      "photoUrl": "https://lh3.googleusercontent.com/a-/AOh14GgLeN60kpJtdBKQxyRrU7GwxagDOGnFA3G3Z8BwMA=s64",
      "userId": "01113523768495748338"
     },
     "user_tz": -120
    },
    "id": "Yg4jeBnA7k5K"
   },
   "outputs": [],
   "source": [
    "def live02_01Two_digits():\n",
    "    # This program reads and prints\n",
    "    a = input()\n",
    "    print(a)\n",
    "  \n",
    "    \n",
    "#You can test independently your solution by executing the following line\n",
    "#live02_01Two_digits()"
   ]
  },
  {
   "cell_type": "markdown",
   "metadata": {
    "id": "_lqTangP8R46"
   },
   "source": [
    "## Run the following cells to perform the provided tests"
   ]
  },
  {
   "cell_type": "code",
   "execution_count": null,
   "metadata": {
    "cellView": "form",
    "id": "bHNX6Kdm0TDo"
   },
   "outputs": [],
   "source": [
    "#@title RUN and TEST ALL\n",
    "\n",
    "from IPython.display import display, Markdown \n",
    "\n",
    "inputs=[[\"79\"],[\"40\"],[\"11\"],[\"74\"]]\n",
    "expected_outputs=[[\"7 9\"],[\"4 0\"],[\"1 1\"],[\"7 4\"]]\n",
    "    \n",
    "for k in range(len(inputs)):\n",
    "    display(Markdown(f'{k+1}. TEST {inputs[k]} = {\",\".join(expected_outputs[k])}'))\n",
    "    print('-'*60)\n",
    "    run_and_test(inputs[k],expected_outputs[k],live02_01Two_digits)\n"
   ]
  },
  {
   "cell_type": "markdown",
   "metadata": {
    "id": "r5sSbmQqib8H"
   },
   "source": [
    "# Live 02.02: Swap digits\n",
    "## Statement\n",
    "\n",
    "Given a two-digit integer, swap its digits and print the result. \n",
    "\n",
    "## Example input\n",
    "\n",
    "```\n",
    "79\n",
    "```\n",
    "\n",
    "## Example output\n",
    "\n",
    "```\n",
    "97\n",
    "```\n",
    "\n",
    "## Theory\n",
    "\n",
    "What would be the arithmetic expressions to filter the first and second digit? \n",
    "\n",
    "Sometimes, thinking out of the box helps ..."
   ]
  },
  {
   "cell_type": "markdown",
   "metadata": {
    "id": "wNBQNDS_cngZ"
   },
   "source": [
    "## Write your solution here\n",
    "\n",
    "\n",
    "*   Do not change the first line (`def ...():`)\n",
    "*   Maintain the given indentation\n",
    "*   You can run some tests by yourself by decommenting the last line\n",
    "\n"
   ]
  },
  {
   "cell_type": "code",
   "execution_count": 4,
   "metadata": {
    "executionInfo": {
     "elapsed": 236,
     "status": "ok",
     "timestamp": 1622907473615,
     "user": {
      "displayName": "Daniele Licari",
      "photoUrl": "https://lh3.googleusercontent.com/a-/AOh14GgLeN60kpJtdBKQxyRrU7GwxagDOGnFA3G3Z8BwMA=s64",
      "userId": "01113523768495748338"
     },
     "user_tz": -120
    },
    "id": "zsxb6HQMimsg"
   },
   "outputs": [],
   "source": [
    "def live02_02Swap_digits():\n",
    "    # This program reads and prints\n",
    "    a = input()\n",
    "    print(a)\n",
    "  \n",
    "    \n",
    "#You can test independently your solution by executing the following line\n",
    "#live02_02Swap_digits()"
   ]
  },
  {
   "cell_type": "markdown",
   "metadata": {
    "id": "UxRguYDHcqec"
   },
   "source": [
    "## Run the following cells to perform the provided tests"
   ]
  },
  {
   "cell_type": "code",
   "execution_count": null,
   "metadata": {
    "cellView": "form",
    "id": "uY0ATHO20rTb"
   },
   "outputs": [],
   "source": [
    "#@title RUN and TEST ALL\n",
    "\n",
    "from IPython.display import display, Markdown \n",
    "\n",
    "inputs=[[\"79\"],[\"48\"],[\"22\"]]\n",
    "expected_outputs=[[\"97\"],[\"84\"],[\"22\"]]\n",
    "    \n",
    "for k in range(len(inputs)):\n",
    "    display(Markdown(f'{k+1}. TEST {inputs[k]} = {\",\".join(expected_outputs[k])}'))\n",
    "    print('-'*60)\n",
    "    run_and_test(inputs[k],expected_outputs[k],live02_02Swap_digits)\n"
   ]
  }
 ],
 "metadata": {
  "colab": {
   "collapsed_sections": [],
   "name": "02DataTypesAndOperations_Live.ipynb",
   "provenance": [],
   "toc_visible": true
  },
  "kernelspec": {
   "display_name": "Python 3 (ipykernel)",
   "language": "python",
   "name": "python3"
  },
  "language_info": {
   "codemirror_mode": {
    "name": "ipython",
    "version": 3
   },
   "file_extension": ".py",
   "mimetype": "text/x-python",
   "name": "python",
   "nbconvert_exporter": "python",
   "pygments_lexer": "ipython3",
   "version": "3.10.1"
  },
  "toc-autonumbering": true,
  "toc-showcode": false,
  "toc-showmarkdowntxt": false
 },
 "nbformat": 4,
 "nbformat_minor": 4
}
