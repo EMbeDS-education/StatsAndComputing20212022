{
 "cells": [
  {
   "cell_type": "markdown",
   "metadata": {},
   "source": [
    "<center><font size=\"+4\">Programming and Data Analytics 1 2021/2022</font></center>\n",
    "<center><font size=\"+2\">Sant'Anna School of Advanced Studies, Pisa, Italy</font></center>\n",
    "<center><img src=\"https://github.com/EMbeDS-education/StatsAndComputing20212022/raw/main/PDA/jupyter/jupyterNotebooks/images/SSSA.png\" width=\"700\" alt=\"The extensible parallel architecture of MultiVeStA\"></center>\n",
    "\n",
    "<center><font size=\"+2\">Course responsible</font></center>\n",
    "<center><font size=\"+2\">Andrea Vandin a.vandin@santannapisa.it</font></center>\n",
    "\n",
    "<center><font size=\"+2\">Co-lecturer </font></center>\n",
    "<center><font size=\"+2\">Daniele Licari d.licari@santannapisa.it</font></center>\n",
    "\n",
    "---"
   ]
  },
  {
   "cell_type": "markdown",
   "metadata": {
    "id": "PzTk_3lR7k5D"
   },
   "source": [
    "<center><font size=\"+4\">Assignments for</font></center>\n",
    "<center><font size=\"+4\">Lecture 6: Modules,</font></center>\n",
    "<center><font size=\"+4\"> Exceptions & OO Programming</font></center>\n",
    "\n",
    "---"
   ]
  },
  {
   "cell_type": "code",
   "execution_count": null,
   "metadata": {
    "colab": {
     "base_uri": "https://localhost:8080/"
    },
    "executionInfo": {
     "elapsed": 2652,
     "status": "ok",
     "timestamp": 1622912040257,
     "user": {
      "displayName": "Daniele Licari",
      "photoUrl": "https://lh3.googleusercontent.com/a-/AOh14GgLeN60kpJtdBKQxyRrU7GwxagDOGnFA3G3Z8BwMA=s64",
      "userId": "01113523768495748338"
     },
     "user_tz": -120
    },
    "id": "p666zbf89eCD",
    "outputId": "323eb4fc-27d3-43cb-ce5b-8b2f3cf5c3d9"
   },
   "outputs": [],
   "source": [
    "#@title RUN, BUT DO NOT MODIFY\n",
    "!curl -O  https://raw.githubusercontent.com/EMbeDS-education/StatsAndComputing20212022/main/PDA/jupyter/jupyterNotebooks/assignments/auto_testing.py\n",
    "!curl -O  https://raw.githubusercontent.com/EMbeDS-education/StatsAndComputing20212022/main/PDA/jupyter/jupyterNotebooks/assignments/factorial.py\n",
    "!curl -O  https://raw.githubusercontent.com/EMbeDS-education/StatsAndComputing20212022/main/PDA/jupyter/jupyterNotebooks/assignments/factorial_exc.py\n",
    "!curl -O  https://raw.githubusercontent.com/EMbeDS-education/StatsAndComputing20212022/main/PDA/jupyter/jupyterNotebooks/assignments/file.txt\n",
    "%reload_ext autoreload\n",
    "%autoreload 2\n",
    "from auto_testing import *"
   ]
  },
  {
   "cell_type": "markdown",
   "metadata": {
    "id": "Om177ojl7k5J"
   },
   "source": [
    "# Assignment 06.01: Load module\n",
    "## Statement\n",
    "\n",
    "Write a program that \n",
    "\n",
    "- loads the module 'factorial'\n",
    "- reads an integer `n` from the console\n",
    "- invokes the function `compute_factorial` from module factorial using `n` as argument\n",
    "- prints the result \n",
    "\n",
    "## Example input\n",
    "\n",
    "```\n",
    "3\n",
    "```\n",
    "\n",
    "## Example output\n",
    "\n",
    "```\n",
    "6\n",
    "```\n",
    "\n",
    "## Note\n",
    "\n",
    "This exercise is about **importing modules**, not about implementing a function for computing the factorial of a number\n",
    "\n",
    "Therefore, **DO NOT reimplement** the function in the main file. Just import the module\n",
    "\n"
   ]
  },
  {
   "cell_type": "markdown",
   "metadata": {
    "id": "FMZE1vmMbRLz"
   },
   "source": [
    "## Write your solution here\n",
    "\n",
    "*   Do not change the first line (`def ...():`)\n",
    "*   Maintain the given indentation\n",
    "*   You can run some tests by yourself by decommenting the last line\n"
   ]
  },
  {
   "cell_type": "code",
   "execution_count": null,
   "metadata": {
    "executionInfo": {
     "elapsed": 6,
     "status": "ok",
     "timestamp": 1622911948806,
     "user": {
      "displayName": "Daniele Licari",
      "photoUrl": "https://lh3.googleusercontent.com/a-/AOh14GgLeN60kpJtdBKQxyRrU7GwxagDOGnFA3G3Z8BwMA=s64",
      "userId": "01113523768495748338"
     },
     "user_tz": -120
    },
    "id": "Yg4jeBnA7k5K"
   },
   "outputs": [],
   "source": [
    "def asgn06_01Load_module():\n",
    "    #import the module\n",
    "\n",
    "    #read an int\n",
    "\n",
    "    #invoke the required method from the imported module\n",
    "\n",
    "    #print the result\n",
    "\n",
    "    \n",
    "#You can test independently your solution by executing the following line\n",
    "#asgn06_01Load_module()"
   ]
  },
  {
   "cell_type": "markdown",
   "metadata": {
    "id": "_lqTangP8R46"
   },
   "source": [
    "## Run the following cells to perform the provided tests"
   ]
  },
  {
   "cell_type": "code",
   "execution_count": null,
   "metadata": {
    "cellView": "form",
    "id": "Tbq8ppowFneF"
   },
   "outputs": [],
   "source": [
    "#@title RUN and TEST ALL\n",
    "\n",
    "from IPython.display import display, Markdown \n",
    "\n",
    "\n",
    "inputs=[['-2'],['1'],['2'],['3'],['10']]\n",
    "expected_outputs=[[\"Please, provide a natural number\",\"-1\"],[\"1\"],[\"2\"],[\"6\"],[\"3628800\"]]\n",
    "    \n",
    "for k in range(len(inputs)):\n",
    "    display(Markdown(f'{k+1}. TEST {inputs[k]} = {\",\".join(expected_outputs[k])}'))\n",
    "    print('-'*60)\n",
    "    run_and_test(inputs[k],expected_outputs[k],asgn06_01Load_module)\n"
   ]
  },
  {
   "cell_type": "markdown",
   "metadata": {
    "id": "nD7ROVSTFe16"
   },
   "source": [
    "# Assignment 06.02: Load module with exceptions\n",
    "## Statement\n",
    "\n",
    "Write a program that \n",
    "\n",
    "- loads the module 'factorial_exc'\n",
    "- reads an integer `n` from the console\n",
    "- invokes the function `compute_factorial` from module factorial using `n` as argument\n",
    "- prints the result\n",
    "\n",
    "**Note**\n",
    "\n",
    "In this assignment, `compute_factorial` throws an exception of type `ValueError` if `n` is negative.\n",
    "\n",
    "- Your code should be able to catch this exception and print `'We got a ValueError'` in case  it is catched\n",
    "  - You should not raise a new exception. Just catch the ones generated by `compute_factorial`\n",
    "- The results of the function should be printed only if no exception has been caught\n",
    "\n",
    "## Example input\n",
    "\n",
    "```\n",
    "3\n",
    "```\n",
    "\n",
    "## Example output\n",
    "\n",
    "```\n",
    "6\n",
    "```\n",
    "\n",
    "## Example input\n",
    "\n",
    "```\n",
    "-2\n",
    "```\n",
    "\n",
    "## Example output\n",
    "\n",
    "```\n",
    "`We got a ValueError`\n",
    "```\n",
    "\n",
    "## Note\n",
    "\n",
    "This exercise is about importing modules, not about implementing a function for computing the factorial of a number\n",
    "\n",
    "Therefore, DO NOT reimplement the function in the main file. Just import the module"
   ]
  },
  {
   "cell_type": "markdown",
   "metadata": {
    "id": "wTDMljDjFe17"
   },
   "source": [
    "## Write your solution here\n",
    "\n",
    "*   Do not change the first line (`def ...():`)\n",
    "*   Maintain the given indentation\n",
    "*   You can run some tests by yourself by decommenting the last line\n"
   ]
  },
  {
   "cell_type": "code",
   "execution_count": null,
   "metadata": {
    "executionInfo": {
     "elapsed": 383,
     "status": "ok",
     "timestamp": 1622912070748,
     "user": {
      "displayName": "Daniele Licari",
      "photoUrl": "https://lh3.googleusercontent.com/a-/AOh14GgLeN60kpJtdBKQxyRrU7GwxagDOGnFA3G3Z8BwMA=s64",
      "userId": "01113523768495748338"
     },
     "user_tz": -120
    },
    "id": "cyQjo8BcFe18"
   },
   "outputs": [],
   "source": [
    "def asgn06_02Load_module_exc():\n",
    "    #import the module\n",
    "\n",
    "    #read an int\n",
    "\n",
    "    #invoke the required method from the imported module\n",
    "\n",
    "    #print the result\n",
    "\n",
    "    \n",
    "#You can test independently your solution by executing the following line\n",
    "#asgn06_02Load_module_exc()"
   ]
  },
  {
   "cell_type": "markdown",
   "metadata": {
    "id": "ikraMn0HFe1-"
   },
   "source": [
    "## Run the following cells to perform the provided tests"
   ]
  },
  {
   "cell_type": "code",
   "execution_count": null,
   "metadata": {
    "id": "0KpU5jj7GRJS"
   },
   "outputs": [],
   "source": [
    "#@title RUN and TEST ALL\n",
    "\n",
    "from IPython.display import display, Markdown \n",
    "\n",
    "\n",
    "inputs=[['-2'],['1'],['2'],['3'],['10']]\n",
    "expected_outputs=[[\"We got a ValueError\"],[\"1\"],[\"2\"],[\"6\"],[\"3628800\"]]\n",
    "    \n",
    "for k in range(len(inputs)):\n",
    "    display(Markdown(f'{k+1}. TEST {inputs[k]} = {\",\".join(expected_outputs[k])}'))\n",
    "    print('-'*60)\n",
    "    run_and_test(inputs[k],expected_outputs[k],asgn06_02Load_module_exc)\n"
   ]
  },
  {
   "cell_type": "markdown",
   "metadata": {
    "id": "jiNWGuuLFe2E"
   },
   "source": [
    "# Assignment 06.03: Read File\n",
    "## Statement\n",
    "\n",
    "Write a program that \n",
    "\n",
    "- reads line by line the content of file file.txt\n",
    "- each line contains a number. \n",
    "- the program should terminate printing the number of lines and the sum of the numbers in the file as shown below\n",
    "\n",
    "## Example input\n",
    "\n",
    "## Example output\n",
    "\n",
    "```\n",
    "The file has 5 lines\n",
    "```\n",
    "\n",
    "```\n",
    "The sum is 15\n",
    "```\n",
    "\n",
    "## Note\n",
    "\n",
    "This exercise is about loading files. Please, DO NOT just print the required information: we might modify the content of the file before running the tests"
   ]
  },
  {
   "cell_type": "markdown",
   "metadata": {
    "id": "0yPReZYfFe2F"
   },
   "source": [
    "## Write your solution here\n",
    "\n",
    "*   Do not change the first line (`def ...():`)\n",
    "*   Maintain the given indentation\n",
    "*   You can run some tests by yourself by decommenting the last line\n"
   ]
  },
  {
   "cell_type": "code",
   "execution_count": null,
   "metadata": {
    "executionInfo": {
     "elapsed": 396,
     "status": "ok",
     "timestamp": 1622912124225,
     "user": {
      "displayName": "Daniele Licari",
      "photoUrl": "https://lh3.googleusercontent.com/a-/AOh14GgLeN60kpJtdBKQxyRrU7GwxagDOGnFA3G3Z8BwMA=s64",
      "userId": "01113523768495748338"
     },
     "user_tz": -120
    },
    "id": "7W1ueSLSFe2F"
   },
   "outputs": [],
   "source": [
    "def asgn06_03Read_file():\n",
    "    #open the file\n",
    "    #read each line, and use the loaded data\n",
    "    #close the file\n",
    "    #print the required information\n",
    "  \n",
    "    \n",
    "#You can test independently your solution by executing the following line\n",
    "#asgn06_03Read_file()"
   ]
  },
  {
   "cell_type": "markdown",
   "metadata": {
    "id": "CwVxUTbtFe2F"
   },
   "source": [
    "## Run the following cells to perform the provided tests"
   ]
  },
  {
   "cell_type": "code",
   "execution_count": null,
   "metadata": {
    "cellView": "form",
    "colab": {
     "base_uri": "https://localhost:8080/"
    },
    "executionInfo": {
     "elapsed": 5,
     "status": "ok",
     "timestamp": 1622912125771,
     "user": {
      "displayName": "Daniele Licari",
      "photoUrl": "https://lh3.googleusercontent.com/a-/AOh14GgLeN60kpJtdBKQxyRrU7GwxagDOGnFA3G3Z8BwMA=s64",
      "userId": "01113523768495748338"
     },
     "user_tz": -120
    },
    "id": "qEjxxe2QFe2F",
    "outputId": "e37828b3-7970-44f9-db3e-d7cf2895c23d"
   },
   "outputs": [],
   "source": [
    "#@title TEST ''\n",
    "inputs=[]\n",
    "expected_outputs=[\"The file has 5 lines\", \"The sum is 15\"]\n",
    "run_and_test(inputs,expected_outputs,asgn06_03Read_file)"
   ]
  },
  {
   "cell_type": "markdown",
   "metadata": {
    "id": "GI2zVJI_Fe2G"
   },
   "source": [
    "# Assignment 06.04: Shape world\n",
    "## Statement\n",
    "\n",
    "Write two classes `Rectangle` and `Square` that extend (sub-classing) Shape implementing the required methods\n",
    "\n",
    "- `area` and `perimeter` should compute the area or perimeter, respectively of the shape (a rectangle or a square) using the well-known formulas\n",
    "- `describe` should return `'This is a rectangle'` or `'This is a square'` for the two classes, respectively\n",
    "- Please note that the constructor of `Square` must take one parameter only\n",
    "\n",
    "**Bonus question:** would it be useful to let `Square` extend from `Rectangle` rather than from `Shape`? Try it out\n",
    "\n",
    "## Example input\n",
    "\n",
    "```\n",
    "2\n",
    "3\n",
    "4\n",
    "```\n",
    "\n",
    "\n",
    "## Example output\n",
    "\n",
    "```\n",
    "6\n",
    "10\n",
    "This is a rectangle\n",
    "\n",
    "16\n",
    "16\n",
    "This is a square\n",
    "```\n",
    "\n",
    "## Note\n",
    "\n",
    "You might have noticed that unimplemented methods of Shape have the keyword 'pass'. \n",
    "\n",
    "This statement has no effect. This is used in all cases like Shape where we have methods intentionally left unimplemented."
   ]
  },
  {
   "cell_type": "markdown",
   "metadata": {
    "id": "B80yaa-vFe2G"
   },
   "source": [
    "## Write your solution here\n",
    "\n",
    "*   Do not change the first line (`def ...():`)\n",
    "*   Maintain the given indentation\n",
    "*   You can run some tests by yourself by decommenting the last line\n"
   ]
  },
  {
   "cell_type": "code",
   "execution_count": null,
   "metadata": {
    "id": "aUOGfG7YFe2G"
   },
   "outputs": [],
   "source": [
    "def asgn06_04Shape_world():\n",
    "    class Shape:\n",
    "        def __init__(self,h,w):\n",
    "            self._height=h\n",
    "            self._width=w\n",
    "        def area(self):\n",
    "            pass\n",
    "        def perimeter(self):\n",
    "            pass\n",
    "        def describe(self):\n",
    "            return 'This is an abstract shape'\n",
    "\n",
    "    #Implement class rectangle that extends Shape        \n",
    "\n",
    "    #Implement class suqare\n",
    "\n",
    "\n",
    "    #Do not modify. Necessary for tests...\n",
    "    l1 = int(input())\n",
    "    l2 = int(input())\n",
    "    r = Rectangle(l1, l2)\n",
    "    print(r.area())\n",
    "    print(r.perimeter())\n",
    "    print(r.describe())\n",
    "    print()\n",
    "\n",
    "    l = int(input())\n",
    "    s = Square(l)\n",
    "    print(s.area())\n",
    "    print(s.perimeter())\n",
    "    print(s.describe())\n",
    "\n",
    "    \n",
    "#You can test independently your solution by executing the following line\n",
    "#asgn06_04Shape_world()"
   ]
  },
  {
   "cell_type": "markdown",
   "metadata": {
    "id": "b-dFXb40Fe2H"
   },
   "source": [
    "## Run the following cells to perform the provided tests"
   ]
  },
  {
   "cell_type": "code",
   "execution_count": null,
   "metadata": {
    "cellView": "form",
    "colab": {
     "base_uri": "https://localhost:8080/"
    },
    "id": "p6E2o2vGFe2H",
    "outputId": "a12aefe2-be6d-4b28-f876-acc6ce57e9ae"
   },
   "outputs": [],
   "source": [
    "#@title TEST '[2,3,4]'\n",
    "inputs=[2,3,4]\n",
    "expected_outputs=['6', '10', 'This is a rectangle', '', '16', '16', 'This is a square']\n",
    "run_and_test(inputs,expected_outputs,asgn06_04Shape_world)"
   ]
  },
  {
   "cell_type": "code",
   "execution_count": null,
   "metadata": {
    "cellView": "form",
    "id": "7EINwZOmFe2I",
    "outputId": "9f108e76-44b7-4264-9f35-c937724da8a0"
   },
   "outputs": [],
   "source": [
    "#@title TEST '[4,5,5]'\n",
    "inputs=[4,5,5]\n",
    "expected_outputs=['20', '18', 'This is a rectangle', '', '25', '20', 'This is a square']\n",
    "run_and_test(inputs,expected_outputs,asgn06_04Shape_world)"
   ]
  }
 ],
 "metadata": {
  "colab": {
   "collapsed_sections": [],
   "name": "06ModulesExceptionsAndOOP_Assignments.ipynb",
   "provenance": [],
   "toc_visible": true
  },
  "kernelspec": {
   "display_name": "Python 3 (ipykernel)",
   "language": "python",
   "name": "python3"
  },
  "language_info": {
   "codemirror_mode": {
    "name": "ipython",
    "version": 3
   },
   "file_extension": ".py",
   "mimetype": "text/x-python",
   "name": "python",
   "nbconvert_exporter": "python",
   "pygments_lexer": "ipython3",
   "version": "3.8.12"
  },
  "toc-autonumbering": true,
  "toc-showcode": false,
  "toc-showmarkdowntxt": false
 },
 "nbformat": 4,
 "nbformat_minor": 4
}
