{
 "cells": [
  {
   "cell_type": "markdown",
   "metadata": {},
   "source": [
    "<center><font size=\"+4\">Programming and Data Analytics 1 2021/2022</font></center>\n",
    "<center><font size=\"+2\">Sant'Anna School of Advanced Studies, Pisa, Italy</font></center>\n",
    "<center><img src=\"https://github.com/EMbeDS-education/StatsAndComputing20212022/raw/main/PDA/jupyter/jupyterNotebooks/images/SSSA.png\" width=\"700\" alt=\"The extensible parallel architecture of MultiVeStA\"></center>\n",
    "\n",
    "<center><font size=\"+2\">Course responsible</font></center>\n",
    "<center><font size=\"+2\">Andrea Vandin a.vandin@santannapisa.it</font></center>\n",
    "\n",
    "<center><font size=\"+2\">Co-lecturer </font></center>\n",
    "<center><font size=\"+2\">Daniele Licari d.licari@santannapisa.it</font></center>\n",
    "\n",
    "---"
   ]
  },
  {
   "cell_type": "markdown",
   "metadata": {},
   "source": [
    "<center><font size=\"+4\">Assignments for Lecture 2: Data Types and Operations</font></center>\n",
    "\n",
    "---"
   ]
  },
  {
   "cell_type": "code",
   "execution_count": null,
   "metadata": {},
   "outputs": [],
   "source": [
    "def assertEquals(actual,expected,failure_message=\"\"):\n",
    "    if actual != None and type(actual)==str:\n",
    "        actual=actual.strip()\n",
    "    if expected != None and type(expected)==str:        \n",
    "        expected=expected.strip()\n",
    "    if(expected==actual):\n",
    "        print('Test passed')\n",
    "        print('Expected and actual:',expected)\n",
    "    else:\n",
    "        print('Test FAILED')\n",
    "        print('Expected:',expected)\n",
    "        print('Actual:',actual)\n",
    "        if(failure_message!=\"\"):\n",
    "            print(failure_message)\n",
    "    print()"
   ]
  },
  {
   "cell_type": "markdown",
   "metadata": {},
   "source": [
    "# Assignment Sum of three numbers\n",
    "## Statement\n",
    "\n",
    "Write a program that takes three numbers and prints their sum. \n",
    "\n",
    "Every number is given on a separate line.\n",
    "\n",
    "## Example input\n",
    "\n",
    "```\n",
    "2\n",
    "3\n",
    "6\n",
    "```\n",
    "    \n",
    "## Example output\n",
    "\n",
    "```\n",
    "11\n",
    "```\n",
    "\n",
    "## Hint\n",
    "\n",
    "The program already shows you how to read and sum two integers.\n",
    "\n",
    "You have to extend it allowing for a third input."
   ]
  },
  {
   "cell_type": "code",
   "execution_count": null,
   "metadata": {},
   "outputs": [],
   "source": [
    "def asgn1():\n",
    "    # This program reads two numbers and prints their sum:\n",
    "    a = int(input())\n",
    "    b = int(input())\n",
    "    print(a + b)\n",
    "\n",
    "# Can you change it so it can read and sum three numbers?\n",
    "\n",
    "asgn1()"
   ]
  },
  {
   "cell_type": "code",
   "execution_count": null,
   "metadata": {},
   "outputs": [],
   "source": [
    "asgn1()"
   ]
  },
  {
   "cell_type": "code",
   "execution_count": 1,
   "metadata": {},
   "outputs": [
    {
     "name": "stdout",
     "output_type": "stream",
     "text": [
      "-1\n",
      "-2\n",
      "10\n",
      "-1\n",
      "-2\n",
      "10\n"
     ]
    }
   ],
   "source": [
    "from ipykernel.ipkernel import IPythonKernel\n",
    "\n",
    "#Store the correct input()\n",
    "ipython_input = IPythonKernel._input_request\n",
    "\n",
    "#USA YELD!\n",
    "i=0\n",
    "def my_input(*args, **kwargs):\n",
    "    global i\n",
    "    inputs = [-1,-2,10]\n",
    "    #print('Hello world!')\n",
    "    #return ipython_input(*args, **kwargs)\n",
    "    ret = inputs[i]\n",
    "    i=i+1\n",
    "    if(i>= len(inputs)):\n",
    "        i=0\n",
    "    return ret\n",
    "\n",
    "#Replace input() with my_input()\n",
    "IPythonKernel._input_request = my_input\n",
    "\n",
    "# Now I use my_input()\n",
    "a=input()\n",
    "print(a)\n",
    "b=input()\n",
    "print(b)\n",
    "c=input()\n",
    "print(c)\n",
    "\n",
    "a=input()\n",
    "print(a)\n",
    "b=input()\n",
    "print(b)\n",
    "c=input()\n",
    "print(c)\n",
    "\n",
    "#Restore the correct input()\n",
    "IPythonKernel._input_request = ipython_input"
   ]
  },
  {
   "cell_type": "code",
   "execution_count": null,
   "metadata": {},
   "outputs": [],
   "source": [
    "print('ciao')"
   ]
  },
  {
   "cell_type": "code",
   "execution_count": null,
   "metadata": {},
   "outputs": [],
   "source": [
    "name=input('inpdd')\n",
    "print(name)"
   ]
  },
  {
   "cell_type": "code",
   "execution_count": null,
   "metadata": {},
   "outputs": [],
   "source": [
    "IPythonKernel._input_request"
   ]
  },
  {
   "cell_type": "code",
   "execution_count": 3,
   "metadata": {},
   "outputs": [
    {
     "name": "stdin",
     "output_type": "stream",
     "text": [
      " 1\n"
     ]
    },
    {
     "name": "stdout",
     "output_type": "stream",
     "text": [
      "1\n"
     ]
    },
    {
     "name": "stdin",
     "output_type": "stream",
     "text": [
      " 1\n"
     ]
    },
    {
     "name": "stdout",
     "output_type": "stream",
     "text": [
      "1\n"
     ]
    },
    {
     "name": "stdin",
     "output_type": "stream",
     "text": [
      " 1\n"
     ]
    },
    {
     "name": "stdout",
     "output_type": "stream",
     "text": [
      "1\n"
     ]
    }
   ],
   "source": [
    "#works only for output\n",
    "import sys\n",
    "old_stdout = sys.stdout\n",
    "sys.stdout = open('stdout.txt', 'w')\n",
    "print(\"ciaociao\")\n",
    "sys.stdout = old_stdout\n",
    "\n",
    "#does not work for input\n",
    "# old_stdin = sys.stdin\n",
    "# sys.stdin=my_input\n",
    "# a=input()\n",
    "# print(a)\n",
    "# a=input()\n",
    "# print(a)\n",
    "# a=input()\n",
    "# print(a)\n",
    "# sys.stdin = old_stdin"
   ]
  },
  {
   "cell_type": "code",
   "execution_count": null,
   "metadata": {},
   "outputs": [],
   "source": []
  }
 ],
 "metadata": {
  "kernelspec": {
   "display_name": "env_research",
   "language": "python",
   "name": "env_research"
  },
  "language_info": {
   "codemirror_mode": {
    "name": "ipython",
    "version": 3
   },
   "file_extension": ".py",
   "mimetype": "text/x-python",
   "name": "python",
   "nbconvert_exporter": "python",
   "pygments_lexer": "ipython3",
   "version": "3.10.1"
  },
  "toc-autonumbering": true,
  "toc-showcode": false,
  "toc-showmarkdowntxt": false
 },
 "nbformat": 4,
 "nbformat_minor": 4
}
