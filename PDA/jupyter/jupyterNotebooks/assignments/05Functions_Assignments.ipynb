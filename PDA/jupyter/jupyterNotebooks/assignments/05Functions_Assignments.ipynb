{
 "cells": [
  {
   "cell_type": "markdown",
   "metadata": {},
   "source": [
    "<center><font size=\"+4\">Programming and Data Analytics 1 2021/2022</font></center>\n",
    "<center><font size=\"+2\">Sant'Anna School of Advanced Studies, Pisa, Italy</font></center>\n",
    "<center><img src=\"https://github.com/EMbeDS-education/StatsAndComputing20212022/raw/main/PDA/jupyter/jupyterNotebooks/images/SSSA.png\" width=\"700\" alt=\"The extensible parallel architecture of MultiVeStA\"></center>\n",
    "\n",
    "<center><font size=\"+2\">Course responsible</font></center>\n",
    "<center><font size=\"+2\">Andrea Vandin a.vandin@santannapisa.it</font></center>\n",
    "\n",
    "<center><font size=\"+2\">Co-lecturer </font></center>\n",
    "<center><font size=\"+2\">Daniele Licari d.licari@santannapisa.it</font></center>\n",
    "\n",
    "---"
   ]
  },
  {
   "cell_type": "markdown",
   "metadata": {
    "id": "PzTk_3lR7k5D"
   },
   "source": [
    "<center><font size=\"+4\">Assignments for</font></center>\n",
    "<center><font size=\"+4\">Lecture 5: Functions</font></center>\n",
    "\n",
    "---"
   ]
  },
  {
   "cell_type": "code",
   "execution_count": null,
   "metadata": {
    "cellView": "form",
    "id": "p666zbf89eCD"
   },
   "outputs": [],
   "source": [
    "#@title RUN, BUT DO NOT MODIFY\n",
    "!curl -O  https://raw.githubusercontent.com/EMbeDS-education/StatsAndComputing20212022/main/PDA/jupyter/jupyterNotebooks/assignments/auto_testing.py\n",
    "!curl -O  https://raw.githubusercontent.com/EMbeDS-education/StatsAndComputing20212022/main/PDA/jupyter/jupyterNotebooks/assignments/manzoni_1.txt\n",
    "!curl -O  https://raw.githubusercontent.com/EMbeDS-education/StatsAndComputing20212022/main/PDA/jupyter/jupyterNotebooks/assignments/stopwords_italian.txt\n",
    "%reload_ext autoreload\n",
    "%autoreload 2\n",
    "from auto_testing import *"
   ]
  },
  {
   "cell_type": "markdown",
   "metadata": {
    "id": "Om177ojl7k5J"
   },
   "source": [
    "# Assignment 05.01: First letter\n",
    "## Statement\n",
    "\n",
    "Write a function \n",
    "\n",
    "- named `first_letter`\n",
    "- that has a string argument\n",
    "- that computes and returns the first letter of the argument string\n",
    "\n",
    "## Example input to function\n",
    "\n",
    "```\n",
    "My first string\n",
    "```\n",
    "\n",
    "## Example output from function\n",
    "\n",
    "```\n",
    "M\n",
    "```\n",
    "\n",
    "## **Hint**\n",
    "\n",
    "Search for the method of strings that does the work...\n",
    "\n",
    "## **Note** \n",
    "\n",
    "The keyword `def` introduces a function _definition_. It must be followed by the function name and the parenthesized list of formal parameters. The statements that form the body of the function start at the next line and must be indented."
   ]
  },
  {
   "cell_type": "markdown",
   "metadata": {
    "id": "FMZE1vmMbRLz"
   },
   "source": [
    "## Write your solution here\n",
    "\n"
   ]
  },
  {
   "cell_type": "code",
   "execution_count": null,
   "metadata": {
    "colab": {
     "base_uri": "https://localhost:8080/"
    },
    "id": "Yg4jeBnA7k5K",
    "outputId": "d1804f69-374a-4f18-f8ad-1ffd98892eaa"
   },
   "outputs": [],
   "source": [
    "def first_letter(input_string): # to be completed\n",
    "    print('Ciao!')\n",
    "\n",
    "#You can test your funcrtion executing these commands\n",
    "# f = first_letter('Python')\n",
    "# print(f)"
   ]
  },
  {
   "cell_type": "markdown",
   "metadata": {
    "id": "_lqTangP8R46"
   },
   "source": [
    "## Run the following cells to perform the provided tests"
   ]
  },
  {
   "cell_type": "code",
   "execution_count": null,
   "metadata": {
    "cellView": "form",
    "colab": {
     "base_uri": "https://localhost:8080/"
    },
    "id": "fwX9u8aW7k5L",
    "outputId": "a12aefe2-be6d-4b28-f876-acc6ce57e9ae"
   },
   "outputs": [],
   "source": [
    "#@title TEST 'hello','bill',\"hello bill\",\"1234\"\n",
    "inputs=['hello','bill',\"hello bill\",\"1234\"]\n",
    "expected_outputs=[\"h\",\"b\",\"h\",\"1\"]\n",
    "run_and_test_func(inputs,expected_outputs,first_letter)"
   ]
  },
  {
   "cell_type": "markdown",
   "metadata": {
    "id": "qR9RjNIwD-FU"
   },
   "source": [
    "# Assignment 05.02: Divisible by\n",
    "## Statement\n",
    "\n",
    "Write a function \n",
    "\n",
    "- named `divisble_by`\n",
    "- that has two numeric arguments, a number `number` and a divisor `divisor`, in this order\n",
    "- that returns `True` or `False` depending on whether `number` is divisible by `divisor`\n",
    "\n",
    "## Example input to function\n",
    "\n",
    "```\n",
    "10,2\n",
    "```\n",
    "\n",
    "## Example output from function\n",
    "\n",
    "```\n",
    "True\n",
    "```\n",
    "\n",
    "## Hint\n",
    "\n",
    "The remainder operator might come handy for this assignment..."
   ]
  },
  {
   "cell_type": "markdown",
   "metadata": {
    "id": "-viIIVoDD-FU"
   },
   "source": [
    "## Write your solution here\n",
    "\n"
   ]
  },
  {
   "cell_type": "code",
   "execution_count": null,
   "metadata": {
    "id": "0SrnIDKFD-FV"
   },
   "outputs": [],
   "source": [
    "#Write here your solution\n",
    "#...\n"
   ]
  },
  {
   "cell_type": "markdown",
   "metadata": {
    "id": "Xbo18v4nD-FW"
   },
   "source": [
    "## Run the following cells to perform the provided tests"
   ]
  },
  {
   "cell_type": "code",
   "execution_count": null,
   "metadata": {
    "cellView": "form",
    "colab": {
     "base_uri": "https://localhost:8080/"
    },
    "id": "M6TZAZYJD-FW",
    "outputId": "a12aefe2-be6d-4b28-f876-acc6ce57e9ae"
   },
   "outputs": [],
   "source": [
    "#@title TEST (10,2),(10,3),(30,6),(26,4),(24,4)\n",
    "inputs=[(10,2),(10,3),(30,6),(26,4),(24,4)]\n",
    "expected_outputs=[True,False,True,False,True]\n",
    "run_and_test_func(inputs,expected_outputs,divisible_by,True)"
   ]
  },
  {
   "cell_type": "markdown",
   "metadata": {
    "id": "FeUCmX7QD-FW"
   },
   "source": [
    "# Assignment 05.03: Count e\n",
    "## Statement\n",
    "\n",
    "Write a function \n",
    "\n",
    "- named `count_e`\n",
    "- that has a string argument\n",
    "- that counts the number of `e` in the argument (either lower- or upper-case), and returns such count\n",
    "\n",
    "## Example input to function\n",
    "\n",
    "```\n",
    "HeEelloo sSam\n",
    "```\n",
    "\n",
    "## Example output from function\n",
    "\n",
    "```\n",
    "3\n",
    "```\n",
    "\n",
    "## Hint\n",
    "\n",
    "There is a convenient method of strings that does the job..."
   ]
  },
  {
   "cell_type": "markdown",
   "metadata": {
    "id": "lbnH93y5D-FX"
   },
   "source": [
    "## Write your solution here\n",
    "\n"
   ]
  },
  {
   "cell_type": "code",
   "execution_count": null,
   "metadata": {
    "id": "VZA55hKcD-FY"
   },
   "outputs": [],
   "source": [
    "#Write here your solution\n",
    "#...\n"
   ]
  },
  {
   "cell_type": "markdown",
   "metadata": {
    "id": "Sbd1GdDnD-FZ"
   },
   "source": [
    "## Run the following cells to perform the provided tests"
   ]
  },
  {
   "cell_type": "markdown",
   "metadata": {
    "id": "g-RQhMbbD-FZ"
   },
   "source": [
    "### Simpler tests"
   ]
  },
  {
   "cell_type": "code",
   "execution_count": null,
   "metadata": {
    "cellView": "form",
    "colab": {
     "base_uri": "https://localhost:8080/"
    },
    "id": "DQSUetMTD-Fa",
    "outputId": "a12aefe2-be6d-4b28-f876-acc6ce57e9ae"
   },
   "outputs": [],
   "source": [
    "#@title TEST simpler\n",
    "inputs=[\"ciao mondo!\",\"hehehe\"]\n",
    "expected_outputs=[0,3]\n",
    "run_and_test_func(inputs,expected_outputs,count_e)"
   ]
  },
  {
   "cell_type": "markdown",
   "metadata": {
    "id": "kK9__8zyD-Fb"
   },
   "source": [
    "### More complex tests"
   ]
  },
  {
   "cell_type": "code",
   "execution_count": null,
   "metadata": {
    "cellView": "form",
    "id": "x82_rIhDD-Fc",
    "outputId": "ae7469bf-e215-47d8-d6e4-62cb42e95c1e"
   },
   "outputs": [],
   "source": [
    "#@title TEST more complex\n",
    "inputs=[\"ceEe mEnde!\",\"HELLO therE HOW U DOINGEEee\"]\n",
    "expected_outputs=[5,7]\n",
    "run_and_test_func(inputs,expected_outputs,count_e)"
   ]
  },
  {
   "cell_type": "markdown",
   "metadata": {
    "id": "_49YqaqqD-Fc"
   },
   "source": [
    "# Assignment 05.04: double_char\n",
    "## Statement\n",
    "\n",
    "Write a function \n",
    "\n",
    "- named `double_char`\n",
    "- that has a string argument\n",
    "- that returns a new string containing two consecutive copies of each character in the argument\n",
    "\n",
    "## Example input to function\n",
    "\n",
    "```\n",
    "Hello\n",
    "```\n",
    "\n",
    "## Example output from function\n",
    "\n",
    "```\n",
    "HHeelllloo\n",
    "```\n",
    "\n",
    "## Example input to function\n",
    "\n",
    "```\n",
    "?33? sw\n",
    "```\n",
    "\n",
    "## Example output from function\n",
    "\n",
    "```\n",
    "??3333??  ssww\n",
    "```\n",
    "\n",
    "## Hint\n",
    "\n",
    ":D\n",
    "\n",
    "You might 'count' on some functions offered by `str` to solve this exercise. Otherwise, you might have to 'comprehend' it. If it is too difficult, 'iterate' on it."
   ]
  },
  {
   "cell_type": "markdown",
   "metadata": {
    "id": "lVUWjDJcD-Fe"
   },
   "source": [
    "## Write your solution here\n",
    "\n"
   ]
  },
  {
   "cell_type": "code",
   "execution_count": null,
   "metadata": {
    "id": "Sipl5fKhD-Fe"
   },
   "outputs": [],
   "source": [
    "#Write here your solution\n",
    "#..."
   ]
  },
  {
   "cell_type": "markdown",
   "metadata": {
    "id": "9r-QNvV6D-Fe"
   },
   "source": [
    "## Run the following cells to perform the provided tests"
   ]
  },
  {
   "cell_type": "code",
   "execution_count": null,
   "metadata": {
    "cellView": "form",
    "colab": {
     "base_uri": "https://localhost:8080/"
    },
    "id": "lj1GOveHD-Fe",
    "outputId": "a12aefe2-be6d-4b28-f876-acc6ce57e9ae"
   },
   "outputs": [],
   "source": [
    "#@title TEST \"Hello\",\"?33? sw\",\"Holla\",\"eat CANdy\"\n",
    "inputs=[\"Hello\",\"?33? sw\",\"Holla\",\"eat CANdy\"]\n",
    "expected_outputs=[\"HHeelllloo\",\"??3333??  ssww\",\"HHoollllaa\",\"eeaatt  CCAANNddyy\"]\n",
    "run_and_test_func(inputs,expected_outputs,double_char)"
   ]
  },
  {
   "cell_type": "markdown",
   "metadata": {
    "id": "OCjqhmPCD-Ff"
   },
   "source": [
    "# Assignment 05.05: Fibonacci series\n",
    "## Statement\n",
    "\n",
    "Write a function \n",
    "\n",
    "- named `fib`\n",
    "- that has a integer argument `n`\n",
    "- that returns the list of the Fibonacci numbers up to `n`.\n",
    "\n",
    "### Fibonacci series\n",
    "\n",
    "Each number in the Fibonacci sequence is the sum of the two numbers that precede it. So, for `F` the Fibonacci number number `N`, the sequence goes: \n",
    "\n",
    "```\n",
    "N 1  2  3  4  5  6   7   8   9\n",
    "\n",
    "F 1, 1, 2, 3, 5, 8, 13, 21, 34\n",
    "```\n",
    "\n",
    "The mathematical definition of a Fibonacci number in position i is: \n",
    "\n",
    "- F(1) = 1\n",
    "- F(2) = 1\n",
    "- F(n) = F(n-1) + F(n-2)\n",
    "\n",
    "## Example input to function\n",
    "\n",
    "```\n",
    "1\n",
    "```\n",
    "\n",
    "## Example output from function\n",
    "\n",
    "```\n",
    "[1]\n",
    "```\n",
    "\n",
    "## Example input to function\n",
    "\n",
    "```\n",
    "2\n",
    "```\n",
    "\n",
    "## Example output from function\n",
    "\n",
    "```\n",
    "[1,1]\n",
    "```\n",
    "\n",
    "## Example input to function\n",
    "\n",
    "```\n",
    "3\n",
    "```\n",
    "\n",
    "## Example output from function\n",
    "\n",
    "```\n",
    "[1,1,2]\n",
    "```\n",
    "\n",
    "## Example input to function\n",
    "\n",
    "```\n",
    "4\n",
    "```\n",
    "\n",
    "## Example output from function\n",
    "\n",
    "```\n",
    "[1,1,2,3]\n",
    "```\n",
    "\n",
    "## Example input to function\n",
    "\n",
    "```\n",
    "5\n",
    "```\n",
    "\n",
    "## Example output from function\n",
    "\n",
    "```\n",
    "[1,1,2,3,5]\n",
    "```\n",
    "\n"
   ]
  },
  {
   "cell_type": "markdown",
   "metadata": {
    "id": "cAVa0S7zD-Fg"
   },
   "source": [
    "## Write your solution here\n",
    "\n"
   ]
  },
  {
   "cell_type": "code",
   "execution_count": null,
   "metadata": {
    "id": "Jj8LXag-D-Fg"
   },
   "outputs": [],
   "source": [
    "#Write here your solution\n",
    "#..."
   ]
  },
  {
   "cell_type": "markdown",
   "metadata": {
    "id": "su34Ab8lD-Fh"
   },
   "source": [
    "## Run the following cells to perform the provided tests"
   ]
  },
  {
   "cell_type": "markdown",
   "metadata": {
    "id": "xhL_YMHUD-Fh"
   },
   "source": [
    "### Simpler tests"
   ]
  },
  {
   "cell_type": "code",
   "execution_count": null,
   "metadata": {
    "cellView": "form",
    "colab": {
     "base_uri": "https://localhost:8080/"
    },
    "id": "mbaJPn-nD-Fi",
    "outputId": "a12aefe2-be6d-4b28-f876-acc6ce57e9ae"
   },
   "outputs": [],
   "source": [
    "#@title TESTs simple\n",
    "inputs=[1,2,3,4]\n",
    "expected_outputs=[[1],[1,1],[1,1,2],[1,1,2,3]]\n",
    "run_and_test_func(inputs,expected_outputs,fib)"
   ]
  },
  {
   "cell_type": "markdown",
   "metadata": {
    "id": "D7sXgEeGD-Fj"
   },
   "source": [
    "### More complex tests"
   ]
  },
  {
   "cell_type": "code",
   "execution_count": null,
   "metadata": {
    "cellView": "form",
    "colab": {
     "base_uri": "https://localhost:8080/"
    },
    "id": "IQ3WbqoCD-Fj",
    "outputId": "a12aefe2-be6d-4b28-f876-acc6ce57e9ae"
   },
   "outputs": [],
   "source": [
    "#@title TESTs more complex\n",
    "inputs=[5,6,10]\n",
    "expected_outputs=[[1,1,2,3,5],[1,1,2,3,5,8],[1, 1, 2, 3, 5, 8, 13, 21, 34, 55]]\n",
    "run_and_test_func(inputs,expected_outputs,fib)"
   ]
  },
  {
   "cell_type": "markdown",
   "metadata": {
    "id": "XIpXxK7FD-Fj"
   },
   "source": [
    "# Assignment 05.06: Top words\n",
    "## Statement\n",
    "\n",
    "> BEWARE: This is a particularly challenging exercise. \n",
    "\n",
    "Write a function called `top_10words` that has a string argument (`filename`).<br/>\n",
    "It should \n",
    "- read text from file `filename`\n",
    "- remove stop words (and punctuation) from such text and \n",
    "- convert all words to lower case\n",
    "- return the top 10 words with highest frequency in filename. This should be a dictionary associating a word with its frequency (how many times it appears).\n",
    "\n",
    "Your solution will be tested on file \"manzoni_1.txt\", chapter 1 of the Italian book 'Promessi Sposi' by Alessandro Manzoni.\n",
    "\n",
    "## Note\n",
    "Stop words are usually the most common in any text (like \"the\", \"of\", \"to\" and \"and\"). \n",
    "- We typically want to ignore them because they do not tell us much that is distinctive about a text.\n",
    "- In general, we are more interested in finding the words that will help us differentiate this text from texts that are about different subjects. \n",
    "\n",
    "Therefore, we are going to filter out stop words. \n",
    "\n",
    "Files:\n",
    "\n",
    "- manzoni_1.txt: Promessi Sposi, Capitolo I.\n",
    "- stopwords_italian.txt: the most common words in any text in Italian\n",
    "\n",
    "## Example input\n",
    "\n",
    "```\n",
    "manzoni_1.txt\n",
    "```\n",
    "\n",
    "## Example output\n",
    "\n",
    " \n",
    "```\n",
    "[('don', 28), ('due', 27), ('poi', 24), ('abbondio', 21), ('ogni', 19), ('de', 18), ('qualche', 18), ('sempre', 18), ('quel', 17), ('cosa', 17)]\n",
    "```\n"
   ]
  },
  {
   "cell_type": "markdown",
   "metadata": {
    "id": "OSuceG2tD-Fk"
   },
   "source": [
    "## Write your solution here\n",
    "\n"
   ]
  },
  {
   "cell_type": "code",
   "execution_count": null,
   "metadata": {
    "colab": {
     "base_uri": "https://localhost:8080/"
    },
    "id": "Xz3TRnYLD-Fl",
    "outputId": "d1804f69-374a-4f18-f8ad-1ffd98892eaa"
   },
   "outputs": [],
   "source": [
    "import re\n",
    "#Write here your solution\n",
    "# This function removes punctuation from a text\n",
    "def remove_punctuation(txt):\n",
    "    return re.sub(r'[^\\w\\s]','',txt)\n",
    "  \n",
    "def top_10words(fname):\n",
    "    # to be completed ...\n",
    "    return top_words\n",
    "\n",
    "#You can autonomously test your code running these two instructions\n",
    "# top_words = top_10words('manzoni_1.txt')\n",
    "# print(top_words)"
   ]
  },
  {
   "cell_type": "markdown",
   "metadata": {
    "id": "YOWyebeLD-Fm"
   },
   "source": [
    "## Run the following cells to perform the provided tests"
   ]
  },
  {
   "cell_type": "code",
   "execution_count": null,
   "metadata": {
    "cellView": "form",
    "colab": {
     "base_uri": "https://localhost:8080/"
    },
    "id": "XJxZ33aOD-Fm",
    "outputId": "a12aefe2-be6d-4b28-f876-acc6ce57e9ae"
   },
   "outputs": [],
   "source": [
    "#@title TESTs manzoni\n",
    "inputs=['manzoni_1.txt']\n",
    "expected_outputs=[[('don', 28), ('due', 27), ('poi', 24), ('abbondio', 21), ('ogni', 19), ('de', 18), ('qualche', 18), ('sempre', 18), ('quel', 17), ('cosa', 17)]]\n",
    "run_and_test_func(inputs,expected_outputs,top_10words)"
   ]
  }
 ],
 "metadata": {
  "colab": {
   "collapsed_sections": [],
   "name": "05Functions_Assignments.ipynb",
   "provenance": [],
   "toc_visible": true
  },
  "kernelspec": {
   "display_name": "Python 3 (ipykernel)",
   "language": "python",
   "name": "python3"
  },
  "language_info": {
   "codemirror_mode": {
    "name": "ipython",
    "version": 3
   },
   "file_extension": ".py",
   "mimetype": "text/x-python",
   "name": "python",
   "nbconvert_exporter": "python",
   "pygments_lexer": "ipython3",
   "version": "3.10.1"
  },
  "toc-autonumbering": true,
  "toc-showcode": false,
  "toc-showmarkdowntxt": false
 },
 "nbformat": 4,
 "nbformat_minor": 4
}
