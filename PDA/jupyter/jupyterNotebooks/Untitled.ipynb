{
 "cells": [
  {
   "cell_type": "markdown",
   "id": "ce3ff137-74d3-4c49-864c-bbf83946537d",
   "metadata": {},
   "source": [
    "# My first notebook"
   ]
  },
  {
   "cell_type": "markdown",
   "id": "bbb3fcec-5b13-4bf5-ae95-a5308f89369d",
   "metadata": {},
   "source": [
    "## My first subchapter"
   ]
  },
  {
   "cell_type": "markdown",
   "id": "e1e7ce11-88bd-44ae-8a52-960ef2aeed23",
   "metadata": {},
   "source": [
    "- First element\n",
    "- Second element\n",
    "\n",
    "1. first\n",
    "2. second"
   ]
  },
  {
   "cell_type": "markdown",
   "id": "9133dcfa-6099-4db0-b6f4-fd7fe3774b9d",
   "metadata": {},
   "source": [
    "# Second chapter"
   ]
  },
  {
   "cell_type": "code",
   "execution_count": 2,
   "id": "18fc4611-e2d5-401d-b67d-e86c7c4a595d",
   "metadata": {},
   "outputs": [
    {
     "name": "stdout",
     "output_type": "stream",
     "text": [
      "Hello, world!\n"
     ]
    }
   ],
   "source": [
    "print('Hello, world!')"
   ]
  },
  {
   "cell_type": "code",
   "execution_count": 3,
   "id": "f24726ab-4646-4592-adfe-7a5215d5d3b6",
   "metadata": {},
   "outputs": [
    {
     "data": {
      "text/plain": [
       "7"
      ]
     },
     "execution_count": 3,
     "metadata": {},
     "output_type": "execute_result"
    }
   ],
   "source": [
    "x = 2+5\n",
    "\n",
    "x"
   ]
  },
  {
   "cell_type": "code",
   "execution_count": null,
   "id": "a8d62859-0ade-4431-9d38-0d4cd4579b84",
   "metadata": {},
   "outputs": [],
   "source": []
  }
 ],
 "metadata": {
  "kernelspec": {
   "display_name": "Python 3 (ipykernel)",
   "language": "python",
   "name": "python3"
  },
  "language_info": {
   "codemirror_mode": {
    "name": "ipython",
    "version": 3
   },
   "file_extension": ".py",
   "mimetype": "text/x-python",
   "name": "python",
   "nbconvert_exporter": "python",
   "pygments_lexer": "ipython3",
   "version": "3.8.12"
  }
 },
 "nbformat": 4,
 "nbformat_minor": 5
}
