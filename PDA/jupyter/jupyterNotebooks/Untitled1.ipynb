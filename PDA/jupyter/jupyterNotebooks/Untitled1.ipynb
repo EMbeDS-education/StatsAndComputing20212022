{
 "cells": [
  {
   "cell_type": "code",
   "execution_count": 4,
   "id": "58b17203-1fd4-4080-aac8-c6dddb5facd0",
   "metadata": {},
   "outputs": [
    {
     "name": "stdout",
     "output_type": "stream",
     "text": [
      "ciao\n",
      "pipppo\n"
     ]
    }
   ],
   "source": [
    "print('ciao')\n",
    "print('pipppo')"
   ]
  },
  {
   "cell_type": "code",
   "execution_count": 3,
   "id": "52ddf424-87c8-414d-8d32-06b43c03e0cd",
   "metadata": {},
   "outputs": [
    {
     "data": {
      "text/plain": [
       "7"
      ]
     },
     "execution_count": 3,
     "metadata": {},
     "output_type": "execute_result"
    }
   ],
   "source": [
    "5+2"
   ]
  },
  {
   "cell_type": "markdown",
   "id": "166cb747-ac25-4805-8375-cd8c9bde7151",
   "metadata": {},
   "source": [
    "# Test"
   ]
  },
  {
   "cell_type": "markdown",
   "id": "50c8ceaf-1762-46d8-a4c0-e4be9745f413",
   "metadata": {},
   "source": [
    "House"
   ]
  },
  {
   "cell_type": "code",
   "execution_count": null,
   "id": "23e6b6e4-0ce0-46f5-9b4d-f5171a1fca26",
   "metadata": {},
   "outputs": [],
   "source": []
  }
 ],
 "metadata": {
  "kernelspec": {
   "display_name": "Python 3 (ipykernel)",
   "language": "python",
   "name": "python3"
  },
  "language_info": {
   "codemirror_mode": {
    "name": "ipython",
    "version": 3
   },
   "file_extension": ".py",
   "mimetype": "text/x-python",
   "name": "python",
   "nbconvert_exporter": "python",
   "pygments_lexer": "ipython3",
   "version": "3.8.12"
  },
  "toc-autonumbering": true,
  "toc-showmarkdowntxt": true
 },
 "nbformat": 4,
 "nbformat_minor": 5
}
