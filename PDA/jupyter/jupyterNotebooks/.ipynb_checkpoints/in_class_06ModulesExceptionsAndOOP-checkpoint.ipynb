{
 "cells": [
  {
   "cell_type": "markdown",
   "metadata": {},
   "source": [
    "<center><font size=\"+4\">Introduction to Programming and Data Processing 2020/2021</font></center>\n",
    "<center><font size=\"+2\">Sant'Anna School of Advanced Studies, Pisa, Italy</font></center>\n",
    "<center><img src=\"https://github.com/EMbeDS-education/StatsAndComputing20202021/raw/main/IPDP/jupyter/jupyterNotebooks/images/SSSA.png\" width=\"700\" alt=\"The extensible parallel architecture of MultiVeStA\"></center>\n",
    "\n",
    "<center><font size=\"+2\">Course responsible</font></center>\n",
    "<center><font size=\"+2\">Andrea Vandin a.vandin@santannapisa.it</font></center>\n",
    "\n",
    "<center><font size=\"+2\">Co-lecturer </font></center>\n",
    "<center><font size=\"+2\">Daniele Licari d.licari@santannapisa.it</font></center>\n",
    "\n",
    "---"
   ]
  },
  {
   "cell_type": "markdown",
   "metadata": {},
   "source": [
    "<center><font size=\"+4\">Module 6: Modules,</font></center>\n",
    "<br/>\n",
    "<center><font size=\"+4\"> Exceptions & OO Programming</font></center>\n",
    "<center><font size=\"+2\"> With applications to Financial Betting Markets</font></center>"
   ]
  },
  {
   "cell_type": "code",
   "execution_count": null,
   "metadata": {},
   "outputs": [],
   "source": [
    "from IPython.display import Image, display\n",
    "img=Image(filename='images/tentativeLecturePlan.png',width=800)\n",
    "display(img)"
   ]
  },
  {
   "cell_type": "markdown",
   "metadata": {},
   "source": [
    "# Women in Computer Science"
   ]
  },
  {
   "cell_type": "markdown",
   "metadata": {},
   "source": [
    "Computer science has a big problem\n",
    "- Not enough women work (in industry or academia) on it\n",
    "- One of the reasons is that not many female students enroll in CS program\n",
    "  - Perhaps because it is perceived as 'non-attracting topic' by women\n",
    "    - __but CS indeed is something for women__\n",
    "    - __and many women contributed to it__"
   ]
  },
  {
   "cell_type": "markdown",
   "metadata": {},
   "source": [
    "Two notable examples:\n",
    "1. [Ada Lovelace](https://en.wikipedia.org/wiki/Ada_Lovelace), 1815-1852, UK\n",
    "    - Mathematician, but known as (one of) the __first *software* developer in history__\n",
    "    - She published what many consider the first __computer program__ \n",
    "       - An _algorithm_ executable on a mechanical machine\n",
    "       \n",
    "2. [Grace Hopper](https://en.wikipedia.org/wiki/Grace_Hopper), 1906-1992, USA\n",
    "    - Computer scientist (actually, PhD in mathematics from Yale University) and US Navy rear admiral. \n",
    "    - Pioneer of computer programming who invented \n",
    "      - the first compiler in 1952 to translate mathematical code into machine-readable code.\n",
    "      - one of the first high-level programming languages in 1956, Flow-Matic"
   ]
  },
  {
   "cell_type": "markdown",
   "metadata": {
    "toc-nb-collapsed": true
   },
   "source": [
    "# Importing Modules"
   ]
  },
  {
   "cell_type": "markdown",
   "metadata": {},
   "source": [
    "As discussed several times, it is very important to structure your programs\n",
    "* A Python program might consist of (code from) multiple files\n",
    "* Each file is seen as a separate _module_ that can be imported in the current one"
   ]
  },
  {
   "cell_type": "markdown",
   "metadata": {},
   "source": [
    "## Import Python modules"
   ]
  },
  {
   "cell_type": "markdown",
   "metadata": {},
   "source": [
    "Does this ring a bell to you?\n",
    "* We already imported many _predefined python modules_ in the previous classes.\n",
    "\n",
    "For example..."
   ]
  },
  {
   "cell_type": "code",
   "execution_count": null,
   "metadata": {},
   "outputs": [],
   "source": [
    "import csv\n",
    "import matplotlib.pyplot as plt"
   ]
  },
  {
   "cell_type": "code",
   "execution_count": null,
   "metadata": {},
   "outputs": [],
   "source": [
    "from IPython.display import Image, display\n",
    "img=Image(filename='images/tentativeLecturePlan.png',width=300)\n",
    "display(img)"
   ]
  },
  {
   "cell_type": "markdown",
   "metadata": {},
   "source": [
    "What is the role of the `from` keyword?\n",
    "* It allows you to specify functions or types of interest that you want to import\n",
    "  * You will import only them\n",
    "  * You will not need to specify the name of the module everytime you use the imported functions/types"
   ]
  },
  {
   "cell_type": "code",
   "execution_count": null,
   "metadata": {},
   "outputs": [],
   "source": [
    "import IPython.display\n",
    "img=IPython.display.Image(filename='images/tentativeLecturePlan.png',width=300)\n",
    "IPython.display.display(img)"
   ]
  },
  {
   "cell_type": "markdown",
   "metadata": {},
   "source": [
    "## Import Python modules from local Python files (created by you)"
   ]
  },
  {
   "cell_type": "markdown",
   "metadata": {},
   "source": [
    "Importing Python code defined in Python files (i.e., with extension .py) is rather simple\n",
    "* We have created a very simple Python file (i.e., a file with extension .py)\n",
    "  * Do not confuse a Python file (.py) with a jupyter notebook (.ipynb)\n",
    "\n",
    "The file is [test_import_py.py](test_import_py.py)\n",
    "* We just need to write the following"
   ]
  },
  {
   "cell_type": "code",
   "execution_count": 1,
   "metadata": {},
   "outputs": [
    {
     "name": "stdout",
     "output_type": "stream",
     "text": [
      "Successfully imported!\n"
     ]
    }
   ],
   "source": [
    "import test_import_py"
   ]
  },
  {
   "cell_type": "markdown",
   "metadata": {},
   "source": [
    "After this, we can use any type or function defined in the file"
   ]
  },
  {
   "cell_type": "code",
   "execution_count": 2,
   "metadata": {},
   "outputs": [
    {
     "name": "stdout",
     "output_type": "stream",
     "text": [
      "Successfully imported!\n"
     ]
    }
   ],
   "source": [
    "test_import_py.my_function()"
   ]
  },
  {
   "cell_type": "code",
   "execution_count": 3,
   "metadata": {},
   "outputs": [
    {
     "ename": "NameError",
     "evalue": "name 'my_function' is not defined",
     "output_type": "error",
     "traceback": [
      "\u001b[0;31m---------------------------------------------------------------------------\u001b[0m",
      "\u001b[0;31mNameError\u001b[0m                                 Traceback (most recent call last)",
      "\u001b[0;32m<ipython-input-3-7bebf01be998>\u001b[0m in \u001b[0;36m<module>\u001b[0;34m\u001b[0m\n\u001b[0;32m----> 1\u001b[0;31m \u001b[0mmy_function\u001b[0m\u001b[0;34m(\u001b[0m\u001b[0;34m)\u001b[0m\u001b[0;34m\u001b[0m\u001b[0;34m\u001b[0m\u001b[0m\n\u001b[0m",
      "\u001b[0;31mNameError\u001b[0m: name 'my_function' is not defined"
     ]
    }
   ],
   "source": [
    "my_function()"
   ]
  },
  {
   "cell_type": "markdown",
   "metadata": {},
   "source": [
    "If you don't want to specify the name of the file everytime you use the function\n",
    "* Then explicitly import the function!"
   ]
  },
  {
   "cell_type": "code",
   "execution_count": 4,
   "metadata": {},
   "outputs": [],
   "source": [
    "from test_import_py import my_function"
   ]
  },
  {
   "cell_type": "code",
   "execution_count": 5,
   "metadata": {},
   "outputs": [
    {
     "name": "stdout",
     "output_type": "stream",
     "text": [
      "Successfully imported!\n"
     ]
    }
   ],
   "source": [
    "my_function()"
   ]
  },
  {
   "cell_type": "markdown",
   "metadata": {},
   "source": [
    "What if the Python file is not in the folder of the current notebook?\n",
    "* e.g. [otherpath/test_import_py_Copy1.py](otherpath/test_import_py_Copy1.py)\n",
    "* Just specify the relative path of Python file using '.' as separator"
   ]
  },
  {
   "cell_type": "code",
   "execution_count": 6,
   "metadata": {},
   "outputs": [
    {
     "name": "stdout",
     "output_type": "stream",
     "text": [
      "Successfully imported from otherpath!\n"
     ]
    }
   ],
   "source": [
    "#otherpath/test_import_py_Copy1.py\n",
    "import otherpath.test_import_py_Copy1\n",
    "otherpath.test_import_py_Copy1.my_function_in_otherpath()"
   ]
  },
  {
   "cell_type": "markdown",
   "metadata": {},
   "source": [
    "Finally, note that if you don't like the name of the module\n",
    "* e.g. because it is too long\n",
    "* you can load and rename it as we did above with matplotlib"
   ]
  },
  {
   "cell_type": "code",
   "execution_count": null,
   "metadata": {},
   "outputs": [],
   "source": [
    "import otherpath.test_import_py_Copy1 as tic\n",
    "tic.my_function_in_otherpath()"
   ]
  },
  {
   "cell_type": "markdown",
   "metadata": {},
   "source": [
    "**Note** For efficiency reasons, each module is only imported once per interpreter session. \n",
    "Therefore, if you change your modules, you must restart the interpreter – or, if it’s just one module you want to test interactively, use importlib.reload(), e.g. \n",
    "\n",
    "```\n",
    "import importlib\n",
    "importlib.reload(modulename)\n",
    "```"
   ]
  },
  {
   "cell_type": "markdown",
   "metadata": {},
   "source": [
    "## Import Jupyter Notebooks"
   ]
  },
  {
   "cell_type": "markdown",
   "metadata": {},
   "source": [
    "__Jupyter notebooks are not python files__\n",
    "* They are collections of textual (markdown) and code (Python) cells\n",
    "\n",
    "Let us import [test_import_nb.ipynb](test_import_nb.ipynb)\n",
    "\n",
    "Until recently, importing jupyter notebooks required some hacks\n",
    "* But thanks to the module ipynb, it became as easy as importing python files\n",
    "  * [Official documentation](https://ipynb.readthedocs.io/en/stable/)\n",
    "  * [Stackoverflow](https://stackoverflow.com/questions/20186344/ipynb-import-another-ipynb-file)\n",
    "\n",
    "\n",
    "A very simple way is the following"
   ]
  },
  {
   "cell_type": "code",
   "execution_count": null,
   "metadata": {},
   "outputs": [],
   "source": [
    "import sys\n",
    "!\"{sys.executable}\" -m pip install ipynb"
   ]
  },
  {
   "cell_type": "code",
   "execution_count": 8,
   "metadata": {},
   "outputs": [],
   "source": [
    "#Imports just functions and classes\n",
    "from ipynb.fs.defs.test_import_nb import *\n",
    "#or simply\n",
    "#import ipynb.fs.defs.test_import_nb\n",
    "\n",
    "#Imports just a function\n",
    "#from ipynb.fs.defs.test_import_nb import my_function_nb\n",
    "\n",
    "#Imports everything, including top-level statements (which are executed)\n",
    "#from ipynb.fs.full.test_import_nb import *\n",
    "#import ipynb.fs.full.test_import_nb"
   ]
  },
  {
   "cell_type": "code",
   "execution_count": null,
   "metadata": {},
   "outputs": [],
   "source": [
    "#Old 'hack' way\n",
    "#%run test_import_nb.ipynb"
   ]
  },
  {
   "cell_type": "markdown",
   "metadata": {},
   "source": [
    "This has the effect of implicitly copying the content of the file 'test_import_nb.ipynb' in this notebook\n",
    "* Therefore now you can just invoke any function defined in the _other_ notebook"
   ]
  },
  {
   "cell_type": "code",
   "execution_count": 9,
   "metadata": {},
   "outputs": [
    {
     "name": "stdout",
     "output_type": "stream",
     "text": [
      "Successfully imported from notebook!\n",
      "Successfully imported from notebook 2!\n"
     ]
    }
   ],
   "source": [
    "my_function_nb()\n",
    "my_function_nb2()"
   ]
  },
  {
   "cell_type": "raw",
   "metadata": {
    "jupyter": {
     "source_hidden": true
    },
    "tags": []
   },
   "source": [
    "# currently does not work\n",
    "#What if the other notebook is not in the same folder of the current notebook?\n",
    "#* Just specify the relative path of the other notebook\n",
    "#* However you will not need to use the path for referring to the imported functions/types"
   ]
  },
  {
   "cell_type": "raw",
   "metadata": {
    "jupyter": {
     "source_hidden": true
    },
    "tags": []
   },
   "source": [
    "#import ipynb.fs.defs.otherpath.test_import_nb_Copy1\n",
    "#import ipynb.fs.full.otherpath.test_import_nb_Copy1\n",
    "\n",
    "#from ipynb.fs.full.otherpath.test_import_nb_Copy1 import *\n",
    "\n",
    "#Old hack way\n",
    "#%run otherpath/test_import_nb_Copy1.ipynb"
   ]
  },
  {
   "cell_type": "markdown",
   "metadata": {
    "jupyter": {
     "source_hidden": true
    },
    "tags": []
   },
   "source": [
    "my_function_nb2()"
   ]
  },
  {
   "cell_type": "markdown",
   "metadata": {
    "toc-nb-collapsed": true
   },
   "source": [
    "# Exceptions and exception handling"
   ]
  },
  {
   "cell_type": "markdown",
   "metadata": {},
   "source": [
    "There are two types of _errors_ in programs\n",
    "* __Compile-time__ errors: detected while you write the program\n",
    "  * The Python interpreter complains __before executing your program__ if you wrote a __syntactically wrong__ Python program\n",
    "* __Run-time__ errors: detected while the program is executed\n",
    "  * Your program is syntactically correct, but there might be __unexpected problems__ for certain inputs, e.g. \n",
    "    * if you try dividing by zero\n",
    "    * if you try accessing an index in a list/str beyond its actual size"
   ]
  },
  {
   "cell_type": "code",
   "execution_count": 10,
   "metadata": {},
   "outputs": [
    {
     "name": "stdout",
     "output_type": "stream",
     "text": [
      "2.0\n"
     ]
    }
   ],
   "source": [
    "def divide(n,d):\n",
    "    res = n/d\n",
    "    return res \n",
    "\n",
    "#print(divide(4,2))\n",
    "#d=int(input())\n",
    "#print(divide(4,d))"
   ]
  },
  {
   "cell_type": "code",
   "execution_count": 11,
   "metadata": {},
   "outputs": [
    {
     "ename": "ZeroDivisionError",
     "evalue": "division by zero",
     "output_type": "error",
     "traceback": [
      "\u001b[0;31m---------------------------------------------------------------------------\u001b[0m",
      "\u001b[0;31mZeroDivisionError\u001b[0m                         Traceback (most recent call last)",
      "\u001b[0;32m<ipython-input-11-a21bfbcf616f>\u001b[0m in \u001b[0;36m<module>\u001b[0;34m\u001b[0m\n\u001b[0;32m----> 1\u001b[0;31m \u001b[0mprint\u001b[0m\u001b[0;34m(\u001b[0m\u001b[0mdivide\u001b[0m\u001b[0;34m(\u001b[0m\u001b[0;36m4\u001b[0m\u001b[0;34m,\u001b[0m\u001b[0;36m0\u001b[0m\u001b[0;34m)\u001b[0m\u001b[0;34m)\u001b[0m \u001b[0;31m#ERROR!\u001b[0m\u001b[0;34m\u001b[0m\u001b[0;34m\u001b[0m\u001b[0m\n\u001b[0m\u001b[1;32m      2\u001b[0m \u001b[0mprint\u001b[0m\u001b[0;34m(\u001b[0m\u001b[0;34m'This code will NOT be executed because we do not recover from errors.'\u001b[0m\u001b[0;34m)\u001b[0m\u001b[0;34m\u001b[0m\u001b[0;34m\u001b[0m\u001b[0m\n",
      "\u001b[0;32m<ipython-input-10-0ef2e452dfa8>\u001b[0m in \u001b[0;36mdivide\u001b[0;34m(n, d)\u001b[0m\n\u001b[1;32m      1\u001b[0m \u001b[0;32mdef\u001b[0m \u001b[0mdivide\u001b[0m\u001b[0;34m(\u001b[0m\u001b[0mn\u001b[0m\u001b[0;34m,\u001b[0m\u001b[0md\u001b[0m\u001b[0;34m)\u001b[0m\u001b[0;34m:\u001b[0m\u001b[0;34m\u001b[0m\u001b[0;34m\u001b[0m\u001b[0m\n\u001b[0;32m----> 2\u001b[0;31m     \u001b[0mres\u001b[0m \u001b[0;34m=\u001b[0m \u001b[0mn\u001b[0m\u001b[0;34m/\u001b[0m\u001b[0md\u001b[0m\u001b[0;34m\u001b[0m\u001b[0;34m\u001b[0m\u001b[0m\n\u001b[0m\u001b[1;32m      3\u001b[0m     \u001b[0;32mreturn\u001b[0m \u001b[0mres\u001b[0m\u001b[0;34m\u001b[0m\u001b[0;34m\u001b[0m\u001b[0m\n\u001b[1;32m      4\u001b[0m \u001b[0;34m\u001b[0m\u001b[0m\n\u001b[1;32m      5\u001b[0m \u001b[0mprint\u001b[0m\u001b[0;34m(\u001b[0m\u001b[0mdivide\u001b[0m\u001b[0;34m(\u001b[0m\u001b[0;36m4\u001b[0m\u001b[0;34m,\u001b[0m\u001b[0;36m2\u001b[0m\u001b[0;34m)\u001b[0m\u001b[0;34m)\u001b[0m\u001b[0;34m\u001b[0m\u001b[0;34m\u001b[0m\u001b[0m\n",
      "\u001b[0;31mZeroDivisionError\u001b[0m: division by zero"
     ]
    }
   ],
   "source": [
    "print(divide(4,0)) #ERROR!\n",
    "print('This code will NOT be executed because we do not recover from errors.')"
   ]
  },
  {
   "cell_type": "code",
   "execution_count": 14,
   "metadata": {},
   "outputs": [
    {
     "name": "stdout",
     "output_type": "stream",
     "text": [
      "o\n"
     ]
    }
   ],
   "source": [
    "my_str = \"ciao\"\n",
    "print(my_str[3])\n",
    "#print(my_str[4])#ERROR!"
   ]
  },
  {
   "cell_type": "markdown",
   "metadata": {},
   "source": [
    "All modern programming languages provide a machinery to _catch_, handle and recover from such unexcepted __exceptional__ cases\n",
    "* [__Exception handling__](https://docs.python.org/3/tutorial/errors.html)\n",
    "\n",
    "Exception handling is thus a way to make your program robust to unexpected events (e.g. inputs)"
   ]
  },
  {
   "cell_type": "markdown",
   "metadata": {},
   "source": [
    "## Catching Exceptions"
   ]
  },
  {
   "cell_type": "markdown",
   "metadata": {},
   "source": [
    "### Try and except"
   ]
  },
  {
   "cell_type": "code",
   "execution_count": 15,
   "metadata": {},
   "outputs": [
    {
     "name": "stdout",
     "output_type": "stream",
     "text": [
      "You tried dividing by zero!\n",
      "\n",
      "This code will be executed because we catch and recover from errors.\n"
     ]
    }
   ],
   "source": [
    "try:\n",
    "    #print(divide(4,2))\n",
    "    #print(divide(4,0))#HANDLED ERROR!\n",
    "    print(divide(4,'ciao'))#HANDLED ERROR!\n",
    "except ZeroDivisionError:\n",
    "    print('You tried dividing by zero!')\n",
    "except TypeError as e:\n",
    "    print('The function divide requires two numeric data types!')\n",
    "    print('This is the thrown exception:',e)\n",
    "\n",
    "print('')\n",
    "print('This code will be executed because we catch and recover from errors.')"
   ]
  },
  {
   "cell_type": "code",
   "execution_count": null,
   "metadata": {},
   "outputs": [],
   "source": [
    "whattodo = 'continue'\n",
    "i=1\n",
    "while whattodo != 'stop':\n",
    "    print('Give me numerator and denominator, in two lines')\n",
    "    try:\n",
    "        n = int(input())\n",
    "        d = int(input())\n",
    "        print(divide(n,d))\n",
    "        whattodo = input(\"Write 'stop' if you want to terminate\")\n",
    "    except ZeroDivisionError:\n",
    "        print('You tried dividing by zero. Try again')\n",
    "    except ValueError:\n",
    "        print('The function divide requires two int. Try again')\n",
    "    print('Iteration',i,'completed')\n",
    "    print()"
   ]
  },
  {
   "cell_type": "markdown",
   "metadata": {},
   "source": [
    "Did you notice what happens after an exception happen in line `print(divide(n,d))`?\n",
    "1. We jump to the correct `except` branch\n",
    "   * The one for the type of the thrown exception\n",
    "   * We skip any instruction after the one raising the exection\n",
    "     * __We don't get asked whether we want to stop!__\n",
    "2. We execute the body of the `except`\n",
    "3. We continue executing the next instruction after the `try`-`except` statement"
   ]
  },
  {
   "cell_type": "markdown",
   "metadata": {},
   "source": [
    "### The finally block"
   ]
  },
  {
   "cell_type": "markdown",
   "metadata": {},
   "source": [
    "The try-catch statements allows for a `finally` clause\n",
    "* Code that will be always executed\n",
    "  * If an exception has been thrown\n",
    "  * If no exception has been thrown\n",
    "\n",
    "With the following change we are guaranteed that we will always be asked wheter we want to continue or not\n",
    "* Even if we remove the except"
   ]
  },
  {
   "cell_type": "code",
   "execution_count": null,
   "metadata": {},
   "outputs": [],
   "source": [
    "whattodo = 'continue'\n",
    "i=0\n",
    "while whattodo != 'stop':\n",
    "    try:\n",
    "        print('Give me numerator and denominator, in two lines')\n",
    "        n = int(input())\n",
    "        d = int(input())\n",
    "        print(divide(n,d))\n",
    "    except ZeroDivisionError:\n",
    "         print('You tried dividing by zero. Try again')\n",
    "    except ValueError:\n",
    "        print('The function divide requires two int. Try again')\n",
    "    finally:\n",
    "        whattodo = input(\"Write 'stop' if you want to terminate\")\n",
    "        i+=1\n",
    "    print('Iteration',i,'completed')\n",
    "    print()    "
   ]
  },
  {
   "cell_type": "markdown",
   "metadata": {},
   "source": [
    "The finally clause is particularly useful when using external resources that have to be dealt with no matter what\n",
    "* The classic example is a file we are reading/writing"
   ]
  },
  {
   "cell_type": "code",
   "execution_count": null,
   "metadata": {},
   "outputs": [],
   "source": [
    "# Open a file to write in it (appending to previous text (a))\n",
    "file = open('data.txt', 'a')\n",
    "try:\n",
    "    for i in range(2):\n",
    "        print('Give me numerator and denominator, in two lines')\n",
    "        n = int(input())\n",
    "        d = int(input())\n",
    "        res=divide(n,d)\n",
    "        file.write(str(res))\n",
    "        file.write('\\n')\n",
    "finally:\n",
    "    print('Closing the file')\n",
    "    file.close()\n",
    "print('This code will not be executed in case of exception, But we have the guarantee to have closed the file.')\n",
    "\n",
    "#file.write(\"I can't write on a closed file\") #ERROR"
   ]
  },
  {
   "cell_type": "markdown",
   "metadata": {},
   "source": [
    "Closing a file is __so important__ that \n",
    "- python provides a command that does it automatically!\n",
    "- we have seen this in the previous two classes\n",
    "  - the [`with` statement](https://www.geeksforgeeks.org/with-statement-in-python/)\n",
    "  - it automatically __implicitly__ adds a `finally` statement to close the file\n",
    "  \n",
    "  \n",
    ">__ALWAYS USE WITH WHEN WORKING WITH FILES__  "
   ]
  },
  {
   "cell_type": "code",
   "execution_count": null,
   "metadata": {},
   "outputs": [],
   "source": [
    "# using with statement \n",
    "with open('hello.txt', 'a') as file: \n",
    "    file.write('hello world !')"
   ]
  },
  {
   "cell_type": "markdown",
   "metadata": {},
   "source": [
    "__File I/O__"
   ]
  },
  {
   "cell_type": "markdown",
   "metadata": {},
   "source": [
    "As a side-product, in the block above we have shown how to [read and write on a file](https://www.guru99.com/reading-and-writing-files-in-python.html). \n",
    "1. First we need to open it, specifying what we want to do with it\n",
    "   * `'a'`  stands for: I want to write on the file, appending to the text present in it, if any. The file will be created if it does not exist\n",
    "   * `'w'`  stands for: I want to write on the file, overwriting the text present in it, if any. The file will be created if it does not exist        \n",
    "   * `'r'`  stands for: I want to read on the file. An exception is thrown if the file does not exist\n",
    "   * `'w+'` and 'a+' are like 'w' and 'a', resp., but they additionally allow to read from the file\n",
    "2. There are methods to read from/write to files\n",
    "   * Methods write(str) and writelines(lst) allows you to write on a file\n",
    "   * Methods read(str) and readlines(lst) allows you to read from a file\n",
    "3. Finally you have to close the file "
   ]
  },
  {
   "cell_type": "code",
   "execution_count": null,
   "metadata": {},
   "outputs": [],
   "source": [
    "file = open('data.txt', 'r')\n",
    "lines = file.readlines()\n",
    "print(type(lines))\n",
    "for line in lines:\n",
    "    print(line)\n",
    "file.close()    "
   ]
  },
  {
   "cell_type": "code",
   "execution_count": null,
   "metadata": {},
   "outputs": [],
   "source": [
    "with open('data.txt', 'r') as file: \n",
    "    lines = file.readlines()\n",
    "    print(type(lines))\n",
    "    for line in lines:\n",
    "        print(line)"
   ]
  },
  {
   "cell_type": "markdown",
   "metadata": {},
   "source": [
    "### The else block"
   ]
  },
  {
   "cell_type": "markdown",
   "metadata": {},
   "source": [
    "We can also use an `else` block which is executed if no exeption is thrown"
   ]
  },
  {
   "cell_type": "code",
   "execution_count": null,
   "metadata": {},
   "outputs": [],
   "source": [
    "try:\n",
    "    4/0\n",
    "    #4/2\n",
    "except ZeroDivisionError:\n",
    "    print('Division by zero')\n",
    "else:\n",
    "    print('No exception')\n",
    "finally:\n",
    "    print('No matter what, this block will be executed')"
   ]
  },
  {
   "cell_type": "markdown",
   "metadata": {},
   "source": [
    "## Raising exceptions"
   ]
  },
  {
   "cell_type": "markdown",
   "metadata": {},
   "source": [
    "The exception handling mechanism also allows us to throw exceptions\n",
    "* This is useful in many occasions\n",
    "* But don't abuse of this feature!\n",
    "  * Exceptions are for exceptional cases\n",
    "  * Exaggerating with their use will make your program\n",
    "    * Less efficient\n",
    "    * More obfuscated, and therefore less manutenable"
   ]
  },
  {
   "cell_type": "code",
   "execution_count": null,
   "metadata": {},
   "outputs": [],
   "source": [
    "raise ZeroDivisionError "
   ]
  },
  {
   "cell_type": "code",
   "execution_count": null,
   "metadata": {},
   "outputs": [],
   "source": [
    "try:\n",
    "    raise ZeroDivisionError \n",
    "except ZeroDivisionError:\n",
    "    print('The exception has been thrown')"
   ]
  },
  {
   "cell_type": "markdown",
   "metadata": {},
   "source": [
    "Don't abuse of this mechanism\n",
    "- Exceptions should be used only for exceptional cases."
   ]
  },
  {
   "cell_type": "markdown",
   "metadata": {},
   "source": [
    "## Exception propagation"
   ]
  },
  {
   "cell_type": "markdown",
   "metadata": {},
   "source": [
    "If an exception is thrown within a function which does not handle it\n",
    "* It will be propagated to the caller of the function. It this does not handle it\n",
    "  * It will be propagated to the caller of the caller of the function \n",
    "    * And so on, until we reach the top level of execution"
   ]
  },
  {
   "cell_type": "code",
   "execution_count": null,
   "metadata": {},
   "outputs": [],
   "source": [
    "from IPython.display import Image, display\n",
    "img=Image(filename='images/exceptionPropagation.png',width=800)\n",
    "display(img)"
   ]
  },
  {
   "cell_type": "code",
   "execution_count": null,
   "metadata": {},
   "outputs": [],
   "source": [
    "def func1():\n",
    "    try:\n",
    "        func2()\n",
    "    except ZeroDivisionError:\n",
    "        print('In func1 I detected a ZeroDivisionError exception')\n",
    "        \n",
    "def func2():\n",
    "    raise ZeroDivisionError\n",
    "        \n",
    "\n",
    "try:\n",
    "    func1()\n",
    "except ZeroDivisionError:\n",
    "    print('In the top-level I detected a ZeroDivisionError exception')"
   ]
  },
  {
   "cell_type": "code",
   "execution_count": null,
   "metadata": {},
   "outputs": [],
   "source": [
    "def func1():\n",
    "    try:\n",
    "        func2()\n",
    "    finally:\n",
    "        print('Finally of func1')\n",
    "        \n",
    "def func2():\n",
    "    raise ZeroDivisionError\n",
    "        \n",
    "\n",
    "try:\n",
    "    func1()\n",
    "finally:\n",
    "    print('Finally of top-level')"
   ]
  },
  {
   "cell_type": "markdown",
   "metadata": {},
   "source": [
    "Image and example by Prof. Mirco Tribastone, IMT School for Advanced Studies Lucca, Italy"
   ]
  },
  {
   "cell_type": "markdown",
   "metadata": {},
   "source": [
    "> The [exception handling machinery of Python](https://docs.python.org/3/tutorial/errors.html) is actually richer than this\n",
    "> * But in this course we will not investigate this aspect any further"
   ]
  },
  {
   "cell_type": "markdown",
   "metadata": {
    "tags": [],
    "toc-nb-collapsed": true
   },
   "source": [
    "# Object-oriented Programming"
   ]
  },
  {
   "cell_type": "markdown",
   "metadata": {},
   "source": [
    "In the previous class we discussed how to modularize a program into _functions_\n",
    "\n",
    "Functions\n",
    "* are self-contained units of login with input/output\n",
    "* enable _procedural programming_\n",
    "\n",
    "We now \n",
    "* __bring modularization to the next level__\n",
    "* show how programs can can be further modularized using OOP\n"
   ]
  },
  {
   "cell_type": "markdown",
   "metadata": {},
   "source": [
    "__Object-oriented Programming__ is a programming paradigm \n",
    "* which allows to transform the problem at hand into a set of interacting objects (or agents)\n",
    "  * therefore much easier for us to visualize and reason about\n",
    "* which naturally leads to modularized software\n",
    "* extremely popular in industry\n",
    "  * because _it is easier to program using objects_\n",
    "    * therefore developers are much more productive\n",
    "\n",
    "Examples of programming languages supporting OOP\n",
    "- Python, Java, C#, C++, [R](https://data-flair.training/blogs/object-oriented-programming-in-r/)\n",
    "\n",
    "Examples of programming languages NOT supporting OOP\n",
    "- C"
   ]
  },
  {
   "cell_type": "markdown",
   "metadata": {},
   "source": [
    "## Classes"
   ]
  },
  {
   "cell_type": "markdown",
   "metadata": {},
   "source": [
    "Before talking about objects we need to talk about classes\n",
    "* Intuitively, a class defines a new type\n",
    "* Every instance of such a type is an object\n",
    "  * A class is the type of an object\n",
    "  * A class specifies the _structure_ of every object of such class\n",
    "\n",
    "A class, e.g. `Individual`, specifies\n",
    "* The type of data that every object of class `Individual` will contain\n",
    "* A number of functions, or _methods_ that can be used on objects of class `Individualk` to access and modify such data"
   ]
  },
  {
   "cell_type": "code",
   "execution_count": null,
   "metadata": {},
   "outputs": [],
   "source": [
    "class Individual:\n",
    "    current_year = 2021\n",
    "    \n",
    "    def __init__(self,name,birth_year,favourite_sport='None'):\n",
    "        self._name=name\n",
    "        self._birth_year=birth_year\n",
    "        self._favourite_sport=favourite_sport\n",
    "        \n",
    "    def get_name(self):\n",
    "        return self._name \n",
    "        #return 'secret' \n",
    "    \n",
    "    def set_name(self,new_name):\n",
    "        if not new_name.isalpha():\n",
    "            print(new_name,'is not admissible')\n",
    "        else:\n",
    "            self._name=new_name\n",
    "    \n",
    "    def compute_age(self):\n",
    "        return Individual.current_year - self._birth_year\n",
    "    \n",
    "    def get_sport(self):\n",
    "        return self._favourite_sport\n",
    "    \n",
    "    def set_sport(self,_favourite_sport):\n",
    "        self._favourite_sport=_favourite_sport\n",
    "    \n",
    "    def print(self):\n",
    "        msg = self.get_name()+', born in '+str(self._birth_year)+','\n",
    "        if(self._favourite_sport == 'None'):\n",
    "            print(msg,'does not like sport')\n",
    "        else:\n",
    "            print(msg,'likes',self.get_sport())"
   ]
  },
  {
   "cell_type": "markdown",
   "metadata": {},
   "source": [
    "The class above has \n",
    "* __Name__ `Individual`\n",
    "  * We can use it to create objects representing people\n",
    "* __7 methods__, where\n",
    "  * The first argument of each method refers to the _current object_, the object on which it has been invoked\n",
    "    * By convention, we name it `self`\n",
    "* `__init__` is the constructor of objects of the class. It is executed every time we create a new object\n",
    "    * `andrea = Individual('Andrea',1984,'Rugby')`\n",
    "  * We invoke a method, e.g. `get_name` on an object `andrea` by using the _dot notation_ `andrea.get_name()`\n",
    "    * `andrea.print()`\n",
    "    * `andrea.set_sport('Rugby')`\n",
    "* __3 attributes__ attached to objects\n",
    "  * The `_name` of the individual\n",
    "  * The `_birth_year` of the individual\n",
    "  * The `_favourite_sport` of the individual if any, or initialized to `'None'` otherwise\n",
    "  * __NOTE: every object has its own copy/value for these attributes__\n",
    "  * __NOTE: by convention, attributes that should be considered private to an object (i.e., 'hidden' or not accessible from outside the object should begin with underscore__\n",
    "    * Other OOP languages allow to explicitly label attributes as public or private. \n",
    "    * In my opiniion, this is a __not nice aspect of Python__\n",
    "* __1 attribute__ attached to the class\n",
    "  * This is a sort of _global attribute_ whose value is shared by all objects\n",
    "  * __NOTE: all objects share the same value for this attribute__"
   ]
  },
  {
   "cell_type": "code",
   "execution_count": null,
   "metadata": {},
   "outputs": [],
   "source": [
    "help(Individual)"
   ]
  },
  {
   "cell_type": "markdown",
   "metadata": {},
   "source": [
    "## Objects"
   ]
  },
  {
   "cell_type": "markdown",
   "metadata": {},
   "source": [
    "Now we can \n",
    "- use the defined class `Individual` \n",
    "- to create instances of `Individual`, that is objects of such class"
   ]
  },
  {
   "cell_type": "code",
   "execution_count": null,
   "metadata": {},
   "outputs": [],
   "source": [
    "ambra = Individual('Ambra', 1984,\"Tennis\")\n",
    "print(type(ambra))\n",
    "ambra.print()\n",
    "\n",
    "andrea = Individual('Andrea',1984)\n",
    "andrea.print()\n",
    "\n",
    "andrea.set_sport('Rugby')\n",
    "andrea.print()\n",
    "\n",
    "print(\"Andrea is\",andrea.compute_age())\n",
    "print(\"Ambra is\",ambra.compute_age())\n",
    "Individual.current_year=2010\n",
    "print(\"Andrea is\",andrea.compute_age())\n",
    "print(\"Ambra is\",ambra.compute_age())"
   ]
  },
  {
   "cell_type": "markdown",
   "metadata": {},
   "source": [
    "### Two 'not nice Pyhton features' (IMHO)"
   ]
  },
  {
   "cell_type": "markdown",
   "metadata": {},
   "source": [
    "Remember: a __not nice feature__ of Python is that it cannot actually _hide_ attributes\n",
    "* A feature common of most of OO languages\n",
    "* Gives you guarantee of modularization\n",
    "* In Python, this cannot be imposed. \n",
    "  * We only have the naming convention to use '_' for attributes that should be private\n",
    "  * Then we have to hope that future developers will consider such attributes as private"
   ]
  },
  {
   "cell_type": "code",
   "execution_count": null,
   "metadata": {},
   "outputs": [],
   "source": [
    "ambra.set_name('Ambra')\n",
    "\n",
    "#No problems here\n",
    "print(ambra.get_name())\n",
    "print(ambra._name+\"\\n\")\n",
    "\n",
    "#But what about here? You can't guarantee that the name is admissible\n",
    "ambra.set_name('_wrongName')\n",
    "print('The name is',ambra.get_name()+\"\\n\")\n",
    "\n",
    "ambra._name = '_wrongName'\n",
    "print('The name is',ambra.get_name())"
   ]
  },
  {
   "cell_type": "markdown",
   "metadata": {},
   "source": [
    "Beware! A __not nice feature__ of Python is that attributes can be attached to objects on-the-fly"
   ]
  },
  {
   "cell_type": "code",
   "execution_count": null,
   "metadata": {},
   "outputs": [],
   "source": [
    "andrea.surname = 'Vandin'\n",
    "print(andrea.surname)"
   ]
  },
  {
   "cell_type": "markdown",
   "metadata": {},
   "source": [
    "## Inheritance"
   ]
  },
  {
   "cell_type": "markdown",
   "metadata": {},
   "source": [
    "A nice feature of OOP is that we can _specialize_ existing classes by _extending_ them into more specific versions\n",
    "* In the _child class_ (or __subclass__) we can reuse all unchanged code and methods from the _parent class_ (or __superclass__)\n",
    "* We only need to modify or add what changes\n",
    "    * Redefined methods are known as __overridden methods__ "
   ]
  },
  {
   "cell_type": "code",
   "execution_count": null,
   "metadata": {},
   "outputs": [],
   "source": [
    "class Student(Individual):\n",
    "    def __init__(self,name,birth_year,student_id,university,favourite_sport='None'):\n",
    "        super().__init__(name,birth_year,favourite_sport)\n",
    "        #self._name=name\n",
    "        #self._birth_year=birth_year\n",
    "        #self._favourite_sport=favourite_sport\n",
    "        #\n",
    "        \n",
    "        self._university=university\n",
    "        self._student_id=student_id\n",
    "    \n",
    "    def get_university(self):\n",
    "        return self._university\n",
    "    \n",
    "    def get_student_id(self):\n",
    "        return self._student_id\n",
    "    \n",
    "    def print(self):\n",
    "        msg = self.get_name() + ', born in ' + str(self._birth_year) + ', studies at ' + self.get_university() + ' with id ' +str(self.get_student_id())\n",
    "        if(self.get_sport()!='None'):\n",
    "            msg = msg + \". \"+self.get_name()+\" loves \"+self.get_sport()\n",
    "        print(msg)"
   ]
  },
  {
   "cell_type": "code",
   "execution_count": null,
   "metadata": {},
   "outputs": [],
   "source": [
    "marco = Student('Marco',1984,123,'SSSA')\n",
    "marco.print()\n",
    "\n",
    "marco.set_sport('Football')\n",
    "marco.print()\n",
    "\n",
    "marta = Student('Marta',1984,124,'SSSA','Tennis')\n",
    "marta.print()"
   ]
  },
  {
   "cell_type": "markdown",
   "metadata": {},
   "source": [
    "The nice thing, is that we can treat individuals and students \n",
    "- _in a very similar fashion without needing to distinguish among the different types_"
   ]
  },
  {
   "cell_type": "code",
   "execution_count": null,
   "metadata": {},
   "outputs": [],
   "source": [
    "class SportClub:\n",
    "    def __init__(self,name):\n",
    "        self._name=name\n",
    "        self._members=[]\n",
    "\n",
    "    def add_member(self,individual):\n",
    "        self._members.append(individual)\n",
    "    \n",
    "    def print(self):\n",
    "        print(self._name + ' has',len(self._members),'members:')\n",
    "        for m in self._members:\n",
    "            #We don't know if we are invoking Individual.print or Student.print\n",
    "            m.print()"
   ]
  },
  {
   "cell_type": "code",
   "execution_count": null,
   "metadata": {},
   "outputs": [],
   "source": [
    "rugby_lovers = SportClub('RubgyLovers')\n",
    "#Add the Individual andrea\n",
    "rugby_lovers.add_member(andrea)\n",
    "rugby_lovers.print()"
   ]
  },
  {
   "cell_type": "markdown",
   "metadata": {},
   "source": [
    "> The [object-oriented machinery of Python](https://docs.python.org/3/tutorial/classes.html) is actually richer than this\n",
    "> * But in this course we will not investigate this aspect any further"
   ]
  },
  {
   "cell_type": "markdown",
   "metadata": {},
   "source": [
    "# A simple example of repeated betting markets (a very simple financial market)"
   ]
  },
  {
   "cell_type": "markdown",
   "metadata": {},
   "source": [
    "We are now going to implement in Python using OOP a model of a simple _repeated betting market_ considered in:\n",
    "* [Kets, W et al, Betting Strategies, Market Selection, and the Wisdom of Crowds, 2014](https://www.aaai.org/ocs/index.php/AAAI/AAAI14/paper/viewFile/8387/8494)\n",
    "* [Bottazzi G., Giachini D., Far from the madding crowd: collective wisdom in prediction markets, 2019](https://www.tandfonline.com/doi/abs/10.1080/14697688.2019.1622285)\n",
    "\n",
    "__I thank Daniele Giachini for the great help in preparing this section__"
   ]
  },
  {
   "cell_type": "markdown",
   "metadata": {},
   "source": [
    "## Overview of the model"
   ]
  },
  {
   "cell_type": "code",
   "execution_count": null,
   "metadata": {},
   "outputs": [],
   "source": [
    "from IPython.display import Image, display\n",
    "img=Image(filename='images/bettingMarket.png',width=1000)\n",
    "display(img)"
   ]
  },
  {
   "cell_type": "markdown",
   "metadata": {},
   "source": [
    "We are going to model a market with 2 agents which place one bet per iteration\n",
    "* __Event__\n",
    "  * We observe the event `evt` \n",
    "  * At every iteration, `evt` might happen or not according to a secret probability `pEvent`\n",
    "* __Agents__\n",
    "  * Each agent has an initial amount of money, or `wealth`\n",
    "  * At every iteration, each agent places bets on the realization (happening) of `evt` or on its 'not realization'\n",
    "  * Each agent decides on what to bet, and how much to bet, depending on some factors\n",
    "    * _What to bet_: Each agent has an opinion about the probability of `evt`, stored in the attribute `belief`\n",
    "    * _How much to bet_: All agents share a common _propensity to bet_ `bet_propensity`\n",
    "        * It is a value from 0 to 1\n",
    "        * The higher is this value, the higher percentage of wealth agents will bet\n",
    "* __Bets__\n",
    "  * At every iteration, the market computes the unitary price (from 0 to 1) for betting on the realization of `evt`, `priceT`\n",
    "  * The price of betting on the non-realization of `evt` is `1-priceT`"
   ]
  },
  {
   "cell_type": "markdown",
   "metadata": {},
   "source": [
    "We begin defining the agents placing bets"
   ]
  },
  {
   "cell_type": "markdown",
   "metadata": {},
   "source": [
    "## A class for agents"
   ]
  },
  {
   "cell_type": "code",
   "execution_count": null,
   "metadata": {},
   "outputs": [],
   "source": [
    "class Agent:\n",
    "    def __init__(self,w,b):\n",
    "        self._wealth=w #my current amount of money\n",
    "        self._belief=b #my belief on the probability of evt\n",
    "        \n",
    "    def get_wealth(self):\n",
    "        return self._wealth\n",
    "        \n",
    "    def get_belief(self):\n",
    "        return self._belief\n",
    "    \n",
    "    def normalize_wealth(self,totW):\n",
    "        if(totW!=0):\n",
    "            self._wealth=self._wealth/totW\n",
    "    \n",
    "    #evtT=true: \n",
    "    #    evt realized at time t\n",
    "    #bet_propensity:\n",
    "    #    Propensity to bet in [0,1]. \n",
    "    #    The higher the value, the higher the % of wealth that agents will bet\n",
    "    #priceT:\n",
    "    #    Price to place a bet 'evt realizes'\n",
    "    #    The bet is a contract which pays 1 if evt happens\n",
    "    #1-priceT:\n",
    "    #    Price to place a bet 'evt does not realize'\n",
    "    #    The bet is a contractt which pays 1 if evt does not happen\n",
    "    \n",
    "    def update_wealth(self,evtT,bet_propensity,priceT):\n",
    "        portfolio=0\n",
    "        if evtT:\n",
    "            if priceT!=0 :    \n",
    "                #I encode the fact that the agent placed a bet on the event happening\n",
    "                #  strategy is the % of wealth bet on the event happening\n",
    "                #  This is an example of so-called fractional Kelly strategy\n",
    "                #    (1-bet_propensity)*priceT is the part of wealth I want to keep safe in my pocket :D\n",
    "                #    bet_ropensity*self.belief is how much I want to bet \n",
    "                strategy = (1 - bet_propensity)*priceT + bet_propensity*self._belief\n",
    "                #Numerator  : how much wealth I bet\n",
    "                #Denumerator: prize of the bet/contract\n",
    "                #portfolio: number of bets/contracts bought\n",
    "                portfolio = strategy*self._wealth/priceT\n",
    "        else:\n",
    "            if 1-priceT != 0 :\n",
    "                strategy = (1 - bet_propensity)*(1-priceT) + bet_propensity*(1-self._belief)\n",
    "                portfolio = strategy*self._wealth/(1-priceT)   \n",
    "        #My new wealth is the portfolio itself. Because: \n",
    "        #  Each contract/bet pays 1. \n",
    "        #  My wealth saved in the pocket is included in the portfolio.\n",
    "        self._wealth= portfolio"
   ]
  },
  {
   "cell_type": "markdown",
   "metadata": {},
   "source": [
    "The following checks are present only to avoid divisions by zero. \n",
    "* `if priceT!=0 :`\n",
    "* `if 1 - priceT != 0 :`\n",
    "\n",
    "They make the code less intuitive. \n",
    "* We could have chosen a different implementation where this is more explicit"
   ]
  },
  {
   "cell_type": "code",
   "execution_count": null,
   "metadata": {},
   "outputs": [],
   "source": [
    "class AgentWithException(Agent):\n",
    "    \n",
    "    def update_wealth(self,evtT,bet_propensity,priceT):\n",
    "        portfolio=0\n",
    "        try:\n",
    "            if evtT:\n",
    "                #I encode the fact that the agent placed a bet on the event happening\n",
    "                #  strategy is the % of wealth bet on the event happening\n",
    "                #  This is an example of fractional Kelly strategy\n",
    "                #    (1-betPropensity)*pt is the part of wealth I want to keep safe in my pocket :D\n",
    "                #    betPropensity*self.belief is how much I want to bet\n",
    "                strategy = (1 - bet_propensity)*priceT + bet_propensity*self._belief\n",
    "                #Numerator  : how much wealth I bet\n",
    "                #Denumerator: prize of the bet/contract\n",
    "                #portfolio: number of bets/contracts bought\n",
    "                portfolio = strategy*self._wealth/priceT\n",
    "            else:\n",
    "                strategy = (1 - bet_propensity)*(1-priceT) + bet_propensity*(1-self._belief)\n",
    "                portfolio = strategy*self._wealth/(1-priceT)   \n",
    "        except ZeroDivisionError:\n",
    "            portfolio=0\n",
    "        #My new wealth is the portfolio itself. Because: \n",
    "        #  Each contract/bet pays 1. \n",
    "        #  My wealth saved in the pocket is included in the portfolio.\n",
    "        self._wealth= portfolio"
   ]
  },
  {
   "cell_type": "markdown",
   "metadata": {},
   "source": [
    "## A class for the Market"
   ]
  },
  {
   "cell_type": "markdown",
   "metadata": {},
   "source": [
    "We can now define the market"
   ]
  },
  {
   "cell_type": "code",
   "execution_count": null,
   "metadata": {},
   "outputs": [],
   "source": [
    "import random\n",
    "\n",
    "class Market:\n",
    "    def __init__(self,betPropensity,pEvent,agents,seed):\n",
    "        self._bet_propensity=betPropensity\n",
    "        self._pEvent=pEvent\n",
    "        self._agents=agents\n",
    "        self._t=0\n",
    "        self._priceT=0\n",
    "        self._evtT=False\n",
    "        random.seed(seed)\n",
    "        \n",
    "    def perform_one_step(self):\n",
    "        self._t+=1\n",
    "        self._update_aggregate_measures()\n",
    "        self._sample_global_probabilistic_variables()\n",
    "        self._update_agents()\n",
    "        self._normalize_agents_measures()\n",
    "        \n",
    "    def _update_aggregate_measures(self):\n",
    "        self._priceT=0\n",
    "        for agent_i in self._agents:\n",
    "            self._priceT += agent_i.get_belief()*agent_i.get_wealth()\n",
    "        #print('New priceT',self.priceT)\n",
    "            \n",
    "    def _sample_global_probabilistic_variables(self):\n",
    "        self._evtT = (random.random() <= self._pEvent)\n",
    "        #if self.evtAtT:\n",
    "        #    print('!!!evt happened!!!')\n",
    "        \n",
    "    def _update_agents(self):\n",
    "        for agent in self._agents:\n",
    "            agent.update_wealth(self._evtT,self._bet_propensity,self._priceT)\n",
    "        \n",
    "    def _normalize_agents_measures(self):\n",
    "        totW = 0;\n",
    "        for agent in self._agents:\n",
    "            totW += agent.get_wealth()\n",
    "        for agent in self._agents:\n",
    "            agent.normalize_wealth(totW);\n",
    "            \n",
    "    def __str__(self):\n",
    "        descr = 't='+str(self._t)\n",
    "        descr+= ' priceT='+str(round(self._priceT,2))+\"\\n  \"\n",
    "        for i in range(len(self._agents)):\n",
    "            w=str(round(self._agents[i].get_wealth(),2))\n",
    "            descr+=\" w\"+str(i)+\"=\"+w\n",
    "        return descr"
   ]
  },
  {
   "cell_type": "markdown",
   "metadata": {},
   "source": [
    "## Let's run a simulation"
   ]
  },
  {
   "cell_type": "markdown",
   "metadata": {},
   "source": [
    "Let's create a Market instance, and perform some simulations"
   ]
  },
  {
   "cell_type": "code",
   "execution_count": null,
   "metadata": {},
   "outputs": [],
   "source": [
    "seed=3\n",
    "bet_propensity=0.5\n",
    "pEvent=0.65\n",
    "\n",
    "initW=[0.5,0.5]\n",
    "beliefs=[0.8,0.4]\n",
    "agents=[Agent(initW[0],beliefs[0]),Agent(initW[1],beliefs[1])]\n",
    "\n",
    "market = Market(bet_propensity,pEvent,agents,seed)\n",
    "\n",
    "print('Initially')\n",
    "print(market)\n",
    "print()\n",
    "\n",
    "# for step in range(35):\n",
    "#     print('Step',str(step+1))\n",
    "#     market.perform_one_step()\n",
    "#     print(market)\n",
    "\n",
    "for step in range(100000):\n",
    "    market.perform_one_step()\n",
    "print(market)\n",
    "print()"
   ]
  },
  {
   "cell_type": "markdown",
   "metadata": {},
   "source": [
    "## A special Noise trader"
   ]
  },
  {
   "cell_type": "markdown",
   "metadata": {},
   "source": [
    "Let us now consider a so-called _Noise trader_\n",
    "* One agent takes decisions using _uninformative data_ \n",
    "* A more precise definition can be found [here](https://www.sciencedirect.com/topics/economics-econometrics-and-finance/noise-trading)\n",
    ">  Noise traders trade on the basis of what they falsely believe to be special information or misinterpret useful information concerning the future price or payoffs of a risky asset."
   ]
  },
  {
   "cell_type": "markdown",
   "metadata": {},
   "source": [
    "We are going to consider a noise trader who changes his/her belief before every bet...\n",
    "* according to what the horoscope says :D"
   ]
  },
  {
   "cell_type": "code",
   "execution_count": null,
   "metadata": {},
   "outputs": [],
   "source": [
    "class NoiseTraderAgent(Agent):\n",
    "    def _consult_horoscope(self):\n",
    "        self._belief = random.random()\n",
    "        #print('The horoscope tells me',self.belief)\n",
    "        \n",
    "    def update_wealth(self,evtT,bet_propensity,priceT):\n",
    "        self._consult_horoscope()\n",
    "        super().update_wealth(evtT,bet_propensity,priceT)"
   ]
  },
  {
   "cell_type": "markdown",
   "metadata": {},
   "source": [
    "Let's run the same model\n",
    "* where we replace the second Agent with a NoiseTraderAgent"
   ]
  },
  {
   "cell_type": "code",
   "execution_count": null,
   "metadata": {},
   "outputs": [],
   "source": [
    "seed=3 \n",
    "bet_propensity=0.5\n",
    "pEvent=0.65\n",
    "\n",
    "initW=[0.5,0.5]\n",
    "beliefs=[0.8,0.4]\n",
    "\n",
    "agents=[Agent(initW[0],beliefs[0]),NoiseTraderAgent(initW[1],beliefs[1])]\n",
    "market = Market(bet_propensity,pEvent,agents,seed)\n",
    "\n",
    "print('Initially')\n",
    "print(market)\n",
    "print()\n",
    "\n",
    "# for step in range(35):\n",
    "#     print('Step',str(step+1))\n",
    "#     market.perform_one_step()\n",
    "#     print(market)\n",
    "\n",
    "for step in range(100000):\n",
    "    market.perform_one_step()\n",
    "print(market)"
   ]
  },
  {
   "cell_type": "markdown",
   "metadata": {},
   "source": [
    "## Anyone interested on a tesina/tesi on ABM modeling and analysis!?\n",
    "__Just contact us!__"
   ]
  }
 ],
 "metadata": {
  "kernelspec": {
   "display_name": "env_ipdp_2021",
   "language": "python",
   "name": "env_ipdp_2021"
  },
  "language_info": {
   "codemirror_mode": {
    "name": "ipython",
    "version": 3
   },
   "file_extension": ".py",
   "mimetype": "text/x-python",
   "name": "python",
   "nbconvert_exporter": "python",
   "pygments_lexer": "ipython3",
   "version": "3.8.2"
  },
  "toc-autonumbering": true
 },
 "nbformat": 4,
 "nbformat_minor": 4
}
